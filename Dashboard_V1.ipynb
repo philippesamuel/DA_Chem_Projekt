{
 "cells": [
  {
   "cell_type": "markdown",
   "metadata": {},
   "source": [
    "# Importing dataset and libaries"
   ]
  },
  {
   "cell_type": "code",
   "execution_count": null,
   "metadata": {},
   "outputs": [],
   "source": [
    "# Import needed libaries\n",
    "import pandas as pd\n",
    "import os\n",
    "import numpy as np\n",
    "import seaborn as sns\n",
    "import matplotlib.pyplot as plt\n",
    "import numpy as np\n",
    "\n",
    "# read in dataset and remove previouly set multiindex\n",
    "df = pd.read_pickle(\"df4_mean_diff_ref_added.pkl\")\n",
    "\n",
    "df"
   ]
  },
  {
   "cell_type": "code",
   "execution_count": null,
   "metadata": {},
   "outputs": [],
   "source": [
    "# Convert dates to datetime and then to mm-yyyy-dd\n",
    "df['pa_datum'] = pd.to_datetime(df['pa_datum'], format='%Y-%m-%d %H:%M:%S')\n",
    "df['pa_datum'] = df['pa_datum'].dt.date\n",
    "\n",
    "# create a 'month_year' column for grouping\n",
    "df['month_year'] = df['pa_datum'].map(lambda x: x.strftime('%Y-%m'))\n",
    "df"
   ]
  },
  {
   "cell_type": "code",
   "execution_count": null,
   "metadata": {},
   "outputs": [],
   "source": [
    "df['qc_class'] = np.where(df['qc_salzrckhalt'] > 99.5,'High', 'Low') "
   ]
  },
  {
   "cell_type": "code",
   "execution_count": null,
   "metadata": {},
   "outputs": [],
   "source": [
    "df['p_product']"
   ]
  },
  {
   "cell_type": "code",
   "execution_count": null,
   "metadata": {},
   "outputs": [],
   "source": [
    "import dash\n",
    "import plotly\n",
    "import dash_core_components as dcc\n",
    "import dash_html_components as html\n",
    "import dash_auth\n",
    "import plotly.graph_objs as go\n",
    "from plotly.subplots import make_subplots"
   ]
  },
  {
   "cell_type": "code",
   "execution_count": null,
   "metadata": {},
   "outputs": [],
   "source": [
    "print(dcc.__version__)\n",
    "print(dash.__version__)"
   ]
  },
  {
   "cell_type": "code",
   "execution_count": null,
   "metadata": {},
   "outputs": [],
   "source": [
    "# Define a color dictionary\n",
    "color = {\"green\": \"rgb(149, 192, 66)\", \"blue\": \"rgb(0, 172, 214)\", \"grey\": \"rgb(156, 157, 159)\"}"
   ]
  },
  {
   "cell_type": "markdown",
   "metadata": {},
   "source": [
    "# app.py"
   ]
  },
  {
   "cell_type": "code",
   "execution_count": null,
   "metadata": {},
   "outputs": [],
   "source": [
    "# plot three values of different period of time\n",
    "\n",
    "fig = make_subplots(rows = 3, cols = 1, shared_xaxes= False)\n",
    "\n",
    "fig.append_trace(go.Scattergl(x=df['month_year'], y=df['pa_chlorkonzentration_mean'],\n",
    "                    mode='markers',\n",
    "                    name='markers'),\n",
    "                    row = 1, col = 1)\n",
    "fig.append_trace(go.Scattergl(x=df['month_year'], y=df['pa_cm-pda_mean'],\n",
    "                    mode='markers',\n",
    "                    name='markers'),\n",
    "                    row = 2, col = 1)\n",
    "fig.append_trace(go.Scattergl(x=df['month_year'], y=df['qc_salzrckhalt'],\n",
    "                    mode='markers',\n",
    "                    name='markers'),\n",
    "                    row = 3, col = 1)\n",
    "\n",
    "fig.update_layout(height=800, width=600, title_text=\"Stacked subplots\")\n",
    "fig.show()"
   ]
  },
  {
   "cell_type": "code",
   "execution_count": null,
   "metadata": {},
   "outputs": [],
   "source": [
    "# Colorlist for the producttypes, for grouping \n",
    "colorlist = [ 'aliceblue', 'antiquewhite', 'aqua', 'aquamarine', 'azure',\n",
    "                'beige', 'bisque', 'black', 'blanchedalmond', 'blue',\n",
    "                'blueviolet', 'brown', 'burlywood', 'cadetblue',\n",
    "                'chartreuse', 'chocolate', 'coral', 'cornflowerblue',\n",
    "                'cornsilk', 'crimson', 'cyan', 'darkblue', 'darkcyan',\n",
    "                'darkgoldenrod', 'darkgray', 'darkgrey', 'darkgreen',\n",
    "                'darkkhaki', 'darkmagenta', 'darkolivegreen', 'darkorange',\n",
    "                'darkorchid', 'darkred', 'darksalmon', 'darkseagreen',\n",
    "                'darkslateblue', 'darkslategray', 'darkslategrey',\n",
    "             'mintcream', 'mistyrose', 'moccasin', 'navajowhite', 'navy',\n",
    "                'oldlace', 'olive', 'olivedrab', 'orange', 'orangered',\n",
    "                'orchid', 'palegoldenrod', 'palegreen', 'paleturquoise']#,\n",
    "                #palevioletred, papayawhip, peachpuff, peru, pink,\n",
    "                #plum, powderblue, purple, red, rosybrown,\n",
    "                #royalblue, saddlebrown, salmon, sandybrown,\n",
    "                #seagreen, seashell, sienna, silver, skyblue,\n",
    "                #slateblue, slategray, slategrey, snow, springgreen,\n",
    "                #steelblue, tan, teal, thistle, tomato, turquoise,\n",
    "                #violet, wheat, white, whitesmoke, yellow,\n",
    "                #yellowgreen]\n"
   ]
  },
  {
   "cell_type": "markdown",
   "metadata": {},
   "source": [
    "# Needed callback functions"
   ]
  },
  {
   "cell_type": "code",
   "execution_count": null,
   "metadata": {},
   "outputs": [],
   "source": [
    "def scatter_plot(df,x_feature, y_feature, clickData = None):\n",
    "    \n",
    "    i = 0\n",
    "    j = 0\n",
    "    traces = []\n",
    "    for product, producttype in df.groupby(['p_product']): # same as hue in seaborn\n",
    "        i = i+1\n",
    "        \n",
    "        traces.append(go.Scattergl(y=producttype[y_feature], # Scattergl improves perf\n",
    "                      x=producttype[x_feature], \n",
    "                      mode='markers', \n",
    "                      marker=dict(size=10,\n",
    "                                  symbol = \"circle\",\n",
    "                                  color = colorlist[i],\n",
    "                                  line=dict(width=2,\n",
    "                                            color=\"white\",\n",
    "                                           ),\n",
    "                                 ),\n",
    "                      text = df[\"p_product\"],\n",
    "                      hovertemplate= \"<b>%{text}</b><br>\"+x_feature+\": %{x}<br>\"+y_feature+\": %{y}<br>\",\n",
    "                      name = product,\n",
    "                      selected = dict(marker = dict(color = color[\"blue\"])),\n",
    "                      unselected = dict(marker = dict(opacity = 0.5)),\n",
    "                     ))\n",
    "  \n",
    "        \n",
    "        layout = go.Layout(title = dict(text = \"{} and {} of Product Type\".format(x_feature, y_feature), \n",
    "                                   x = 0.5,\n",
    "                                  ),\n",
    "                      xaxis = dict(title = \"{}\".format(x_feature), \n",
    "                                   #range = [df[x_feature].min()*0.8, df[x_feature].max()*1.2],\n",
    "                                   linecolor = \"black\", \n",
    "                                   linewidth = 1,\n",
    "                                   ticks = \"outside\",\n",
    "                                   tickcolor = \"black\", \n",
    "                                   mirror = True,\n",
    "                                   showgrid = True,\n",
    "                                   gridcolor = color[\"grey\"],\n",
    "                                   gridwidth = 1,\n",
    "                                   zeroline = True,\n",
    "                                   zerolinecolor = color[\"grey\"],\n",
    "                                   zerolinewidth = 1,\n",
    "                                  ),\n",
    "                      yaxis = dict(title = \"{}\".format(y_feature), \n",
    "                                   #range = [df[y_feature].min()*0.8, df[y_feature].max()*1.2],\n",
    "                                   linecolor = \"black\", \n",
    "                                   linewidth = 1,\n",
    "                                   ticks = \"outside\",\n",
    "                                   tickcolor = \"black\", \n",
    "                                   mirror = True,\n",
    "                                   showgrid = True,\n",
    "                                   gridcolor = color[\"grey\"],\n",
    "                                   gridwidth = 1,\n",
    "                                   zeroline = True,\n",
    "                                   zerolinecolor = color[\"grey\"],\n",
    "                                   zerolinewidth = 1,\n",
    "                                  ),    \n",
    "                      font=dict(\n",
    "                          family=\"Verdana, monospace\",        \n",
    "                          size=18,        \n",
    "                          color=\"black\"\n",
    "                      ), \n",
    "                      paper_bgcolor = \"white\",\n",
    "                      plot_bgcolor = \"white\",\n",
    "                      hovermode = \"closest\",\n",
    "                     )\n",
    "        \n",
    "        \n",
    "        \n",
    "        \n",
    "    fig = go.Figure(data = traces, layout = layout)\n",
    "    # Updating figure size\n",
    "    #fig.update_layout(\n",
    "        #autosize = False,\n",
    "       # width = 500,\n",
    "        #height = 500,\n",
    "    #)\n",
    "    \n",
    "    if clickData is not None: \n",
    "        fig.update_traces(\n",
    "            overwrite=True,\n",
    "            selectedpoints = [clickData[\"points\"][0][\"pointIndex\"]]\n",
    "            )\n",
    "            \n",
    "    return fig\n",
    "\n",
    "\n",
    "# hot-reloading by enable debug = True, if code changes site will update"
   ]
  },
  {
   "cell_type": "code",
   "execution_count": null,
   "metadata": {},
   "outputs": [],
   "source": [
    "scatter_plot(df,'pa_chlorkonzentration_mean','pa_cm-pda_mean')"
   ]
  },
  {
   "cell_type": "markdown",
   "metadata": {},
   "source": [
    "# Dashboarding"
   ]
  },
  {
   "cell_type": "code",
   "execution_count": null,
   "metadata": {},
   "outputs": [],
   "source": [
    "#Set up Dashboard\n",
    "header = 'Data Project'\n",
    "#define the border\n",
    "border = None\n",
    "#border = \"thin grey solid\"\n",
    "\n",
    "\n",
    "\n",
    "app = dash.Dash()\n",
    "\n",
    "#style definition for each html element\n",
    "app.layout = html.Div([\n",
    "    html.Div([\n",
    "        html.H1(children = header),\n",
    "        ], style = {\"border\": border, \"text-align\": \"center\", \"margin-top\": 20, \"color\": \"black\"}),\n",
    "    \n",
    "            html.Div([\n",
    "                html.Div([\n",
    "                        html.H2('Feature Correlation',\n",
    "                               style = {\"text-align\": \"center\", \"margin-top\": 18}),\n",
    "                ], style = {\"border\": border, \"margin\": \"1%\",}),\n",
    "            \n",
    "                # Dropdown menues for x and y axis in scatterplot\n",
    "                \n",
    "                html.Div([\n",
    "                 html.Div([                    \n",
    "                     html.Label(\"Select a feature for the x-axis: \"),                    \n",
    "                     html.Div([                        \n",
    "                         dcc.Dropdown(\n",
    "                             id = \"x_axis\",\n",
    "                             options  = [{\"label\": i, \"value\":i} for i in df.columns],\n",
    "                             value = \"pa_chlorkonzentration_mean\",),\n",
    "                     ], style={\"border\": border, \"margin-top\": 10, \"margin-bottom\": 10}),\n",
    "                 ], style = dict(border = border, width = \"47%\", display = \"inline-block\", margin = \"1%\")),\n",
    "                 html.Div([ \n",
    "                     html.Label(\"Select a feature for the y-axis:\"),\n",
    "                     html.Div([                        \n",
    "                         dcc.Dropdown(\n",
    "                             id=\"y_axis\",\n",
    "                             options=[{\"label\": i, \"value\": i} for i in df.columns],\n",
    "                             value=\"pa_cm-pda_mean\",),\n",
    "                     ], style={\"margin-top\": 10, \"margin-bottom\": 10}),\n",
    "                 ], style = dict(border = border, width = \"47%\", float = \"right\", display = \"inline-block\", margin = \"1%\")),\n",
    "             ], style = {\"border\": border, \"margin\": \"1%\"},\n",
    "            ),\n",
    "         dcc.Graph(id = \"solvent_scatter\", style = dict(border = border, margin = \"1%\", height='80vh')),],),\n",
    "])\n",
    "\n",
    "# 80vh adjusting to whole window\n",
    "#The callback that updates the feature plot, when the dropdown is chosen or when a point is selected\n",
    "@app.callback(\n",
    "    dash.dependencies.Output(\"solvent_scatter\", \"figure\"),\n",
    "    [dash.dependencies.Input(\"x_axis\", \"value\"),\n",
    "     dash.dependencies.Input(\"y_axis\", \"value\"),\n",
    "     dash.dependencies.Input(\"solvent_scatter\",\"clickData\")]\n",
    "    )\n",
    "                \n",
    "def update_scatter(x_axis,y_axis,clickData):\n",
    "    plot = scatter_plot(df,x_axis, y_axis, clickData)\n",
    "    return plot    \n",
    "   \n",
    "\n",
    "    \n",
    "app.run_server(port= 5001)"
   ]
  },
  {
   "cell_type": "code",
   "execution_count": null,
   "metadata": {},
   "outputs": [],
   "source": []
  },
  {
   "cell_type": "code",
   "execution_count": null,
   "metadata": {},
   "outputs": [],
   "source": []
  },
  {
   "cell_type": "code",
   "execution_count": null,
   "metadata": {},
   "outputs": [],
   "source": []
  },
  {
   "cell_type": "code",
   "execution_count": null,
   "metadata": {},
   "outputs": [],
   "source": []
  },
  {
   "cell_type": "code",
   "execution_count": null,
   "metadata": {},
   "outputs": [],
   "source": []
  },
  {
   "cell_type": "code",
   "execution_count": null,
   "metadata": {},
   "outputs": [],
   "source": []
  }
 ],
 "metadata": {
  "kernelspec": {
   "display_name": "Elron",
   "language": "python",
   "name": "elron"
  },
  "language_info": {
   "codemirror_mode": {
    "name": "ipython",
    "version": 3
   },
   "file_extension": ".py",
   "mimetype": "text/x-python",
   "name": "python",
   "nbconvert_exporter": "python",
   "pygments_lexer": "ipython3",
   "version": "3.7.4"
  },
  "toc": {
   "base_numbering": 1,
   "nav_menu": {},
   "number_sections": true,
   "sideBar": true,
   "skip_h1_title": false,
   "title_cell": "Table of Contents",
   "title_sidebar": "Contents",
   "toc_cell": false,
   "toc_position": {},
   "toc_section_display": true,
   "toc_window_display": false
  }
 },
 "nbformat": 4,
 "nbformat_minor": 2
}
