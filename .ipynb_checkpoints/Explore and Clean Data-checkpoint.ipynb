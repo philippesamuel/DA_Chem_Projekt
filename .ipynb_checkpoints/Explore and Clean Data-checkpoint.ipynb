{
 "cells": [
  {
   "cell_type": "code",
   "execution_count": 11,
   "metadata": {},
   "outputs": [],
   "source": [
    "import pandas as pd\n",
    "\n",
    "# Enables interactive figures\n",
    "import mpld3\n",
    "\n",
    "mpld3.enable_notebook()\n",
    "plt.rcParams['figure.figsize'] = [9.5, 6]\n",
    "\n",
    "import matplotlib.pyplot as plt\n"
   ]
  },
  {
   "cell_type": "code",
   "execution_count": 13,
   "metadata": {},
   "outputs": [],
   "source": [
    "# Read data from csv file\n",
    "df = pd.read_csv(\"./Data/tu_berlin_data_analytics.csv\")"
   ]
  },
  {
   "cell_type": "code",
   "execution_count": 15,
   "metadata": {},
   "outputs": [
    {
     "data": {
      "text/plain": [
       "(118687, 374)"
      ]
     },
     "execution_count": 15,
     "metadata": {},
     "output_type": "execute_result"
    }
   ],
   "source": [
    "# Check how many rows (observations) and columns (variables) the data frame has\n",
    "df.shape"
   ]
  },
  {
   "cell_type": "code",
   "execution_count": 17,
   "metadata": {},
   "outputs": [
    {
     "name": "stdout",
     "output_type": "stream",
     "text": [
      "<class 'pandas.core.frame.DataFrame'>\n",
      "RangeIndex: 118687 entries, 0 to 118686\n",
      "Columns: 374 entries, pa_datum to derived_date\n",
      "dtypes: float64(325), int64(5), object(44)\n",
      "memory usage: 338.7+ MB\n"
     ]
    }
   ],
   "source": [
    "df.info()"
   ]
  },
  {
   "cell_type": "code",
   "execution_count": 19,
   "metadata": {},
   "outputs": [
    {
     "name": "stdout",
     "output_type": "stream",
     "text": [
      "Index(['pa_datum', 'pa_ps_beschichtete_rollenlange_m',\n",
      "       'pa_beschichtete_rollenlange_m', 'pa_bahn-geschwin-digkeit_m/min',\n",
      "       'pa_badwechsel_m-pda', 'pa_badwechsel_hw1', 'pa_badwechsel_hw2',\n",
      "       'pa_badwechsel_chlor', 'pa_badwechsel_hw3',\n",
      "       'pa_raum_temperatur_start_c',\n",
      "       ...\n",
      "       'f_danfugt_as_median', 'f_codfely_median', 'temp_median',\n",
      "       'ps_f_auftragswerk_median', 'ps_dicke_median', 'reaction_start',\n",
      "       'reaction_end', 'quiver_url', 'quiver_encoded_query', 'derived_date'],\n",
      "      dtype='object', length=374)\n"
     ]
    }
   ],
   "source": [
    "print(df.columns)"
   ]
  }
 ],
 "metadata": {
  "kernelspec": {
   "display_name": "Python 3",
   "language": "python",
   "name": "python3"
  },
  "language_info": {
   "codemirror_mode": {
    "name": "ipython",
    "version": 3
   },
   "file_extension": ".py",
   "mimetype": "text/x-python",
   "name": "python",
   "nbconvert_exporter": "python",
   "pygments_lexer": "ipython3",
   "version": "3.7.3"
  }
 },
 "nbformat": 4,
 "nbformat_minor": 2
}
