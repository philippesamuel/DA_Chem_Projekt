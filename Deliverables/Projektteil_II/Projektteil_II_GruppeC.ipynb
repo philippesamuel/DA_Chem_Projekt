{
 "cells": [
  {
   "cell_type": "markdown",
   "metadata": {},
   "source": [
    "**Wichtig**:  \n",
    "* Der einzulesenen Datensatz \"process_data_df10\" soll im Ordner \"../Data/\" sein!\n",
    "* Alle in diesem Notebook erzeugten Dateien werden auch in \"..Data/\" gespeichert.\n",
    "\n",
    "\n",
    "**Notwendige Packages**: numpy, pandas, re, matplotlib, mpu\n",
    "\n",
    "---\n",
    "\n",
    "**Important**: \n",
    "* The dataframe \"process_data_df10\" has to be in the folder \"../Data\"!\n",
    "* All the files produced by this notebook will also be saved in \"..Data/\"\n",
    "\n",
    "\n",
    "**Necessary Packages**: numpy, pandas, re, matplotlib, mpu\n"
   ]
  },
  {
   "cell_type": "markdown",
   "metadata": {},
   "source": [
    "2nd Project part: Feature Engineering and Data Modeling\n",
    "===\n",
    "\n",
    "__Data Analytics für Chemieingenieure und Chemiker__\n",
    "\n",
    "Tino Mundt, M. Sc.\n",
    "\n",
    "Prof. Dr. Reinhard Schomäcker\n",
    "\n",
    "__Group C:__\n",
    "\n",
    "Frank Rudolf Hilden 364571 - Giam Chon Lee 400646 - Philippe Samuel Santos da Costa 369810 - Julian Felipe Torres Campos 402424 - Elron Elias Pens 371555\n",
    "\n",
    "__26.01.2020__"
   ]
  },
  {
   "cell_type": "markdown",
   "metadata": {},
   "source": [
    "# Hinzufügen neuer Informationen\n",
    "Zuerst werden die Reihen ohne Produktnamen aus dem bereits bereinigten Datensatz entfernt. Anschließend werden die absolute und relative Sollwerte für Salzrückhalt und Permeatdurchfluss hinzugefügt. Diese Werte sind in der offiziellen Lawabrane - Broschüre zu finden\n"
   ]
  },
  {
   "cell_type": "markdown",
   "metadata": {},
   "source": [
    "## Einlesen der daten"
   ]
  },
  {
   "cell_type": "code",
   "execution_count": 2,
   "metadata": {},
   "outputs": [],
   "source": [
    "import pandas as pd\n",
    "import numpy as np\n",
    "import csv"
   ]
  },
  {
   "cell_type": "code",
   "execution_count": null,
   "metadata": {},
   "outputs": [],
   "source": []
  }
 ],
 "metadata": {
  "kernelspec": {
   "display_name": "Python 3",
   "language": "python",
   "name": "python3"
  },
  "language_info": {
   "codemirror_mode": {
    "name": "ipython",
    "version": 3
   },
   "file_extension": ".py",
   "mimetype": "text/x-python",
   "name": "python",
   "nbconvert_exporter": "python",
   "pygments_lexer": "ipython3",
   "version": "3.7.4"
  }
 },
 "nbformat": 4,
 "nbformat_minor": 2
}
