{
 "cells": [
  {
   "cell_type": "code",
   "execution_count": 1,
   "metadata": {},
   "outputs": [],
   "source": [
    "import numpy as np\n",
    "import pandas as pd\n",
    "\n",
    "import seaborn as sns\n",
    "\n",
    "%matplotlib widget\n",
    "import matplotlib.pyplot as plt\n",
    "\n",
    "plt.rcParams['figure.figsize'] = [6,5]\n",
    "pd.options.display.max_columns = None\n",
    "sns.set(style=\"ticks\", color_codes=True)"
   ]
  },
  {
   "cell_type": "code",
   "execution_count": 3,
   "metadata": {},
   "outputs": [],
   "source": [
    "df = pd.read_pickle('./Data/process_data_df10.pkl')"
   ]
  },
  {
   "cell_type": "code",
   "execution_count": 4,
   "metadata": {},
   "outputs": [
    {
     "data": {
      "text/plain": [
       "float64                296\n",
       "object                  15\n",
       "datetime64[ns, UTC]     11\n",
       "datetime64[ns]           9\n",
       "bool                     7\n",
       "int64                    4\n",
       "category                 1\n",
       "dtype: int64"
      ]
     },
     "execution_count": 4,
     "metadata": {},
     "output_type": "execute_result"
    }
   ],
   "source": [
    "df.dtypes.value_counts()"
   ]
  },
  {
   "cell_type": "code",
   "execution_count": 5,
   "metadata": {},
   "outputs": [],
   "source": [
    "df1 = df.select_dtypes(['object','bool','int64','category'])"
   ]
  },
  {
   "cell_type": "code",
   "execution_count": 6,
   "metadata": {},
   "outputs": [],
   "source": [
    "df2 = df.copy()\n",
    "df2 = df2.droplevel(level= 0, axis='columns')\n",
    "\n",
    "XY  = df2[['nr','pp_actual_usage','p_product_group','p_product_type','p_product','qc_salzrckhalt','qc_durchfluss']]\n"
   ]
  },
  {
   "cell_type": "markdown",
   "metadata": {},
   "source": [
    "To do:\n",
    "\n",
    "- Check if `winding_product_line`, `p_product_size` are equal (3 unique values)\n",
    "\n",
    "- Check if:\n",
    "\n",
    "    - `pp_product_short_name`, `pa_rollen_seit_letztem_bad-wechsel_mpda`, `pa_rollen_seit_letztem_bad-wechsel_chlor`, `winding_product_type` (7)\n",
    "    - `p_product_type` (8)\n",
    "    - `pp_actual_product_short_name`, `winding_product_short_name` (9).\n",
    "    \n",
    "    are equal (7, 8 or 9 unique values)\n",
    "\n",
    "- Check if `pp_plan_product`, `pp_actual_product`, `p_product`, `p_product_full_name` are equal (22 unique values)"
   ]
  },
  {
   "cell_type": "markdown",
   "metadata": {},
   "source": [
    "## Drop Highly Correlated Features\n",
    "\n",
    "Source: https://chrisalbon.com/machine_learning/feature_selection/drop_highly_correlated_features/"
   ]
  },
  {
   "cell_type": "markdown",
   "metadata": {
    "jupyter": {
     "source_hidden": true
    }
   },
   "source": [
    "### Identify Highly Correlated Features"
   ]
  },
  {
   "cell_type": "code",
   "execution_count": 9,
   "metadata": {
    "jupyter": {
     "source_hidden": true
    }
   },
   "outputs": [],
   "source": [
    "# Create correlation matrix\n",
    "corr_matrix = df2.corr().abs()\n",
    "\n",
    "# Select upper triangle of correlation matrix\n",
    "upper = corr_matrix.where(np.triu(np.ones(corr_matrix.shape), k=1).astype(np.bool))\n",
    "\n",
    "# Find index of feature columns with correlation greater than 0.95\n",
    "to_drop = [column for column in upper.columns if any(upper[column] > 0.95)]"
   ]
  },
  {
   "cell_type": "markdown",
   "metadata": {
    "jupyter": {
     "source_hidden": true
    }
   },
   "source": [
    "### Drop Marked Features"
   ]
  },
  {
   "cell_type": "code",
   "execution_count": 11,
   "metadata": {
    "collapsed": true,
    "jupyter": {
     "outputs_hidden": true,
     "source_hidden": true
    }
   },
   "outputs": [
    {
     "ename": "KeyError",
     "evalue": "\"None of [Index([                      ('pa', 'pa_bad-wechsel_hw1'),\\n                           ('pa', 'pa_bad-wechsel_chlor'),\\n                             ('pa', 'pa_bad-wechsel_hw3'),\\n                      ('pa', 'pa_bad-wechsel_chlor_nach'),\\n       ('pa', 'pa_rollen_seit_letztem_bad-wechsel_chlor')],\\n      dtype='object')] are in the [columns]\"",
     "output_type": "error",
     "traceback": [
      "\u001b[1;31m---------------------------------------------------------------------------\u001b[0m",
      "\u001b[1;31mKeyError\u001b[0m                                  Traceback (most recent call last)",
      "\u001b[1;32m<ipython-input-11-18f01ee26895>\u001b[0m in \u001b[0;36m<module>\u001b[1;34m\u001b[0m\n\u001b[0;32m      1\u001b[0m \u001b[1;31m# Drop features\u001b[0m\u001b[1;33m\u001b[0m\u001b[1;33m\u001b[0m\u001b[1;33m\u001b[0m\u001b[0m\n\u001b[1;32m----> 2\u001b[1;33m \u001b[0mdf2\u001b[0m\u001b[1;33m.\u001b[0m\u001b[0mdrop\u001b[0m\u001b[1;33m(\u001b[0m\u001b[0mdf2\u001b[0m\u001b[1;33m[\u001b[0m\u001b[0mto_drop\u001b[0m\u001b[1;33m]\u001b[0m\u001b[1;33m,\u001b[0m \u001b[0maxis\u001b[0m\u001b[1;33m=\u001b[0m\u001b[1;36m1\u001b[0m\u001b[1;33m)\u001b[0m\u001b[1;33m\u001b[0m\u001b[1;33m\u001b[0m\u001b[0m\n\u001b[0m",
      "\u001b[1;32m~\\Anaconda3\\envs\\da_chem\\lib\\site-packages\\pandas\\core\\frame.py\u001b[0m in \u001b[0;36m__getitem__\u001b[1;34m(self, key)\u001b[0m\n\u001b[0;32m   2999\u001b[0m             \u001b[1;32mif\u001b[0m \u001b[0mis_iterator\u001b[0m\u001b[1;33m(\u001b[0m\u001b[0mkey\u001b[0m\u001b[1;33m)\u001b[0m\u001b[1;33m:\u001b[0m\u001b[1;33m\u001b[0m\u001b[1;33m\u001b[0m\u001b[0m\n\u001b[0;32m   3000\u001b[0m                 \u001b[0mkey\u001b[0m \u001b[1;33m=\u001b[0m \u001b[0mlist\u001b[0m\u001b[1;33m(\u001b[0m\u001b[0mkey\u001b[0m\u001b[1;33m)\u001b[0m\u001b[1;33m\u001b[0m\u001b[1;33m\u001b[0m\u001b[0m\n\u001b[1;32m-> 3001\u001b[1;33m             \u001b[0mindexer\u001b[0m \u001b[1;33m=\u001b[0m \u001b[0mself\u001b[0m\u001b[1;33m.\u001b[0m\u001b[0mloc\u001b[0m\u001b[1;33m.\u001b[0m\u001b[0m_convert_to_indexer\u001b[0m\u001b[1;33m(\u001b[0m\u001b[0mkey\u001b[0m\u001b[1;33m,\u001b[0m \u001b[0maxis\u001b[0m\u001b[1;33m=\u001b[0m\u001b[1;36m1\u001b[0m\u001b[1;33m,\u001b[0m \u001b[0mraise_missing\u001b[0m\u001b[1;33m=\u001b[0m\u001b[1;32mTrue\u001b[0m\u001b[1;33m)\u001b[0m\u001b[1;33m\u001b[0m\u001b[1;33m\u001b[0m\u001b[0m\n\u001b[0m\u001b[0;32m   3002\u001b[0m \u001b[1;33m\u001b[0m\u001b[0m\n\u001b[0;32m   3003\u001b[0m         \u001b[1;31m# take() does not accept boolean indexers\u001b[0m\u001b[1;33m\u001b[0m\u001b[1;33m\u001b[0m\u001b[1;33m\u001b[0m\u001b[0m\n",
      "\u001b[1;32m~\\Anaconda3\\envs\\da_chem\\lib\\site-packages\\pandas\\core\\indexing.py\u001b[0m in \u001b[0;36m_convert_to_indexer\u001b[1;34m(self, obj, axis, is_setter, raise_missing)\u001b[0m\n\u001b[0;32m   1283\u001b[0m                 \u001b[1;31m# When setting, missing keys are not allowed, even with .loc:\u001b[0m\u001b[1;33m\u001b[0m\u001b[1;33m\u001b[0m\u001b[1;33m\u001b[0m\u001b[0m\n\u001b[0;32m   1284\u001b[0m                 \u001b[0mkwargs\u001b[0m \u001b[1;33m=\u001b[0m \u001b[1;33m{\u001b[0m\u001b[1;34m\"raise_missing\"\u001b[0m\u001b[1;33m:\u001b[0m \u001b[1;32mTrue\u001b[0m \u001b[1;32mif\u001b[0m \u001b[0mis_setter\u001b[0m \u001b[1;32melse\u001b[0m \u001b[0mraise_missing\u001b[0m\u001b[1;33m}\u001b[0m\u001b[1;33m\u001b[0m\u001b[1;33m\u001b[0m\u001b[0m\n\u001b[1;32m-> 1285\u001b[1;33m                 \u001b[1;32mreturn\u001b[0m \u001b[0mself\u001b[0m\u001b[1;33m.\u001b[0m\u001b[0m_get_listlike_indexer\u001b[0m\u001b[1;33m(\u001b[0m\u001b[0mobj\u001b[0m\u001b[1;33m,\u001b[0m \u001b[0maxis\u001b[0m\u001b[1;33m,\u001b[0m \u001b[1;33m**\u001b[0m\u001b[0mkwargs\u001b[0m\u001b[1;33m)\u001b[0m\u001b[1;33m[\u001b[0m\u001b[1;36m1\u001b[0m\u001b[1;33m]\u001b[0m\u001b[1;33m\u001b[0m\u001b[1;33m\u001b[0m\u001b[0m\n\u001b[0m\u001b[0;32m   1286\u001b[0m         \u001b[1;32melse\u001b[0m\u001b[1;33m:\u001b[0m\u001b[1;33m\u001b[0m\u001b[1;33m\u001b[0m\u001b[0m\n\u001b[0;32m   1287\u001b[0m             \u001b[1;32mtry\u001b[0m\u001b[1;33m:\u001b[0m\u001b[1;33m\u001b[0m\u001b[1;33m\u001b[0m\u001b[0m\n",
      "\u001b[1;32m~\\Anaconda3\\envs\\da_chem\\lib\\site-packages\\pandas\\core\\indexing.py\u001b[0m in \u001b[0;36m_get_listlike_indexer\u001b[1;34m(self, key, axis, raise_missing)\u001b[0m\n\u001b[0;32m   1090\u001b[0m \u001b[1;33m\u001b[0m\u001b[0m\n\u001b[0;32m   1091\u001b[0m         self._validate_read_indexer(\n\u001b[1;32m-> 1092\u001b[1;33m             \u001b[0mkeyarr\u001b[0m\u001b[1;33m,\u001b[0m \u001b[0mindexer\u001b[0m\u001b[1;33m,\u001b[0m \u001b[0mo\u001b[0m\u001b[1;33m.\u001b[0m\u001b[0m_get_axis_number\u001b[0m\u001b[1;33m(\u001b[0m\u001b[0maxis\u001b[0m\u001b[1;33m)\u001b[0m\u001b[1;33m,\u001b[0m \u001b[0mraise_missing\u001b[0m\u001b[1;33m=\u001b[0m\u001b[0mraise_missing\u001b[0m\u001b[1;33m\u001b[0m\u001b[1;33m\u001b[0m\u001b[0m\n\u001b[0m\u001b[0;32m   1093\u001b[0m         )\n\u001b[0;32m   1094\u001b[0m         \u001b[1;32mreturn\u001b[0m \u001b[0mkeyarr\u001b[0m\u001b[1;33m,\u001b[0m \u001b[0mindexer\u001b[0m\u001b[1;33m\u001b[0m\u001b[1;33m\u001b[0m\u001b[0m\n",
      "\u001b[1;32m~\\Anaconda3\\envs\\da_chem\\lib\\site-packages\\pandas\\core\\indexing.py\u001b[0m in \u001b[0;36m_validate_read_indexer\u001b[1;34m(self, key, indexer, axis, raise_missing)\u001b[0m\n\u001b[0;32m   1175\u001b[0m                 raise KeyError(\n\u001b[0;32m   1176\u001b[0m                     \"None of [{key}] are in the [{axis}]\".format(\n\u001b[1;32m-> 1177\u001b[1;33m                         \u001b[0mkey\u001b[0m\u001b[1;33m=\u001b[0m\u001b[0mkey\u001b[0m\u001b[1;33m,\u001b[0m \u001b[0maxis\u001b[0m\u001b[1;33m=\u001b[0m\u001b[0mself\u001b[0m\u001b[1;33m.\u001b[0m\u001b[0mobj\u001b[0m\u001b[1;33m.\u001b[0m\u001b[0m_get_axis_name\u001b[0m\u001b[1;33m(\u001b[0m\u001b[0maxis\u001b[0m\u001b[1;33m)\u001b[0m\u001b[1;33m\u001b[0m\u001b[1;33m\u001b[0m\u001b[0m\n\u001b[0m\u001b[0;32m   1178\u001b[0m                     )\n\u001b[0;32m   1179\u001b[0m                 )\n",
      "\u001b[1;31mKeyError\u001b[0m: \"None of [Index([                      ('pa', 'pa_bad-wechsel_hw1'),\\n                           ('pa', 'pa_bad-wechsel_chlor'),\\n                             ('pa', 'pa_bad-wechsel_hw3'),\\n                      ('pa', 'pa_bad-wechsel_chlor_nach'),\\n       ('pa', 'pa_rollen_seit_letztem_bad-wechsel_chlor')],\\n      dtype='object')] are in the [columns]\""
     ]
    }
   ],
   "source": [
    "# Drop features \n",
    "df2.drop(df2[to_drop], axis=1)"
   ]
  },
  {
   "cell_type": "markdown",
   "metadata": {},
   "source": [
    "### Identify Highly Correlated Features"
   ]
  },
  {
   "cell_type": "code",
   "execution_count": 12,
   "metadata": {},
   "outputs": [],
   "source": [
    "# Create correlation matrix\n",
    "corr_matrix = df1.corr().abs()\n",
    "\n",
    "# Select upper triangle of correlation matrix\n",
    "upper = corr_matrix.where(np.triu(np.ones(corr_matrix.shape), k=1).astype(np.bool))\n",
    "\n",
    "# Find index of feature columns with correlation greater than 0.95\n",
    "to_drop = [column for column in upper.columns if any(upper[column] > 0.95)]"
   ]
  },
  {
   "cell_type": "markdown",
   "metadata": {},
   "source": [
    "### Drop Marked Features"
   ]
  },
  {
   "cell_type": "code",
   "execution_count": 13,
   "metadata": {},
   "outputs": [
    {
     "data": {
      "text/html": [
       "<div>\n",
       "<style scoped>\n",
       "    .dataframe tbody tr th:only-of-type {\n",
       "        vertical-align: middle;\n",
       "    }\n",
       "\n",
       "    .dataframe tbody tr th {\n",
       "        vertical-align: top;\n",
       "    }\n",
       "\n",
       "    .dataframe thead tr th {\n",
       "        text-align: left;\n",
       "    }\n",
       "</style>\n",
       "<table border=\"1\" class=\"dataframe\">\n",
       "  <thead>\n",
       "    <tr>\n",
       "      <th></th>\n",
       "      <th>ps</th>\n",
       "      <th colspan=\"10\" halign=\"left\">pa</th>\n",
       "      <th colspan=\"3\" halign=\"left\">ass</th>\n",
       "      <th colspan=\"8\" halign=\"left\">qc</th>\n",
       "    </tr>\n",
       "    <tr>\n",
       "      <th></th>\n",
       "      <th>ps</th>\n",
       "      <th>pa_bad-wechsel_m-pda</th>\n",
       "      <th>pa_bad-wechsel_hw2</th>\n",
       "      <th>pa_bad-wechsel_mpda_nach</th>\n",
       "      <th>pp_product_short_name</th>\n",
       "      <th>pp_plan_product</th>\n",
       "      <th>pp_actual_product_short_name</th>\n",
       "      <th>pp_actual_product</th>\n",
       "      <th>pp_actual_usage</th>\n",
       "      <th>pa_rollen_seit_letztem_bad-wechsel_mpda</th>\n",
       "      <th>pa_ref</th>\n",
       "      <th>winding_product_short_name</th>\n",
       "      <th>winding_product_type</th>\n",
       "      <th>winding_product_line</th>\n",
       "      <th>qc_serien_nummer</th>\n",
       "      <th>qc_barcode_leak_test_values</th>\n",
       "      <th>qc_faktorkonzentration</th>\n",
       "      <th>p_product</th>\n",
       "      <th>p_product_full_name</th>\n",
       "      <th>p_product_group</th>\n",
       "      <th>p_product_type</th>\n",
       "      <th>p_product_size</th>\n",
       "    </tr>\n",
       "  </thead>\n",
       "  <tbody>\n",
       "    <tr>\n",
       "      <th>0</th>\n",
       "      <td>cb031d4b18ff</td>\n",
       "      <td>False</td>\n",
       "      <td>True</td>\n",
       "      <td>False</td>\n",
       "      <td>6989995295da</td>\n",
       "      <td>1c39db15c26b</td>\n",
       "      <td>6989995295da</td>\n",
       "      <td>1c39db15c26b</td>\n",
       "      <td>use</td>\n",
       "      <td>2</td>\n",
       "      <td>bc7e29194383</td>\n",
       "      <td>6989995295da</td>\n",
       "      <td>6989995295da</td>\n",
       "      <td>9bec1f36ec0d</td>\n",
       "      <td>6f5dd5e75de0</td>\n",
       "      <td>NaN</td>\n",
       "      <td>1</td>\n",
       "      <td>B400 LE ASD</td>\n",
       "      <td>b3ccc5e5f9b5</td>\n",
       "      <td>Brackwasserelemente</td>\n",
       "      <td>6989995295da</td>\n",
       "      <td>8</td>\n",
       "    </tr>\n",
       "    <tr>\n",
       "      <th>1</th>\n",
       "      <td>cb031d4b18ff</td>\n",
       "      <td>False</td>\n",
       "      <td>True</td>\n",
       "      <td>False</td>\n",
       "      <td>6989995295da</td>\n",
       "      <td>1c39db15c26b</td>\n",
       "      <td>6989995295da</td>\n",
       "      <td>1c39db15c26b</td>\n",
       "      <td>use</td>\n",
       "      <td>2</td>\n",
       "      <td>bc7e29194383</td>\n",
       "      <td>6989995295da</td>\n",
       "      <td>6989995295da</td>\n",
       "      <td>9bec1f36ec0d</td>\n",
       "      <td>e83198853aa3</td>\n",
       "      <td>NaN</td>\n",
       "      <td>1</td>\n",
       "      <td>B400 LE ASD</td>\n",
       "      <td>b3ccc5e5f9b5</td>\n",
       "      <td>Brackwasserelemente</td>\n",
       "      <td>6989995295da</td>\n",
       "      <td>8</td>\n",
       "    </tr>\n",
       "    <tr>\n",
       "      <th>2</th>\n",
       "      <td>cb031d4b18ff</td>\n",
       "      <td>False</td>\n",
       "      <td>True</td>\n",
       "      <td>False</td>\n",
       "      <td>6989995295da</td>\n",
       "      <td>1c39db15c26b</td>\n",
       "      <td>6989995295da</td>\n",
       "      <td>1c39db15c26b</td>\n",
       "      <td>use</td>\n",
       "      <td>2</td>\n",
       "      <td>bc7e29194383</td>\n",
       "      <td>6989995295da</td>\n",
       "      <td>6989995295da</td>\n",
       "      <td>9bec1f36ec0d</td>\n",
       "      <td>0c6c47811c04</td>\n",
       "      <td>NaN</td>\n",
       "      <td>1</td>\n",
       "      <td>B400 LE ASD</td>\n",
       "      <td>b3ccc5e5f9b5</td>\n",
       "      <td>Brackwasserelemente</td>\n",
       "      <td>6989995295da</td>\n",
       "      <td>8</td>\n",
       "    </tr>\n",
       "    <tr>\n",
       "      <th>3</th>\n",
       "      <td>cb031d4b18ff</td>\n",
       "      <td>False</td>\n",
       "      <td>True</td>\n",
       "      <td>False</td>\n",
       "      <td>6989995295da</td>\n",
       "      <td>1c39db15c26b</td>\n",
       "      <td>6989995295da</td>\n",
       "      <td>1c39db15c26b</td>\n",
       "      <td>use</td>\n",
       "      <td>2</td>\n",
       "      <td>bc7e29194383</td>\n",
       "      <td>6989995295da</td>\n",
       "      <td>6989995295da</td>\n",
       "      <td>9bec1f36ec0d</td>\n",
       "      <td>6b51542380df</td>\n",
       "      <td>NaN</td>\n",
       "      <td>1</td>\n",
       "      <td>B400 LE ASD</td>\n",
       "      <td>b3ccc5e5f9b5</td>\n",
       "      <td>Brackwasserelemente</td>\n",
       "      <td>6989995295da</td>\n",
       "      <td>8</td>\n",
       "    </tr>\n",
       "    <tr>\n",
       "      <th>4</th>\n",
       "      <td>cb031d4b18ff</td>\n",
       "      <td>False</td>\n",
       "      <td>True</td>\n",
       "      <td>False</td>\n",
       "      <td>6989995295da</td>\n",
       "      <td>1c39db15c26b</td>\n",
       "      <td>6989995295da</td>\n",
       "      <td>1c39db15c26b</td>\n",
       "      <td>use</td>\n",
       "      <td>2</td>\n",
       "      <td>bc7e29194383</td>\n",
       "      <td>6989995295da</td>\n",
       "      <td>6989995295da</td>\n",
       "      <td>9bec1f36ec0d</td>\n",
       "      <td>58df9ba0a603</td>\n",
       "      <td>NaN</td>\n",
       "      <td>1</td>\n",
       "      <td>B400 LE ASD</td>\n",
       "      <td>b3ccc5e5f9b5</td>\n",
       "      <td>Brackwasserelemente</td>\n",
       "      <td>6989995295da</td>\n",
       "      <td>8</td>\n",
       "    </tr>\n",
       "    <tr>\n",
       "      <th>...</th>\n",
       "      <td>...</td>\n",
       "      <td>...</td>\n",
       "      <td>...</td>\n",
       "      <td>...</td>\n",
       "      <td>...</td>\n",
       "      <td>...</td>\n",
       "      <td>...</td>\n",
       "      <td>...</td>\n",
       "      <td>...</td>\n",
       "      <td>...</td>\n",
       "      <td>...</td>\n",
       "      <td>...</td>\n",
       "      <td>...</td>\n",
       "      <td>...</td>\n",
       "      <td>...</td>\n",
       "      <td>...</td>\n",
       "      <td>...</td>\n",
       "      <td>...</td>\n",
       "      <td>...</td>\n",
       "      <td>...</td>\n",
       "      <td>...</td>\n",
       "      <td>...</td>\n",
       "    </tr>\n",
       "    <tr>\n",
       "      <th>118682</th>\n",
       "      <td>3fa606fdd9e8</td>\n",
       "      <td>True</td>\n",
       "      <td>True</td>\n",
       "      <td>False</td>\n",
       "      <td>6989995295da</td>\n",
       "      <td>1c39db15c26b</td>\n",
       "      <td>6989995295da</td>\n",
       "      <td>1c39db15c26b</td>\n",
       "      <td>use</td>\n",
       "      <td>1</td>\n",
       "      <td>0a0d4ada494a</td>\n",
       "      <td>6989995295da</td>\n",
       "      <td>6989995295da</td>\n",
       "      <td>6aa9aee40c62</td>\n",
       "      <td>55315e14346a</td>\n",
       "      <td>NaN</td>\n",
       "      <td>1</td>\n",
       "      <td>B400 LE ASD</td>\n",
       "      <td>b3ccc5e5f9b5</td>\n",
       "      <td>Brackwasserelemente</td>\n",
       "      <td>6989995295da</td>\n",
       "      <td>8</td>\n",
       "    </tr>\n",
       "    <tr>\n",
       "      <th>118683</th>\n",
       "      <td>3fa606fdd9e8</td>\n",
       "      <td>True</td>\n",
       "      <td>True</td>\n",
       "      <td>False</td>\n",
       "      <td>6989995295da</td>\n",
       "      <td>1c39db15c26b</td>\n",
       "      <td>6989995295da</td>\n",
       "      <td>1c39db15c26b</td>\n",
       "      <td>use</td>\n",
       "      <td>1</td>\n",
       "      <td>0a0d4ada494a</td>\n",
       "      <td>6989995295da</td>\n",
       "      <td>6989995295da</td>\n",
       "      <td>6aa9aee40c62</td>\n",
       "      <td>5e840146da5b</td>\n",
       "      <td>NaN</td>\n",
       "      <td>1</td>\n",
       "      <td>B400 LE ASD</td>\n",
       "      <td>b3ccc5e5f9b5</td>\n",
       "      <td>Brackwasserelemente</td>\n",
       "      <td>6989995295da</td>\n",
       "      <td>8</td>\n",
       "    </tr>\n",
       "    <tr>\n",
       "      <th>118684</th>\n",
       "      <td>3fa606fdd9e8</td>\n",
       "      <td>True</td>\n",
       "      <td>True</td>\n",
       "      <td>False</td>\n",
       "      <td>6989995295da</td>\n",
       "      <td>1c39db15c26b</td>\n",
       "      <td>6989995295da</td>\n",
       "      <td>1c39db15c26b</td>\n",
       "      <td>use</td>\n",
       "      <td>1</td>\n",
       "      <td>0a0d4ada494a</td>\n",
       "      <td>6989995295da</td>\n",
       "      <td>6989995295da</td>\n",
       "      <td>6aa9aee40c62</td>\n",
       "      <td>05ac5c0533e3</td>\n",
       "      <td>NaN</td>\n",
       "      <td>1</td>\n",
       "      <td>B400 LE ASD</td>\n",
       "      <td>b3ccc5e5f9b5</td>\n",
       "      <td>Brackwasserelemente</td>\n",
       "      <td>6989995295da</td>\n",
       "      <td>8</td>\n",
       "    </tr>\n",
       "    <tr>\n",
       "      <th>118685</th>\n",
       "      <td>3fa606fdd9e8</td>\n",
       "      <td>True</td>\n",
       "      <td>True</td>\n",
       "      <td>False</td>\n",
       "      <td>6989995295da</td>\n",
       "      <td>1c39db15c26b</td>\n",
       "      <td>6989995295da</td>\n",
       "      <td>1c39db15c26b</td>\n",
       "      <td>use</td>\n",
       "      <td>1</td>\n",
       "      <td>0a0d4ada494a</td>\n",
       "      <td>6989995295da</td>\n",
       "      <td>6989995295da</td>\n",
       "      <td>6aa9aee40c62</td>\n",
       "      <td>b629f239aa69</td>\n",
       "      <td>NaN</td>\n",
       "      <td>1</td>\n",
       "      <td>B400 LE ASD</td>\n",
       "      <td>b3ccc5e5f9b5</td>\n",
       "      <td>Brackwasserelemente</td>\n",
       "      <td>6989995295da</td>\n",
       "      <td>8</td>\n",
       "    </tr>\n",
       "    <tr>\n",
       "      <th>118686</th>\n",
       "      <td>3fa606fdd9e8</td>\n",
       "      <td>True</td>\n",
       "      <td>True</td>\n",
       "      <td>False</td>\n",
       "      <td>6989995295da</td>\n",
       "      <td>1c39db15c26b</td>\n",
       "      <td>6989995295da</td>\n",
       "      <td>1c39db15c26b</td>\n",
       "      <td>use</td>\n",
       "      <td>1</td>\n",
       "      <td>0a0d4ada494a</td>\n",
       "      <td>6989995295da</td>\n",
       "      <td>6989995295da</td>\n",
       "      <td>6aa9aee40c62</td>\n",
       "      <td>44994043c050</td>\n",
       "      <td>NaN</td>\n",
       "      <td>1</td>\n",
       "      <td>B400 LE ASD</td>\n",
       "      <td>b3ccc5e5f9b5</td>\n",
       "      <td>Brackwasserelemente</td>\n",
       "      <td>6989995295da</td>\n",
       "      <td>8</td>\n",
       "    </tr>\n",
       "  </tbody>\n",
       "</table>\n",
       "<p>118687 rows × 22 columns</p>\n",
       "</div>"
      ],
      "text/plain": [
       "                  ps                   pa                     \\\n",
       "                  ps pa_bad-wechsel_m-pda pa_bad-wechsel_hw2   \n",
       "0       cb031d4b18ff                False               True   \n",
       "1       cb031d4b18ff                False               True   \n",
       "2       cb031d4b18ff                False               True   \n",
       "3       cb031d4b18ff                False               True   \n",
       "4       cb031d4b18ff                False               True   \n",
       "...              ...                  ...                ...   \n",
       "118682  3fa606fdd9e8                 True               True   \n",
       "118683  3fa606fdd9e8                 True               True   \n",
       "118684  3fa606fdd9e8                 True               True   \n",
       "118685  3fa606fdd9e8                 True               True   \n",
       "118686  3fa606fdd9e8                 True               True   \n",
       "\n",
       "                                                                       \\\n",
       "       pa_bad-wechsel_mpda_nach pp_product_short_name pp_plan_product   \n",
       "0                         False          6989995295da    1c39db15c26b   \n",
       "1                         False          6989995295da    1c39db15c26b   \n",
       "2                         False          6989995295da    1c39db15c26b   \n",
       "3                         False          6989995295da    1c39db15c26b   \n",
       "4                         False          6989995295da    1c39db15c26b   \n",
       "...                         ...                   ...             ...   \n",
       "118682                    False          6989995295da    1c39db15c26b   \n",
       "118683                    False          6989995295da    1c39db15c26b   \n",
       "118684                    False          6989995295da    1c39db15c26b   \n",
       "118685                    False          6989995295da    1c39db15c26b   \n",
       "118686                    False          6989995295da    1c39db15c26b   \n",
       "\n",
       "                                                                       \\\n",
       "       pp_actual_product_short_name pp_actual_product pp_actual_usage   \n",
       "0                      6989995295da      1c39db15c26b             use   \n",
       "1                      6989995295da      1c39db15c26b             use   \n",
       "2                      6989995295da      1c39db15c26b             use   \n",
       "3                      6989995295da      1c39db15c26b             use   \n",
       "4                      6989995295da      1c39db15c26b             use   \n",
       "...                             ...               ...             ...   \n",
       "118682                 6989995295da      1c39db15c26b             use   \n",
       "118683                 6989995295da      1c39db15c26b             use   \n",
       "118684                 6989995295da      1c39db15c26b             use   \n",
       "118685                 6989995295da      1c39db15c26b             use   \n",
       "118686                 6989995295da      1c39db15c26b             use   \n",
       "\n",
       "                                                              \\\n",
       "       pa_rollen_seit_letztem_bad-wechsel_mpda        pa_ref   \n",
       "0                                            2  bc7e29194383   \n",
       "1                                            2  bc7e29194383   \n",
       "2                                            2  bc7e29194383   \n",
       "3                                            2  bc7e29194383   \n",
       "4                                            2  bc7e29194383   \n",
       "...                                        ...           ...   \n",
       "118682                                       1  0a0d4ada494a   \n",
       "118683                                       1  0a0d4ada494a   \n",
       "118684                                       1  0a0d4ada494a   \n",
       "118685                                       1  0a0d4ada494a   \n",
       "118686                                       1  0a0d4ada494a   \n",
       "\n",
       "                              ass                                            \\\n",
       "       winding_product_short_name winding_product_type winding_product_line   \n",
       "0                    6989995295da         6989995295da         9bec1f36ec0d   \n",
       "1                    6989995295da         6989995295da         9bec1f36ec0d   \n",
       "2                    6989995295da         6989995295da         9bec1f36ec0d   \n",
       "3                    6989995295da         6989995295da         9bec1f36ec0d   \n",
       "4                    6989995295da         6989995295da         9bec1f36ec0d   \n",
       "...                           ...                  ...                  ...   \n",
       "118682               6989995295da         6989995295da         6aa9aee40c62   \n",
       "118683               6989995295da         6989995295da         6aa9aee40c62   \n",
       "118684               6989995295da         6989995295da         6aa9aee40c62   \n",
       "118685               6989995295da         6989995295da         6aa9aee40c62   \n",
       "118686               6989995295da         6989995295da         6aa9aee40c62   \n",
       "\n",
       "                     qc                                                     \\\n",
       "       qc_serien_nummer qc_barcode_leak_test_values qc_faktorkonzentration   \n",
       "0          6f5dd5e75de0                         NaN                      1   \n",
       "1          e83198853aa3                         NaN                      1   \n",
       "2          0c6c47811c04                         NaN                      1   \n",
       "3          6b51542380df                         NaN                      1   \n",
       "4          58df9ba0a603                         NaN                      1   \n",
       "...                 ...                         ...                    ...   \n",
       "118682     55315e14346a                         NaN                      1   \n",
       "118683     5e840146da5b                         NaN                      1   \n",
       "118684     05ac5c0533e3                         NaN                      1   \n",
       "118685     b629f239aa69                         NaN                      1   \n",
       "118686     44994043c050                         NaN                      1   \n",
       "\n",
       "                                                                             \\\n",
       "          p_product p_product_full_name      p_product_group p_product_type   \n",
       "0       B400 LE ASD        b3ccc5e5f9b5  Brackwasserelemente   6989995295da   \n",
       "1       B400 LE ASD        b3ccc5e5f9b5  Brackwasserelemente   6989995295da   \n",
       "2       B400 LE ASD        b3ccc5e5f9b5  Brackwasserelemente   6989995295da   \n",
       "3       B400 LE ASD        b3ccc5e5f9b5  Brackwasserelemente   6989995295da   \n",
       "4       B400 LE ASD        b3ccc5e5f9b5  Brackwasserelemente   6989995295da   \n",
       "...             ...                 ...                  ...            ...   \n",
       "118682  B400 LE ASD        b3ccc5e5f9b5  Brackwasserelemente   6989995295da   \n",
       "118683  B400 LE ASD        b3ccc5e5f9b5  Brackwasserelemente   6989995295da   \n",
       "118684  B400 LE ASD        b3ccc5e5f9b5  Brackwasserelemente   6989995295da   \n",
       "118685  B400 LE ASD        b3ccc5e5f9b5  Brackwasserelemente   6989995295da   \n",
       "118686  B400 LE ASD        b3ccc5e5f9b5  Brackwasserelemente   6989995295da   \n",
       "\n",
       "                       \n",
       "       p_product_size  \n",
       "0                   8  \n",
       "1                   8  \n",
       "2                   8  \n",
       "3                   8  \n",
       "4                   8  \n",
       "...               ...  \n",
       "118682              8  \n",
       "118683              8  \n",
       "118684              8  \n",
       "118685              8  \n",
       "118686              8  \n",
       "\n",
       "[118687 rows x 22 columns]"
      ]
     },
     "execution_count": 13,
     "metadata": {},
     "output_type": "execute_result"
    }
   ],
   "source": [
    "# Drop features \n",
    "df1.drop(df1[to_drop], axis=1)"
   ]
  },
  {
   "cell_type": "code",
   "execution_count": null,
   "metadata": {},
   "outputs": [],
   "source": [
    "df1"
   ]
  },
  {
   "cell_type": "code",
   "execution_count": 14,
   "metadata": {},
   "outputs": [
    {
     "data": {
      "text/plain": [
       "[('pa', 'pa_bad-wechsel_hw1'),\n",
       " ('pa', 'pa_bad-wechsel_chlor'),\n",
       " ('pa', 'pa_bad-wechsel_hw3'),\n",
       " ('pa', 'pa_bad-wechsel_chlor_nach'),\n",
       " ('pa', 'pa_rollen_seit_letztem_bad-wechsel_chlor')]"
      ]
     },
     "execution_count": 14,
     "metadata": {},
     "output_type": "execute_result"
    }
   ],
   "source": [
    "to_drop"
   ]
  },
  {
   "cell_type": "code",
   "execution_count": 15,
   "metadata": {
    "collapsed": true,
    "jupyter": {
     "outputs_hidden": true
    }
   },
   "outputs": [
    {
     "data": {
      "text/html": [
       "<div>\n",
       "<style scoped>\n",
       "    .dataframe tbody tr th:only-of-type {\n",
       "        vertical-align: middle;\n",
       "    }\n",
       "\n",
       "    .dataframe tbody tr th {\n",
       "        vertical-align: top;\n",
       "    }\n",
       "\n",
       "    .dataframe thead tr th {\n",
       "        text-align: left;\n",
       "    }\n",
       "</style>\n",
       "<table border=\"1\" class=\"dataframe\">\n",
       "  <thead>\n",
       "    <tr>\n",
       "      <th></th>\n",
       "      <th></th>\n",
       "      <th colspan=\"9\" halign=\"left\">pa</th>\n",
       "      <th colspan=\"2\" halign=\"left\">qc</th>\n",
       "    </tr>\n",
       "    <tr>\n",
       "      <th></th>\n",
       "      <th></th>\n",
       "      <th>pa_bad-wechsel_m-pda</th>\n",
       "      <th>pa_bad-wechsel_hw1</th>\n",
       "      <th>pa_bad-wechsel_hw2</th>\n",
       "      <th>pa_bad-wechsel_chlor</th>\n",
       "      <th>pa_bad-wechsel_hw3</th>\n",
       "      <th>pa_bad-wechsel_mpda_nach</th>\n",
       "      <th>pa_bad-wechsel_chlor_nach</th>\n",
       "      <th>pa_rollen_seit_letztem_bad-wechsel_mpda</th>\n",
       "      <th>pa_rollen_seit_letztem_bad-wechsel_chlor</th>\n",
       "      <th>qc_faktorkonzentration</th>\n",
       "      <th>p_product_size</th>\n",
       "    </tr>\n",
       "  </thead>\n",
       "  <tbody>\n",
       "    <tr>\n",
       "      <th rowspan=\"9\" valign=\"top\">pa</th>\n",
       "      <th>pa_bad-wechsel_m-pda</th>\n",
       "      <td>NaN</td>\n",
       "      <td>0.975242</td>\n",
       "      <td>0.063358</td>\n",
       "      <td>0.979485</td>\n",
       "      <td>0.974001</td>\n",
       "      <td>0.212693</td>\n",
       "      <td>0.216095</td>\n",
       "      <td>0.242863</td>\n",
       "      <td>0.241723</td>\n",
       "      <td>0.072534</td>\n",
       "      <td>0.092494</td>\n",
       "    </tr>\n",
       "    <tr>\n",
       "      <th>pa_bad-wechsel_hw1</th>\n",
       "      <td>NaN</td>\n",
       "      <td>NaN</td>\n",
       "      <td>0.057402</td>\n",
       "      <td>0.982753</td>\n",
       "      <td>0.997057</td>\n",
       "      <td>0.199511</td>\n",
       "      <td>0.202889</td>\n",
       "      <td>0.245711</td>\n",
       "      <td>0.244548</td>\n",
       "      <td>0.060755</td>\n",
       "      <td>0.074344</td>\n",
       "    </tr>\n",
       "    <tr>\n",
       "      <th>pa_bad-wechsel_hw2</th>\n",
       "      <td>NaN</td>\n",
       "      <td>NaN</td>\n",
       "      <td>NaN</td>\n",
       "      <td>0.062495</td>\n",
       "      <td>0.064271</td>\n",
       "      <td>0.014433</td>\n",
       "      <td>0.014466</td>\n",
       "      <td>0.019870</td>\n",
       "      <td>0.020266</td>\n",
       "      <td>0.006339</td>\n",
       "      <td>0.052627</td>\n",
       "    </tr>\n",
       "    <tr>\n",
       "      <th>pa_bad-wechsel_chlor</th>\n",
       "      <td>NaN</td>\n",
       "      <td>NaN</td>\n",
       "      <td>NaN</td>\n",
       "      <td>NaN</td>\n",
       "      <td>0.985667</td>\n",
       "      <td>0.203413</td>\n",
       "      <td>0.206803</td>\n",
       "      <td>0.246831</td>\n",
       "      <td>0.245686</td>\n",
       "      <td>0.063407</td>\n",
       "      <td>0.071885</td>\n",
       "    </tr>\n",
       "    <tr>\n",
       "      <th>pa_bad-wechsel_hw3</th>\n",
       "      <td>NaN</td>\n",
       "      <td>NaN</td>\n",
       "      <td>NaN</td>\n",
       "      <td>NaN</td>\n",
       "      <td>NaN</td>\n",
       "      <td>0.198186</td>\n",
       "      <td>0.201568</td>\n",
       "      <td>0.248556</td>\n",
       "      <td>0.247406</td>\n",
       "      <td>0.061418</td>\n",
       "      <td>0.073494</td>\n",
       "    </tr>\n",
       "    <tr>\n",
       "      <th>pa_bad-wechsel_mpda_nach</th>\n",
       "      <td>NaN</td>\n",
       "      <td>NaN</td>\n",
       "      <td>NaN</td>\n",
       "      <td>NaN</td>\n",
       "      <td>NaN</td>\n",
       "      <td>NaN</td>\n",
       "      <td>0.996563</td>\n",
       "      <td>0.743275</td>\n",
       "      <td>0.743198</td>\n",
       "      <td>0.031905</td>\n",
       "      <td>0.101631</td>\n",
       "    </tr>\n",
       "    <tr>\n",
       "      <th>pa_bad-wechsel_chlor_nach</th>\n",
       "      <td>NaN</td>\n",
       "      <td>NaN</td>\n",
       "      <td>NaN</td>\n",
       "      <td>NaN</td>\n",
       "      <td>NaN</td>\n",
       "      <td>NaN</td>\n",
       "      <td>NaN</td>\n",
       "      <td>0.737828</td>\n",
       "      <td>0.744573</td>\n",
       "      <td>0.031830</td>\n",
       "      <td>0.101497</td>\n",
       "    </tr>\n",
       "    <tr>\n",
       "      <th>pa_rollen_seit_letztem_bad-wechsel_mpda</th>\n",
       "      <td>NaN</td>\n",
       "      <td>NaN</td>\n",
       "      <td>NaN</td>\n",
       "      <td>NaN</td>\n",
       "      <td>NaN</td>\n",
       "      <td>NaN</td>\n",
       "      <td>NaN</td>\n",
       "      <td>NaN</td>\n",
       "      <td>0.993850</td>\n",
       "      <td>0.068286</td>\n",
       "      <td>0.050377</td>\n",
       "    </tr>\n",
       "    <tr>\n",
       "      <th>pa_rollen_seit_letztem_bad-wechsel_chlor</th>\n",
       "      <td>NaN</td>\n",
       "      <td>NaN</td>\n",
       "      <td>NaN</td>\n",
       "      <td>NaN</td>\n",
       "      <td>NaN</td>\n",
       "      <td>NaN</td>\n",
       "      <td>NaN</td>\n",
       "      <td>NaN</td>\n",
       "      <td>NaN</td>\n",
       "      <td>0.067764</td>\n",
       "      <td>0.049341</td>\n",
       "    </tr>\n",
       "    <tr>\n",
       "      <th rowspan=\"2\" valign=\"top\">qc</th>\n",
       "      <th>qc_faktorkonzentration</th>\n",
       "      <td>NaN</td>\n",
       "      <td>NaN</td>\n",
       "      <td>NaN</td>\n",
       "      <td>NaN</td>\n",
       "      <td>NaN</td>\n",
       "      <td>NaN</td>\n",
       "      <td>NaN</td>\n",
       "      <td>NaN</td>\n",
       "      <td>NaN</td>\n",
       "      <td>NaN</td>\n",
       "      <td>0.027549</td>\n",
       "    </tr>\n",
       "    <tr>\n",
       "      <th>p_product_size</th>\n",
       "      <td>NaN</td>\n",
       "      <td>NaN</td>\n",
       "      <td>NaN</td>\n",
       "      <td>NaN</td>\n",
       "      <td>NaN</td>\n",
       "      <td>NaN</td>\n",
       "      <td>NaN</td>\n",
       "      <td>NaN</td>\n",
       "      <td>NaN</td>\n",
       "      <td>NaN</td>\n",
       "      <td>NaN</td>\n",
       "    </tr>\n",
       "  </tbody>\n",
       "</table>\n",
       "</div>"
      ],
      "text/plain": [
       "                                                              pa  \\\n",
       "                                            pa_bad-wechsel_m-pda   \n",
       "pa pa_bad-wechsel_m-pda                                      NaN   \n",
       "   pa_bad-wechsel_hw1                                        NaN   \n",
       "   pa_bad-wechsel_hw2                                        NaN   \n",
       "   pa_bad-wechsel_chlor                                      NaN   \n",
       "   pa_bad-wechsel_hw3                                        NaN   \n",
       "   pa_bad-wechsel_mpda_nach                                  NaN   \n",
       "   pa_bad-wechsel_chlor_nach                                 NaN   \n",
       "   pa_rollen_seit_letztem_bad-wechsel_mpda                   NaN   \n",
       "   pa_rollen_seit_letztem_bad-wechsel_chlor                  NaN   \n",
       "qc qc_faktorkonzentration                                    NaN   \n",
       "   p_product_size                                            NaN   \n",
       "\n",
       "                                                                \\\n",
       "                                            pa_bad-wechsel_hw1   \n",
       "pa pa_bad-wechsel_m-pda                               0.975242   \n",
       "   pa_bad-wechsel_hw1                                      NaN   \n",
       "   pa_bad-wechsel_hw2                                      NaN   \n",
       "   pa_bad-wechsel_chlor                                    NaN   \n",
       "   pa_bad-wechsel_hw3                                      NaN   \n",
       "   pa_bad-wechsel_mpda_nach                                NaN   \n",
       "   pa_bad-wechsel_chlor_nach                               NaN   \n",
       "   pa_rollen_seit_letztem_bad-wechsel_mpda                 NaN   \n",
       "   pa_rollen_seit_letztem_bad-wechsel_chlor                NaN   \n",
       "qc qc_faktorkonzentration                                  NaN   \n",
       "   p_product_size                                          NaN   \n",
       "\n",
       "                                                                \\\n",
       "                                            pa_bad-wechsel_hw2   \n",
       "pa pa_bad-wechsel_m-pda                               0.063358   \n",
       "   pa_bad-wechsel_hw1                                 0.057402   \n",
       "   pa_bad-wechsel_hw2                                      NaN   \n",
       "   pa_bad-wechsel_chlor                                    NaN   \n",
       "   pa_bad-wechsel_hw3                                      NaN   \n",
       "   pa_bad-wechsel_mpda_nach                                NaN   \n",
       "   pa_bad-wechsel_chlor_nach                               NaN   \n",
       "   pa_rollen_seit_letztem_bad-wechsel_mpda                 NaN   \n",
       "   pa_rollen_seit_letztem_bad-wechsel_chlor                NaN   \n",
       "qc qc_faktorkonzentration                                  NaN   \n",
       "   p_product_size                                          NaN   \n",
       "\n",
       "                                                                  \\\n",
       "                                            pa_bad-wechsel_chlor   \n",
       "pa pa_bad-wechsel_m-pda                                 0.979485   \n",
       "   pa_bad-wechsel_hw1                                   0.982753   \n",
       "   pa_bad-wechsel_hw2                                   0.062495   \n",
       "   pa_bad-wechsel_chlor                                      NaN   \n",
       "   pa_bad-wechsel_hw3                                        NaN   \n",
       "   pa_bad-wechsel_mpda_nach                                  NaN   \n",
       "   pa_bad-wechsel_chlor_nach                                 NaN   \n",
       "   pa_rollen_seit_letztem_bad-wechsel_mpda                   NaN   \n",
       "   pa_rollen_seit_letztem_bad-wechsel_chlor                  NaN   \n",
       "qc qc_faktorkonzentration                                    NaN   \n",
       "   p_product_size                                            NaN   \n",
       "\n",
       "                                                                \\\n",
       "                                            pa_bad-wechsel_hw3   \n",
       "pa pa_bad-wechsel_m-pda                               0.974001   \n",
       "   pa_bad-wechsel_hw1                                 0.997057   \n",
       "   pa_bad-wechsel_hw2                                 0.064271   \n",
       "   pa_bad-wechsel_chlor                               0.985667   \n",
       "   pa_bad-wechsel_hw3                                      NaN   \n",
       "   pa_bad-wechsel_mpda_nach                                NaN   \n",
       "   pa_bad-wechsel_chlor_nach                               NaN   \n",
       "   pa_rollen_seit_letztem_bad-wechsel_mpda                 NaN   \n",
       "   pa_rollen_seit_letztem_bad-wechsel_chlor                NaN   \n",
       "qc qc_faktorkonzentration                                  NaN   \n",
       "   p_product_size                                          NaN   \n",
       "\n",
       "                                                                      \\\n",
       "                                            pa_bad-wechsel_mpda_nach   \n",
       "pa pa_bad-wechsel_m-pda                                     0.212693   \n",
       "   pa_bad-wechsel_hw1                                       0.199511   \n",
       "   pa_bad-wechsel_hw2                                       0.014433   \n",
       "   pa_bad-wechsel_chlor                                     0.203413   \n",
       "   pa_bad-wechsel_hw3                                       0.198186   \n",
       "   pa_bad-wechsel_mpda_nach                                      NaN   \n",
       "   pa_bad-wechsel_chlor_nach                                     NaN   \n",
       "   pa_rollen_seit_letztem_bad-wechsel_mpda                       NaN   \n",
       "   pa_rollen_seit_letztem_bad-wechsel_chlor                      NaN   \n",
       "qc qc_faktorkonzentration                                        NaN   \n",
       "   p_product_size                                                NaN   \n",
       "\n",
       "                                                                       \\\n",
       "                                            pa_bad-wechsel_chlor_nach   \n",
       "pa pa_bad-wechsel_m-pda                                      0.216095   \n",
       "   pa_bad-wechsel_hw1                                        0.202889   \n",
       "   pa_bad-wechsel_hw2                                        0.014466   \n",
       "   pa_bad-wechsel_chlor                                      0.206803   \n",
       "   pa_bad-wechsel_hw3                                        0.201568   \n",
       "   pa_bad-wechsel_mpda_nach                                  0.996563   \n",
       "   pa_bad-wechsel_chlor_nach                                      NaN   \n",
       "   pa_rollen_seit_letztem_bad-wechsel_mpda                        NaN   \n",
       "   pa_rollen_seit_letztem_bad-wechsel_chlor                       NaN   \n",
       "qc qc_faktorkonzentration                                         NaN   \n",
       "   p_product_size                                                 NaN   \n",
       "\n",
       "                                                                                     \\\n",
       "                                            pa_rollen_seit_letztem_bad-wechsel_mpda   \n",
       "pa pa_bad-wechsel_m-pda                                                    0.242863   \n",
       "   pa_bad-wechsel_hw1                                                      0.245711   \n",
       "   pa_bad-wechsel_hw2                                                      0.019870   \n",
       "   pa_bad-wechsel_chlor                                                    0.246831   \n",
       "   pa_bad-wechsel_hw3                                                      0.248556   \n",
       "   pa_bad-wechsel_mpda_nach                                                0.743275   \n",
       "   pa_bad-wechsel_chlor_nach                                               0.737828   \n",
       "   pa_rollen_seit_letztem_bad-wechsel_mpda                                      NaN   \n",
       "   pa_rollen_seit_letztem_bad-wechsel_chlor                                     NaN   \n",
       "qc qc_faktorkonzentration                                                       NaN   \n",
       "   p_product_size                                                               NaN   \n",
       "\n",
       "                                                                                      \\\n",
       "                                            pa_rollen_seit_letztem_bad-wechsel_chlor   \n",
       "pa pa_bad-wechsel_m-pda                                                     0.241723   \n",
       "   pa_bad-wechsel_hw1                                                       0.244548   \n",
       "   pa_bad-wechsel_hw2                                                       0.020266   \n",
       "   pa_bad-wechsel_chlor                                                     0.245686   \n",
       "   pa_bad-wechsel_hw3                                                       0.247406   \n",
       "   pa_bad-wechsel_mpda_nach                                                 0.743198   \n",
       "   pa_bad-wechsel_chlor_nach                                                0.744573   \n",
       "   pa_rollen_seit_letztem_bad-wechsel_mpda                                  0.993850   \n",
       "   pa_rollen_seit_letztem_bad-wechsel_chlor                                      NaN   \n",
       "qc qc_faktorkonzentration                                                        NaN   \n",
       "   p_product_size                                                                NaN   \n",
       "\n",
       "                                                                qc  \\\n",
       "                                            qc_faktorkonzentration   \n",
       "pa pa_bad-wechsel_m-pda                                   0.072534   \n",
       "   pa_bad-wechsel_hw1                                     0.060755   \n",
       "   pa_bad-wechsel_hw2                                     0.006339   \n",
       "   pa_bad-wechsel_chlor                                   0.063407   \n",
       "   pa_bad-wechsel_hw3                                     0.061418   \n",
       "   pa_bad-wechsel_mpda_nach                               0.031905   \n",
       "   pa_bad-wechsel_chlor_nach                              0.031830   \n",
       "   pa_rollen_seit_letztem_bad-wechsel_mpda                0.068286   \n",
       "   pa_rollen_seit_letztem_bad-wechsel_chlor               0.067764   \n",
       "qc qc_faktorkonzentration                                      NaN   \n",
       "   p_product_size                                              NaN   \n",
       "\n",
       "                                                            \n",
       "                                            p_product_size  \n",
       "pa pa_bad-wechsel_m-pda                           0.092494  \n",
       "   pa_bad-wechsel_hw1                             0.074344  \n",
       "   pa_bad-wechsel_hw2                             0.052627  \n",
       "   pa_bad-wechsel_chlor                           0.071885  \n",
       "   pa_bad-wechsel_hw3                             0.073494  \n",
       "   pa_bad-wechsel_mpda_nach                       0.101631  \n",
       "   pa_bad-wechsel_chlor_nach                      0.101497  \n",
       "   pa_rollen_seit_letztem_bad-wechsel_mpda        0.050377  \n",
       "   pa_rollen_seit_letztem_bad-wechsel_chlor       0.049341  \n",
       "qc qc_faktorkonzentration                         0.027549  \n",
       "   p_product_size                                      NaN  "
      ]
     },
     "execution_count": 15,
     "metadata": {},
     "output_type": "execute_result"
    }
   ],
   "source": [
    "upper"
   ]
  },
  {
   "cell_type": "markdown",
   "metadata": {},
   "source": [
    "##\n",
    "\n",
    "Source:https://seaborn.pydata.org/examples/many_pairwise_correlations.html"
   ]
  },
  {
   "cell_type": "code",
   "execution_count": 17,
   "metadata": {},
   "outputs": [],
   "source": [
    "# Compute the correlation matrix\n",
    "corr = df1.corr()"
   ]
  },
  {
   "cell_type": "code",
   "execution_count": 18,
   "metadata": {},
   "outputs": [],
   "source": [
    "# Generate a mask for the upper triangle\n",
    "mask = np.zeros_like(corr, dtype=np.bool)"
   ]
  },
  {
   "cell_type": "code",
   "execution_count": 19,
   "metadata": {},
   "outputs": [],
   "source": [
    "mask[np.triu_indices_from(mask)] = True"
   ]
  },
  {
   "cell_type": "code",
   "execution_count": 38,
   "metadata": {
    "collapsed": true,
    "jupyter": {
     "outputs_hidden": true
    }
   },
   "outputs": [
    {
     "data": {
      "application/vnd.jupyter.widget-view+json": {
       "model_id": "a58ef6afacfe48eb859159a51243f565",
       "version_major": 2,
       "version_minor": 0
      },
      "text/plain": [
       "Canvas(toolbar=Toolbar(toolitems=[('Home', 'Reset original view', 'home', 'home'), ('Back', 'Back to previous …"
      ]
     },
     "metadata": {},
     "output_type": "display_data"
    },
    {
     "data": {
      "text/plain": [
       "<matplotlib.axes._subplots.AxesSubplot at 0x29d7a0c1448>"
      ]
     },
     "execution_count": 38,
     "metadata": {},
     "output_type": "execute_result"
    }
   ],
   "source": [
    "# Set up the matplotlib figure\n",
    "f, ax = plt.subplots(figsize=(11, 9))\n",
    "\n",
    "# Generate a custom diverging colormap\n",
    "# cmap = sns.diverging_palette(220, 10, as_cmap=True)\n",
    "\n",
    "# Draw the heatmap with the mask and correct aspect ratio\n",
    "sns.heatmap(corr, mask=mask, cmap='coolwarm', vmax=.3, center=0,\n",
    "            square=True, linewidths=.5, cbar_kws={\"shrink\": .5})\n",
    "\n",
    "# plt.show()"
   ]
  },
  {
   "cell_type": "code",
   "execution_count": 40,
   "metadata": {},
   "outputs": [
    {
     "data": {
      "text/html": [
       "<div>\n",
       "<style scoped>\n",
       "    .dataframe tbody tr th:only-of-type {\n",
       "        vertical-align: middle;\n",
       "    }\n",
       "\n",
       "    .dataframe tbody tr th {\n",
       "        vertical-align: top;\n",
       "    }\n",
       "\n",
       "    .dataframe thead th {\n",
       "        text-align: right;\n",
       "    }\n",
       "</style>\n",
       "<table border=\"1\" class=\"dataframe\">\n",
       "  <thead>\n",
       "    <tr style=\"text-align: right;\">\n",
       "      <th></th>\n",
       "    </tr>\n",
       "  </thead>\n",
       "  <tbody>\n",
       "  </tbody>\n",
       "</table>\n",
       "</div>"
      ],
      "text/plain": [
       "Empty DataFrame\n",
       "Columns: []\n",
       "Index: []"
      ]
     },
     "execution_count": 40,
     "metadata": {},
     "output_type": "execute_result"
    }
   ],
   "source": [
    "df1.select_dtypes('object').corr()"
   ]
  },
  {
   "cell_type": "code",
   "execution_count": 2,
   "metadata": {},
   "outputs": [],
   "source": [
    "from pandas_profiling import ProfileReport"
   ]
  },
  {
   "cell_type": "code",
   "execution_count": 13,
   "metadata": {},
   "outputs": [
    {
     "ename": "NameError",
     "evalue": "name 'clean_column_names' is not defined",
     "output_type": "error",
     "traceback": [
      "\u001b[1;31m---------------------------------------------------------------------------\u001b[0m",
      "\u001b[1;31mNameError\u001b[0m                                 Traceback (most recent call last)",
      "\u001b[1;32m<ipython-input-13-da0b1361de20>\u001b[0m in \u001b[0;36m<module>\u001b[1;34m\u001b[0m\n\u001b[1;32m----> 1\u001b[1;33m \u001b[0mclean_column_names\u001b[0m\u001b[1;33m(\u001b[0m\u001b[0mdf\u001b[0m\u001b[1;33m)\u001b[0m\u001b[1;33m\u001b[0m\u001b[1;33m\u001b[0m\u001b[0m\n\u001b[0m\u001b[0;32m      2\u001b[0m \u001b[1;31m#profile = ProfileReport(df1)\u001b[0m\u001b[1;33m\u001b[0m\u001b[1;33m\u001b[0m\u001b[1;33m\u001b[0m\u001b[0m\n",
      "\u001b[1;31mNameError\u001b[0m: name 'clean_column_names' is not defined"
     ]
    }
   ],
   "source": [
    "clean_column_names(df)\n",
    "#profile = ProfileReport(df1)\n"
   ]
  },
  {
   "cell_type": "code",
   "execution_count": 14,
   "metadata": {},
   "outputs": [],
   "source": [
    "df = pd.DataFrame(\n",
    "    np.random.rand(100, 5),\n",
    "    columns=['a', 'b', 'c', 'd', 'e']\n",
    ")"
   ]
  },
  {
   "cell_type": "code",
   "execution_count": 19,
   "metadata": {},
   "outputs": [
    {
     "ename": "ValueError",
     "evalue": "Cannot remove 1 levels from an index with 1 levels: at least one level must be left.",
     "output_type": "error",
     "traceback": [
      "\u001b[1;31m---------------------------------------------------------------------------\u001b[0m",
      "\u001b[1;31mValueError\u001b[0m                                Traceback (most recent call last)",
      "\u001b[1;32m<ipython-input-19-22d477525084>\u001b[0m in \u001b[0;36m<module>\u001b[1;34m\u001b[0m\n\u001b[1;32m----> 1\u001b[1;33m \u001b[0mprofile\u001b[0m \u001b[1;33m=\u001b[0m \u001b[0mProfileReport\u001b[0m\u001b[1;33m(\u001b[0m\u001b[0mdf\u001b[0m\u001b[1;33m.\u001b[0m\u001b[0mdroplevel\u001b[0m\u001b[1;33m(\u001b[0m\u001b[0mlevel\u001b[0m\u001b[1;33m=\u001b[0m \u001b[1;36m0\u001b[0m\u001b[1;33m,\u001b[0m \u001b[0maxis\u001b[0m\u001b[1;33m=\u001b[0m\u001b[1;34m'columns'\u001b[0m\u001b[1;33m)\u001b[0m\u001b[1;33m,\u001b[0m \u001b[0mtitle\u001b[0m\u001b[1;33m=\u001b[0m\u001b[1;34m'Pandas Profiling Report'\u001b[0m\u001b[1;33m,\u001b[0m \u001b[0mhtml\u001b[0m\u001b[1;33m=\u001b[0m\u001b[1;33m{\u001b[0m\u001b[1;34m'style'\u001b[0m\u001b[1;33m:\u001b[0m\u001b[1;33m{\u001b[0m\u001b[1;34m'full_width'\u001b[0m\u001b[1;33m:\u001b[0m\u001b[1;32mTrue\u001b[0m\u001b[1;33m}\u001b[0m\u001b[1;33m}\u001b[0m\u001b[1;33m)\u001b[0m\u001b[1;33m\u001b[0m\u001b[1;33m\u001b[0m\u001b[0m\n\u001b[0m",
      "\u001b[1;32m~\\Anaconda3\\envs\\da_chem\\lib\\site-packages\\pandas\\core\\generic.py\u001b[0m in \u001b[0;36mdroplevel\u001b[1;34m(self, level, axis)\u001b[0m\n\u001b[0;32m    815\u001b[0m         \"\"\"\n\u001b[0;32m    816\u001b[0m         \u001b[0mlabels\u001b[0m \u001b[1;33m=\u001b[0m \u001b[0mself\u001b[0m\u001b[1;33m.\u001b[0m\u001b[0m_get_axis\u001b[0m\u001b[1;33m(\u001b[0m\u001b[0maxis\u001b[0m\u001b[1;33m)\u001b[0m\u001b[1;33m\u001b[0m\u001b[1;33m\u001b[0m\u001b[0m\n\u001b[1;32m--> 817\u001b[1;33m         \u001b[0mnew_labels\u001b[0m \u001b[1;33m=\u001b[0m \u001b[0mlabels\u001b[0m\u001b[1;33m.\u001b[0m\u001b[0mdroplevel\u001b[0m\u001b[1;33m(\u001b[0m\u001b[0mlevel\u001b[0m\u001b[1;33m)\u001b[0m\u001b[1;33m\u001b[0m\u001b[1;33m\u001b[0m\u001b[0m\n\u001b[0m\u001b[0;32m    818\u001b[0m         \u001b[0mresult\u001b[0m \u001b[1;33m=\u001b[0m \u001b[0mself\u001b[0m\u001b[1;33m.\u001b[0m\u001b[0mset_axis\u001b[0m\u001b[1;33m(\u001b[0m\u001b[0mnew_labels\u001b[0m\u001b[1;33m,\u001b[0m \u001b[0maxis\u001b[0m\u001b[1;33m=\u001b[0m\u001b[0maxis\u001b[0m\u001b[1;33m,\u001b[0m \u001b[0minplace\u001b[0m\u001b[1;33m=\u001b[0m\u001b[1;32mFalse\u001b[0m\u001b[1;33m)\u001b[0m\u001b[1;33m\u001b[0m\u001b[1;33m\u001b[0m\u001b[0m\n\u001b[0;32m    819\u001b[0m         \u001b[1;32mreturn\u001b[0m \u001b[0mresult\u001b[0m\u001b[1;33m\u001b[0m\u001b[1;33m\u001b[0m\u001b[0m\n",
      "\u001b[1;32m~\\Anaconda3\\envs\\da_chem\\lib\\site-packages\\pandas\\core\\indexes\\base.py\u001b[0m in \u001b[0;36mdroplevel\u001b[1;34m(self, level)\u001b[0m\n\u001b[0;32m   1655\u001b[0m                 \u001b[1;34m\"Cannot remove {} levels from an index with {} \"\u001b[0m\u001b[1;33m\u001b[0m\u001b[1;33m\u001b[0m\u001b[0m\n\u001b[0;32m   1656\u001b[0m                 \u001b[1;34m\"levels: at least one level must be \"\u001b[0m\u001b[1;33m\u001b[0m\u001b[1;33m\u001b[0m\u001b[0m\n\u001b[1;32m-> 1657\u001b[1;33m                 \u001b[1;34m\"left.\"\u001b[0m\u001b[1;33m.\u001b[0m\u001b[0mformat\u001b[0m\u001b[1;33m(\u001b[0m\u001b[0mlen\u001b[0m\u001b[1;33m(\u001b[0m\u001b[0mlevel\u001b[0m\u001b[1;33m)\u001b[0m\u001b[1;33m,\u001b[0m \u001b[0mself\u001b[0m\u001b[1;33m.\u001b[0m\u001b[0mnlevels\u001b[0m\u001b[1;33m)\u001b[0m\u001b[1;33m\u001b[0m\u001b[1;33m\u001b[0m\u001b[0m\n\u001b[0m\u001b[0;32m   1658\u001b[0m             )\n\u001b[0;32m   1659\u001b[0m         \u001b[1;31m# The two checks above guarantee that here self is a MultiIndex\u001b[0m\u001b[1;33m\u001b[0m\u001b[1;33m\u001b[0m\u001b[1;33m\u001b[0m\u001b[0m\n",
      "\u001b[1;31mValueError\u001b[0m: Cannot remove 1 levels from an index with 1 levels: at least one level must be left."
     ]
    }
   ],
   "source": [
    "profile = ProfileReport(df, title='Pandas Profiling Report', html={'style':{'full_width':True}})"
   ]
  },
  {
   "cell_type": "code",
   "execution_count": 16,
   "metadata": {
    "collapsed": true
   },
   "outputs": [
    {
     "data": {
      "application/vnd.jupyter.widget-view+json": {
       "model_id": "cea46a1b5886493badabac3db4f8a74a",
       "version_major": 2,
       "version_minor": 0
      },
      "text/plain": [
       "Tab(children=(HTML(value='<div id=\"overview-content\" class=\"row variable spacing\">\\n    <div class=\"row\">\\n   …"
      ]
     },
     "metadata": {},
     "output_type": "display_data"
    },
    {
     "data": {
      "text/html": [
       "Report generated with <a href=\"https://github.com/pandas-profiling/pandas-profiling\">pandas-profiling</a>."
      ],
      "text/plain": [
       "<IPython.core.display.HTML object>"
      ]
     },
     "metadata": {},
     "output_type": "display_data"
    },
    {
     "data": {
      "text/plain": []
     },
     "execution_count": 16,
     "metadata": {},
     "output_type": "execute_result"
    }
   ],
   "source": [
    "profile"
   ]
  },
  {
   "cell_type": "code",
   "execution_count": 20,
   "metadata": {},
   "outputs": [
    {
     "data": {
      "application/vnd.jupyter.widget-view+json": {
       "model_id": "",
       "version_major": 2,
       "version_minor": 0
      },
      "text/plain": [
       "Canvas(toolbar=Toolbar(toolitems=[('Home', 'Reset original view', 'home', 'home'), ('Back', 'Back to previous …"
      ]
     },
     "metadata": {},
     "output_type": "display_data"
    },
    {
     "data": {
      "application/vnd.jupyter.widget-view+json": {
       "model_id": "",
       "version_major": 2,
       "version_minor": 0
      },
      "text/plain": [
       "Canvas(toolbar=Toolbar(toolitems=[('Home', 'Reset original view', 'home', 'home'), ('Back', 'Back to previous …"
      ]
     },
     "metadata": {},
     "output_type": "display_data"
    },
    {
     "data": {
      "application/vnd.jupyter.widget-view+json": {
       "model_id": "",
       "version_major": 2,
       "version_minor": 0
      },
      "text/plain": [
       "Canvas(toolbar=Toolbar(toolitems=[('Home', 'Reset original view', 'home', 'home'), ('Back', 'Back to previous …"
      ]
     },
     "metadata": {},
     "output_type": "display_data"
    },
    {
     "data": {
      "application/vnd.jupyter.widget-view+json": {
       "model_id": "",
       "version_major": 2,
       "version_minor": 0
      },
      "text/plain": [
       "Canvas(toolbar=Toolbar(toolitems=[('Home', 'Reset original view', 'home', 'home'), ('Back', 'Back to previous …"
      ]
     },
     "metadata": {},
     "output_type": "display_data"
    },
    {
     "data": {
      "application/vnd.jupyter.widget-view+json": {
       "model_id": "",
       "version_major": 2,
       "version_minor": 0
      },
      "text/plain": [
       "Canvas(toolbar=Toolbar(toolitems=[('Home', 'Reset original view', 'home', 'home'), ('Back', 'Back to previous …"
      ]
     },
     "metadata": {},
     "output_type": "display_data"
    },
    {
     "data": {
      "application/vnd.jupyter.widget-view+json": {
       "model_id": "",
       "version_major": 2,
       "version_minor": 0
      },
      "text/plain": [
       "Canvas(toolbar=Toolbar(toolitems=[('Home', 'Reset original view', 'home', 'home'), ('Back', 'Back to previous …"
      ]
     },
     "metadata": {},
     "output_type": "display_data"
    }
   ],
   "source": [
    "profile1 = ProfileReport(df1.droplevel(level= 0, axis='columns'), title='Profile', html={'style':{'full_width':True}})"
   ]
  },
  {
   "cell_type": "code",
   "execution_count": 21,
   "metadata": {
    "collapsed": true
   },
   "outputs": [
    {
     "data": {
      "application/vnd.jupyter.widget-view+json": {
       "model_id": "f53b2fca816b48e0b1d8e43faeae2714",
       "version_major": 2,
       "version_minor": 0
      },
      "text/plain": [
       "Tab(children=(HTML(value='<div id=\"overview-content\" class=\"row variable spacing\">\\n    <div class=\"row\">\\n   …"
      ]
     },
     "metadata": {},
     "output_type": "display_data"
    },
    {
     "data": {
      "text/html": [
       "Report generated with <a href=\"https://github.com/pandas-profiling/pandas-profiling\">pandas-profiling</a>."
      ],
      "text/plain": [
       "<IPython.core.display.HTML object>"
      ]
     },
     "metadata": {},
     "output_type": "display_data"
    },
    {
     "data": {
      "text/plain": []
     },
     "execution_count": 21,
     "metadata": {},
     "output_type": "execute_result"
    }
   ],
   "source": [
    "profile1"
   ]
  },
  {
   "cell_type": "code",
   "execution_count": 22,
   "metadata": {
    "scrolled": true
   },
   "outputs": [
    {
     "data": {
      "text/plain": [
       "['ps',\n",
       " 'ps_datum',\n",
       " 'ps_beschichtete_rollenlange_m',\n",
       " 'ps_c_losung_wt_%',\n",
       " 'ps_gap_micro_m',\n",
       " 'ps_dicke_as_micro_m',\n",
       " 'ps_dicke_1',\n",
       " 'ps_dicke_2',\n",
       " 'ps_dicke_3',\n",
       " 'ps_dicke_4',\n",
       " 'ps_dicke_bs',\n",
       " 'ps_raum_temperatur_start_c',\n",
       " 'ps_auftragsbank_temperatur_start_c',\n",
       " 'ps_bad_temperatur_0m_c',\n",
       " 'ps_bad_temperatur_500m_c',\n",
       " 'ps_bad_temperatur_1000m_c',\n",
       " 'ps_bad_temperatur_1500m_c',\n",
       " 'ps_bad_temperatur_2000m_c',\n",
       " 'ps_bad_temperatur_2500m_c',\n",
       " 'ps_bad_temperatur_3000m_c',\n",
       " 'ps_bad_temperatur_3500m_c',\n",
       " 'ps_bad_temperatur_4000m_c',\n",
       " 'ps_raum-feuchtigkeit_start_%',\n",
       " 'ps_auftragswerk_feuchtigkeit_0m_%',\n",
       " 'ps_auftragswerk_feuchtigkeit_600m_%',\n",
       " 'ps_auftragswerk_feuchtigkeit_1200m_%',\n",
       " 'ps_auftragswerk_feuchtigkeit_1800m_%',\n",
       " 'ps_auftragswerk_feuchtigkeit_2400m_%',\n",
       " 'ps_auftragswerk_feuchtigkeit_3000m_%',\n",
       " 'ps_auftragswerk_feuchtigkeit_3600m_%',\n",
       " 'ps_auftragswerk_feuchtigkeit_4200m_%',\n",
       " 'ps_datum_coating',\n",
       " 'ps_out_m',\n",
       " 'ps_scrap_%',\n",
       " 'ps_f_auftragswerk_median',\n",
       " 'ps_dicke_median',\n",
       " 'pa_datum',\n",
       " 'pa_beschichtete_rollenlange_m',\n",
       " 'pa_bahn-geschwindigkeit_m/min',\n",
       " 'pa_bad-wechsel_m-pda',\n",
       " 'pa_bad-wechsel_hw1',\n",
       " 'pa_bad-wechsel_hw2',\n",
       " 'pa_bad-wechsel_chlor',\n",
       " 'pa_bad-wechsel_hw3',\n",
       " 'pa_raum_temperatur_start_c',\n",
       " 'pa_temperatur_m-pda-bad_c',\n",
       " 'pa_cm-pda_0m',\n",
       " 'pa_cm-pda_500m',\n",
       " 'pa_cm-pda_1000m',\n",
       " 'pa_cm-pda_1500m',\n",
       " 'pa_cm-pda_2000m',\n",
       " 'pa_cm-pda_2500m',\n",
       " 'pa_cm-pda_3000m',\n",
       " 'pa_cm-pda_3500m',\n",
       " 'pa_cm-pda_4000m',\n",
       " 'pa_ce-capro_lactam_%',\n",
       " 'pa_temperatur_n-decan-lsg_chem_vorbereitung_start_c',\n",
       " 'pa_ctmc_richtwert_%',\n",
       " 'pa_ctmc_%',\n",
       " 'pa_temperatur_alkali-lsg_chem_vorbereitung_start_c',\n",
       " 'pa_temperatur_chlorbad_start_c',\n",
       " 'pa_chlorkonzentration_0m_ppm',\n",
       " 'pa_chlorkonzentration_500m_ppm',\n",
       " 'pa_chlorkonzentration_1000m_ppm',\n",
       " 'pa_chlorkonzentration_1500m_ppm',\n",
       " 'pa_chlorkonzentration_2000m_ppm',\n",
       " 'pa_chlorkonzentration_2500m_ppm',\n",
       " 'pa_chlorkonzentration_3000m_ppm',\n",
       " 'pa_chlorkonzentration_3500m_ppm',\n",
       " 'pa_chlorkonzentration_4000m_ppm',\n",
       " 'pa_air-knife_vor_amin_bad_0m_%',\n",
       " 'pa_air-knife_vor_amin_bad_600m_%',\n",
       " 'pa_air-knife_vor_amin_bad_1200m_%',\n",
       " 'pa_air-knife_vor_amin_bad_1800m_%',\n",
       " 'pa_air-knife_vor_amin_bad_2400m_%',\n",
       " 'pa_air-knife_vor_amin_bad_3000m_%',\n",
       " 'pa_air-knife_vor_amin_bad_3600m_%',\n",
       " 'pa_air-knife_vor_amin_bad_4200m_%',\n",
       " 'pa_airknife_vor_amin_trockner_0m_%',\n",
       " 'pa_airknife_vor_amin_trockner_600m_%',\n",
       " 'pa_airknife_vor_amin_trockner_1200m_%',\n",
       " 'pa_airknife_vor_amin_trockner_1800m_%',\n",
       " 'pa_airknife_vor_amin_trockner_2400m_%',\n",
       " 'pa_airknife_vor_amin_trockner_3000m_%',\n",
       " 'pa_airknife_vor_amin_trockner_3600m_%',\n",
       " 'pa_airknife_vor_amin_trockner_4200m_%',\n",
       " 'pa_raum_feuchte_start_%',\n",
       " 'pa_amin-trockner_temperatur_danfugt_c',\n",
       " 'pa_amin-trockner_feuchtigkeit_danfugt_bs_0m_%',\n",
       " 'pa_amin-trockner_feuchtigkeit_danfugt_bs_1000m_%',\n",
       " 'pa_amin-trockner_feuchtigkeit_danfugt_bs_2000m_%',\n",
       " 'pa_amin-trockner_feuchtigkeit_danfugt_bs_3000m_%',\n",
       " 'pa_amin-trockner_feuchtigkeit_danfugt_bs_4000m_%',\n",
       " 'pa_amin-trockner_feuchtigkeit_danfugt_as_0m',\n",
       " 'pa_amin-trockner_feuchtigkeit_danfugt_as_1000m',\n",
       " 'pa_amin-trockner_feuchtigkeit_danfugt_as_2000m',\n",
       " 'pa_amin-trockner_feuchtigkeit_danfugt_as_3000m',\n",
       " 'pa_amin-trockner_feuchtigkeit_danfugt_as_4000m',\n",
       " 'pa_amin-trockner_temperatur_cofely_c',\n",
       " 'pa_amin-trockner_feuchtigkeit_cofely_0m_%',\n",
       " 'pa_amin-trockner_feuchtigkeit_cofely_600m_%',\n",
       " 'pa_amin-trockner_feuchtigkeit_cofely_1200m_%',\n",
       " 'pa_amin-trockner_feuchtigkeit_cofely_1800m_%',\n",
       " 'pa_amin-trockner_feuchtigkeit_cofely_2400m_%',\n",
       " 'pa_amin-trockner_feuchtigkeit_cofely_3000m_%',\n",
       " 'pa_amin-trockner_feuchtigkeit_cofely_3600m_%',\n",
       " 'pa_amin-trockner_feuchtigkeit_cofely_4200m_%',\n",
       " 'pa_decan-trockner_geblase_start_%',\n",
       " 'pa_decan-trockner_geblase_ende_%',\n",
       " 'pa_vertikale_feuchte_oben_start_%',\n",
       " 'pa_vertikale_feuchte_oben_mitte_%',\n",
       " 'pa_vertikale_feuchte_oben_ende_%',\n",
       " 'pa_staub-sauger_1_vor_aminbad_0_aus_>0_an',\n",
       " 'pa_staub-sauger_2_nach_aminbad',\n",
       " 'pa_staub-sauger_3_zw5_vor_hw2',\n",
       " 'pa_staub-sauger_4_nach_hw2',\n",
       " 'pa_staub-sauger_5',\n",
       " 'pa_bahn-geschwindigkeit_ref_m/min',\n",
       " 'pa_coating',\n",
       " 'pa_cm-pda_gewichts-%_richtwert_ref_low',\n",
       " 'pa_cm-pda_gewichts-%_richtwert_ref_high',\n",
       " 'pa_temperatur_n-decan-lsg_chem_vorbereitung_start_ref_low_c',\n",
       " 'pa_temperatur_n-decan-lsg_chem_vorbereitung_start_ref_high_c',\n",
       " 'pa_temperatur_alkali-lsg_chem_vorbereitung_start_ref_low_c',\n",
       " 'pa_temperatur_alkali-lsg_chem_vorbereitung_start_ref_high_c',\n",
       " 'pa_airknife_vor_amin_bad_ref_%',\n",
       " 'pa_airknife_vor_amin_trockner_ref_low_%',\n",
       " 'pa_airknife_vor_amin_trockner_ref_high_%',\n",
       " 'pa_amin-trockner_temperatur_danfugt_ref_c',\n",
       " 'pa_amin-trockner_feuchtigkeit_danfugt_bs_ref_low_%',\n",
       " 'pa_amin-trockner_feuchtigkeit_danfugt_bs_ref_high_%',\n",
       " 'pa_amin-trockner_feuchtigkeit_danfugt_as_ref_low',\n",
       " 'pa_amin-trockner_feuchtigkeit_danfugt_as_ref_high',\n",
       " 'pa_amin-trockner_feuchtigkeit_cofely_ref_low_%',\n",
       " 'pa_amin-trockner_feuchtigkeit_cofely_ref_high_%',\n",
       " 'pa_decan-trockner_geblase_ref_%',\n",
       " 'pa_vertikale_feuchte_oben_ref_low_%',\n",
       " 'pa_vertikale_feuchte_oben_ref_high_%',\n",
       " 'pa_staub-sauger_ref_high_0_aus_>0_an',\n",
       " 'pa_chlorkonzentration_richtwert_low_ppm',\n",
       " 'pa_chlorkonzentration_richtwert_high_ppm',\n",
       " 'pa_datum_coating',\n",
       " 'pa_mpda_lsg',\n",
       " 'pa_ndecan/tmc',\n",
       " 'pa_chlorlsg',\n",
       " 'pa_sbs_lsg',\n",
       " 'pa_alkalilsg',\n",
       " 'pa_bad-wechsel_mpda_nach',\n",
       " 'pa_bad-wechsel_chlor_nach',\n",
       " 'pa_out_m',\n",
       " 'pa_scrap_allgemein_m',\n",
       " 'pa_defects_semket_#',\n",
       " 'pa_defects_dr_schenk_#',\n",
       " 'pa_defects_hand_#',\n",
       " 'pa_defects_total_#',\n",
       " 'pa_scrap_%',\n",
       " 'ct1_anfang_0m_%',\n",
       " 'ct1_anfang_flux_m3/m2/d',\n",
       " 'ct1_mitte_1_1400m_rej_%',\n",
       " 'ct1_mitte_1_1400m_flux',\n",
       " 'ct1_mitte_2_2900m_rej_%',\n",
       " 'ct1_mitte_2_2900m_flux',\n",
       " 'ct1_ende_4300m_rej_%',\n",
       " 'ct1_ende_flux_m3/m2/d',\n",
       " 'ct_retest_anfang_0m_%',\n",
       " 'ct_retest_anfang_flux_m3/m2/d',\n",
       " 'ct_retest_mitte_1_1400m_rej_%',\n",
       " 'ct_retest_mitte_1_1400m_flux',\n",
       " 'ct_retest_mitte_2_2900m_rej_%',\n",
       " 'ct_retest_mitte_2_2900m_rej_%_2',\n",
       " 'ct_retest_ende_4300m_rej_%',\n",
       " 'ct_retest_ende_flux_m3/m2/d',\n",
       " 'qt_datum',\n",
       " 'qt_roll_after_m',\n",
       " 'qt_roll_minus_scrap_meters_m',\n",
       " 'qt_scrap_%',\n",
       " 'qt_coating_scrap_%',\n",
       " 'pp_product_short_name',\n",
       " 'pp_plan_actual_datum_coating',\n",
       " 'pp_plan_product',\n",
       " 'pp_plan_ausbeute_elemente',\n",
       " 'pp_plan_end_datum_winding',\n",
       " 'pp_actual_product_short_name',\n",
       " 'pp_actual_product',\n",
       " 'pp_actual_usage',\n",
       " 'pp_scrap_first_outer_dia_m',\n",
       " 'pp_scrap_last_core_m',\n",
       " 'pp_sequence_aw1_winding',\n",
       " 'pp_sequence_aw2_winding',\n",
       " 'pa_tmc_gehalt_%',\n",
       " 'ct1_test_ref_low',\n",
       " 'ct1_test_ref_high',\n",
       " 'pa_rollen_seit_letztem_bad-wechsel_mpda',\n",
       " 'pa_rollen_seit_letztem_bad-wechsel_chlor',\n",
       " 'pa_ref',\n",
       " 'pda_median',\n",
       " 'chlor_con_median',\n",
       " 'f_danfugt_bs_median',\n",
       " 'f_danfugt_as_median',\n",
       " 'f_codfely_median',\n",
       " 'temp_median',\n",
       " 'reaction_start',\n",
       " 'reaction_end',\n",
       " 'winding_pa_m',\n",
       " 'winding_scrap_first_m',\n",
       " 'winding_scrap_last_m',\n",
       " 'winding_product_short_name',\n",
       " 'winding_product_type',\n",
       " 'winding_product_size',\n",
       " 'winding_number_of_leaves',\n",
       " 'winding_product_line',\n",
       " 'winding_begin_datum',\n",
       " 'winding_end_datum',\n",
       " 'assembled_in_elements_#',\n",
       " 'assembled_in_elements_m',\n",
       " 'assembling_scrap_%',\n",
       " 'leak_test_ok_#',\n",
       " 'leak_test_ok_m',\n",
       " 'leak_test_scrap_%',\n",
       " 'winding_scrap_%',\n",
       " 'sc_d_datum',\n",
       " 'sc_datum_generate',\n",
       " 'sc_l_leak_auto',\n",
       " 'sc_l_datum_auto',\n",
       " 'sc_l_leak_hand',\n",
       " 'sc_l_datum_hand',\n",
       " 'sc_l_ergebnis_p_nio',\n",
       " 'sc_l_pressure_start',\n",
       " 'sc_l_pressure_prozent',\n",
       " 'sc_l_parameter_pressure_absolut',\n",
       " 'sc_l_parameter_pressure_prozent',\n",
       " 'sc_d_parameter_min',\n",
       " 'sc_d_parameter_max',\n",
       " 'sc_d_parameter_anz_werte',\n",
       " 'sc_d_parameter_1_min',\n",
       " 'sc_d_parameter_1_max',\n",
       " 'sc_d_parameter_deltamax',\n",
       " 'sc_d_ergebnis_min_ok',\n",
       " 'sc_d_ergebnis_max_ok',\n",
       " 'sc_d_ergebnis_anz_min_ok',\n",
       " 'sc_d_ergebnis_anz_max_ok',\n",
       " 'sc_d_ergebnis_deltamax_ok',\n",
       " 'sc_d_ergebnis_nio',\n",
       " 'sc_d_links_werte01',\n",
       " 'sc_d_links_werte02',\n",
       " 'sc_d_links_werte03',\n",
       " 'sc_d_links_werte04',\n",
       " 'sc_d_links_werte05',\n",
       " 'sc_d_links_werte06',\n",
       " 'sc_d_links_werte07',\n",
       " 'sc_d_links_werte08',\n",
       " 'sc_d_links_werte09',\n",
       " 'sc_d_links_werte10',\n",
       " 'sc_d_links_werte11',\n",
       " 'sc_d_links_werte12',\n",
       " 'sc_d_links_werte13',\n",
       " 'sc_d_links_werte14',\n",
       " 'sc_d_links_werte15',\n",
       " 'sc_d_links_werte16',\n",
       " 'sc_d_links_werte17',\n",
       " 'sc_d_links_werte18',\n",
       " 'sc_d_links_werte19',\n",
       " 'sc_d_links_werte20',\n",
       " 'sc_d_links_min',\n",
       " 'sc_d_links_max',\n",
       " 'sc_d_links_anz_min',\n",
       " 'sc_d_links_anz_max',\n",
       " 'sc_d_links_deltamax',\n",
       " 'sc_d_rechts_werte01',\n",
       " 'sc_d_rechts_werte02',\n",
       " 'sc_d_rechts_werte03',\n",
       " 'sc_d_rechts_werte04',\n",
       " 'sc_d_rechts_werte05',\n",
       " 'sc_d_rechts_werte06',\n",
       " 'sc_d_rechts_werte07',\n",
       " 'sc_d_rechts_werte08',\n",
       " 'sc_d_rechts_werte09',\n",
       " 'sc_d_rechts_werte10',\n",
       " 'sc_d_rechts_werte11',\n",
       " 'sc_d_rechts_werte12',\n",
       " 'sc_d_rechts_werte13',\n",
       " 'sc_d_rechts_werte14',\n",
       " 'sc_d_rechts_werte15',\n",
       " 'sc_d_rechts_werte16',\n",
       " 'sc_d_rechts_werte17',\n",
       " 'sc_d_rechts_werte18',\n",
       " 'sc_d_rechts_werte19',\n",
       " 'sc_d_rechts_werte20',\n",
       " 'sc_d_rechts_min',\n",
       " 'sc_d_rechts_max',\n",
       " 'sc_d_rechts_anz_min',\n",
       " 'sc_d_rechts_anz_max',\n",
       " 'sc_d_rechts_deltamax',\n",
       " 'nr',\n",
       " 'element_test_ok_#',\n",
       " 'element_test_ok_m',\n",
       " 'element_test_scrap_%',\n",
       " 'total_scrap_%',\n",
       " 'total_yield_%',\n",
       " 'qc_serien_nummer',\n",
       " 'qc_lasttest',\n",
       " 'qc_salzrckhalt',\n",
       " 'qc_durchfluss',\n",
       " 'qc_p_position',\n",
       " 'qc_erfassungs_datum',\n",
       " 'qc_verpackungs_datum',\n",
       " 'qc_einlager_datum',\n",
       " 'qc_barcode_leak_test_values',\n",
       " 'qc_datum_leak_test_values',\n",
       " 'qc_minimalersalzrueckhalt',\n",
       " 'qc_minimalerdurchfluss',\n",
       " 'qc_durchminimalersalzrueckhalt',\n",
       " 'qc_durchminimalerdurchfluss',\n",
       " 'qc_minimalerdurchflussgpd',\n",
       " 'qc_maximalersalzrueckhalt',\n",
       " 'qc_maximalerdurchfluss',\n",
       " 'qc_konzentration',\n",
       " 'qc_faktorkonzentration',\n",
       " 'qc_druckpsi',\n",
       " 'qc_temperaturc',\n",
       " 'qc_rueckhalt',\n",
       " 'qc_ph',\n",
       " 'qc_nachkommadurchfluss',\n",
       " 'qc_nachkommasalzrueckhalt',\n",
       " 'qc_rundunggpd',\n",
       " 'qc_datum_product_properties',\n",
       " 'qc_konzentrationflow',\n",
       " 'qc_lagen',\n",
       " 'qc_mstaerke',\n",
       " 'qc_breite',\n",
       " 'p_product',\n",
       " 'p_product_full_name',\n",
       " 'p_product_group',\n",
       " 'p_product_type',\n",
       " 'p_product_size',\n",
       " 'p_effective_area_per_leaf_m2',\n",
       " 'p_effective_pressure_bar',\n",
       " 'qc_flux_l/m2/h',\n",
       " 'qc_a-value_l/m2/h/bar',\n",
       " 'qc_b-value_m/s_10-6',\n",
       " 'qc_flux_m3/m2/day',\n",
       " 'sum_of_scrap',\n",
       " 'roll_position']"
      ]
     },
     "execution_count": 22,
     "metadata": {},
     "output_type": "execute_result"
    }
   ],
   "source": [
    "list(df2.columns)"
   ]
  },
  {
   "cell_type": "code",
   "execution_count": 23,
   "metadata": {},
   "outputs": [
    {
     "data": {
      "text/plain": [
       "(118687, 343)"
      ]
     },
     "execution_count": 23,
     "metadata": {},
     "output_type": "execute_result"
    }
   ],
   "source": [
    "df2.shape"
   ]
  },
  {
   "cell_type": "code",
   "execution_count": 27,
   "metadata": {},
   "outputs": [],
   "source": [
    "from pandas_profiling.model import correlations as crt"
   ]
  },
  {
   "cell_type": "code",
   "execution_count": 28,
   "metadata": {},
   "outputs": [
    {
     "name": "stdout",
     "output_type": "stream",
     "text": [
      "ProfileReport\t XY\t crt\t df\t df1\t df2\t model\t np\t pd\t \n",
      "plt\t profile\t profile1\t sns\t \n"
     ]
    }
   ],
   "source": [
    "who"
   ]
  },
  {
   "cell_type": "code",
   "execution_count": 48,
   "metadata": {},
   "outputs": [
    {
     "data": {
      "text/plain": [
       "{}"
      ]
     },
     "execution_count": 48,
     "metadata": {},
     "output_type": "execute_result"
    }
   ],
   "source": [
    "crt.calculate_correlations(df1.droplevel(level=0,axis=1),variables=d)"
   ]
  },
  {
   "cell_type": "code",
   "execution_count": 34,
   "metadata": {},
   "outputs": [],
   "source": [
    "sgs = df1.droplevel(level=0,axis=1).dtypes"
   ]
  },
  {
   "cell_type": "code",
   "execution_count": 47,
   "metadata": {},
   "outputs": [
    {
     "name": "stdout",
     "output_type": "stream",
     "text": [
      "{dtype('O'): 'p_product_type', dtype('bool'): 'pa_bad-wechsel_chlor_nach', CategoricalDtype(categories=['trash', 'use'], ordered=False): 'pp_actual_usage', dtype('int64'): 'p_product_size'}\n"
     ]
    }
   ],
   "source": [
    "#{key:value for key,value in sgs.index value }\n",
    "k = list(sgs.index)\n",
    "v = list(sgs.values)\n",
    "d = dict(zip(v,k))\n",
    "\n",
    "print(d)"
   ]
  },
  {
   "cell_type": "code",
   "execution_count": 44,
   "metadata": {},
   "outputs": [
    {
     "data": {
      "text/plain": [
       "[dtype('O'),\n",
       " dtype('bool'),\n",
       " dtype('bool'),\n",
       " dtype('bool'),\n",
       " dtype('bool'),\n",
       " dtype('bool'),\n",
       " dtype('bool'),\n",
       " dtype('bool'),\n",
       " dtype('O'),\n",
       " dtype('O'),\n",
       " dtype('O'),\n",
       " dtype('O'),\n",
       " CategoricalDtype(categories=['trash', 'use'], ordered=False),\n",
       " dtype('int64'),\n",
       " dtype('int64'),\n",
       " dtype('O'),\n",
       " dtype('O'),\n",
       " dtype('O'),\n",
       " dtype('O'),\n",
       " dtype('O'),\n",
       " dtype('O'),\n",
       " dtype('int64'),\n",
       " dtype('O'),\n",
       " dtype('O'),\n",
       " dtype('O'),\n",
       " dtype('O'),\n",
       " dtype('int64')]"
      ]
     },
     "execution_count": 44,
     "metadata": {},
     "output_type": "execute_result"
    }
   ],
   "source": [
    "\n"
   ]
  },
  {
   "cell_type": "code",
   "execution_count": null,
   "metadata": {},
   "outputs": [],
   "source": []
  }
 ],
 "metadata": {
  "kernelspec": {
   "display_name": "Python 3",
   "language": "python",
   "name": "python3"
  },
  "language_info": {
   "codemirror_mode": {
    "name": "ipython",
    "version": 3
   },
   "file_extension": ".py",
   "mimetype": "text/x-python",
   "name": "python",
   "nbconvert_exporter": "python",
   "pygments_lexer": "ipython3",
   "version": "3.7.6"
  }
 },
 "nbformat": 4,
 "nbformat_minor": 4
}
