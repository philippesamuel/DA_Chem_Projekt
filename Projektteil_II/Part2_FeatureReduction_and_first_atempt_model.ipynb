{
 "cells": [
  {
   "cell_type": "markdown",
   "metadata": {},
   "source": [
    "# Summary and plan of attack:\n",
    "\n",
    "Different regressionmodels will be tested to see if the value and variance of the choosed target variable 'qc_salzrckhalt' can be predicted. To appy regression models the dataset needs to be reduced in feature size.\n",
    "\n",
    "Firstly the dataset will be reduced in feature size, this means that unneccasarry features will be removed. Comments will explain why a feature is regarded as not important. Secondly new features will be created. Comments will explain why this feature has been created.\n",
    "\n",
    "##### Required moduls: \n",
    "\n",
    "- statsmodels\n",
    "- pandas\n",
    "- numpy\n",
    "\n",
    "\n",
    "\n"
   ]
  },
  {
   "cell_type": "markdown",
   "metadata": {},
   "source": [
    "## Dataset will be reduced in feature size"
   ]
  },
  {
   "cell_type": "code",
   "execution_count": 1,
   "metadata": {},
   "outputs": [
    {
     "name": "stderr",
     "output_type": "stream",
     "text": [
      "/home/elron/anaconda3/envs/da/lib/python3.7/site-packages/pandas/core/generic.py:3946: PerformanceWarning: dropping on a non-lexsorted multi-index without a level parameter may impact performance.\n",
      "  new_axis = axis.drop(labels, errors=errors)\n"
     ]
    },
    {
     "data": {
      "text/html": [
       "<div>\n",
       "<style scoped>\n",
       "    .dataframe tbody tr th:only-of-type {\n",
       "        vertical-align: middle;\n",
       "    }\n",
       "\n",
       "    .dataframe tbody tr th {\n",
       "        vertical-align: top;\n",
       "    }\n",
       "\n",
       "    .dataframe thead th {\n",
       "        text-align: right;\n",
       "    }\n",
       "</style>\n",
       "<table border=\"1\" class=\"dataframe\">\n",
       "  <thead>\n",
       "    <tr style=\"text-align: right;\">\n",
       "      <th></th>\n",
       "      <th>ps</th>\n",
       "      <th>ps_datum</th>\n",
       "      <th>ps_beschichtete_rollenlange_m</th>\n",
       "      <th>ps_c_losung_wt_%</th>\n",
       "      <th>ps_gap_micro_m</th>\n",
       "      <th>ps_dicke_as_micro_m</th>\n",
       "      <th>ps_dicke_1</th>\n",
       "      <th>ps_dicke_2</th>\n",
       "      <th>ps_dicke_3</th>\n",
       "      <th>ps_dicke_4</th>\n",
       "      <th>...</th>\n",
       "      <th>p_product_size</th>\n",
       "      <th>p_effective_area_per_leaf_m2</th>\n",
       "      <th>p_effective_pressure_bar</th>\n",
       "      <th>qc_flux_l/m2/h</th>\n",
       "      <th>qc_a-value_l/m2/h/bar</th>\n",
       "      <th>qc_b-value_m/s_10-6</th>\n",
       "      <th>qc_flux_m3/m2/day</th>\n",
       "      <th>sum_of_scrap</th>\n",
       "      <th>roll_position</th>\n",
       "      <th>p_Product_type_group</th>\n",
       "    </tr>\n",
       "  </thead>\n",
       "  <tbody>\n",
       "    <tr>\n",
       "      <th>0</th>\n",
       "      <td>cb031d4b18ff</td>\n",
       "      <td>2018-05-13</td>\n",
       "      <td>4487.0</td>\n",
       "      <td>31.0</td>\n",
       "      <td>250.0</td>\n",
       "      <td>136.0</td>\n",
       "      <td>136.0</td>\n",
       "      <td>134.0</td>\n",
       "      <td>134.0</td>\n",
       "      <td>135.0</td>\n",
       "      <td>...</td>\n",
       "      <td>8</td>\n",
       "      <td>1.4646</td>\n",
       "      <td>8.71</td>\n",
       "      <td>40.286235</td>\n",
       "      <td>4.625285</td>\n",
       "      <td>3.678446</td>\n",
       "      <td>0.966870</td>\n",
       "      <td>0.0</td>\n",
       "      <td>58.181818</td>\n",
       "      <td>Low Energy</td>\n",
       "    </tr>\n",
       "    <tr>\n",
       "      <th>1</th>\n",
       "      <td>cb031d4b18ff</td>\n",
       "      <td>2018-05-13</td>\n",
       "      <td>4487.0</td>\n",
       "      <td>31.0</td>\n",
       "      <td>250.0</td>\n",
       "      <td>136.0</td>\n",
       "      <td>136.0</td>\n",
       "      <td>134.0</td>\n",
       "      <td>134.0</td>\n",
       "      <td>135.0</td>\n",
       "      <td>...</td>\n",
       "      <td>8</td>\n",
       "      <td>1.4646</td>\n",
       "      <td>8.71</td>\n",
       "      <td>40.252401</td>\n",
       "      <td>4.621401</td>\n",
       "      <td>3.165247</td>\n",
       "      <td>0.966058</td>\n",
       "      <td>0.0</td>\n",
       "      <td>116.363636</td>\n",
       "      <td>Low Energy</td>\n",
       "    </tr>\n",
       "    <tr>\n",
       "      <th>2</th>\n",
       "      <td>cb031d4b18ff</td>\n",
       "      <td>2018-05-13</td>\n",
       "      <td>4487.0</td>\n",
       "      <td>31.0</td>\n",
       "      <td>250.0</td>\n",
       "      <td>136.0</td>\n",
       "      <td>136.0</td>\n",
       "      <td>134.0</td>\n",
       "      <td>134.0</td>\n",
       "      <td>135.0</td>\n",
       "      <td>...</td>\n",
       "      <td>8</td>\n",
       "      <td>1.4646</td>\n",
       "      <td>8.71</td>\n",
       "      <td>39.718186</td>\n",
       "      <td>4.560067</td>\n",
       "      <td>3.170593</td>\n",
       "      <td>0.953236</td>\n",
       "      <td>0.0</td>\n",
       "      <td>174.545455</td>\n",
       "      <td>Low Energy</td>\n",
       "    </tr>\n",
       "    <tr>\n",
       "      <th>3</th>\n",
       "      <td>cb031d4b18ff</td>\n",
       "      <td>2018-05-13</td>\n",
       "      <td>4487.0</td>\n",
       "      <td>31.0</td>\n",
       "      <td>250.0</td>\n",
       "      <td>136.0</td>\n",
       "      <td>136.0</td>\n",
       "      <td>134.0</td>\n",
       "      <td>134.0</td>\n",
       "      <td>135.0</td>\n",
       "      <td>...</td>\n",
       "      <td>8</td>\n",
       "      <td>1.4646</td>\n",
       "      <td>8.71</td>\n",
       "      <td>39.441426</td>\n",
       "      <td>4.528292</td>\n",
       "      <td>2.855092</td>\n",
       "      <td>0.946594</td>\n",
       "      <td>0.0</td>\n",
       "      <td>232.727273</td>\n",
       "      <td>Low Energy</td>\n",
       "    </tr>\n",
       "    <tr>\n",
       "      <th>4</th>\n",
       "      <td>cb031d4b18ff</td>\n",
       "      <td>2018-05-13</td>\n",
       "      <td>4487.0</td>\n",
       "      <td>31.0</td>\n",
       "      <td>250.0</td>\n",
       "      <td>136.0</td>\n",
       "      <td>136.0</td>\n",
       "      <td>134.0</td>\n",
       "      <td>134.0</td>\n",
       "      <td>135.0</td>\n",
       "      <td>...</td>\n",
       "      <td>8</td>\n",
       "      <td>1.4646</td>\n",
       "      <td>8.71</td>\n",
       "      <td>39.731817</td>\n",
       "      <td>4.561632</td>\n",
       "      <td>2.810373</td>\n",
       "      <td>0.953564</td>\n",
       "      <td>0.0</td>\n",
       "      <td>290.909091</td>\n",
       "      <td>Low Energy</td>\n",
       "    </tr>\n",
       "    <tr>\n",
       "      <th>...</th>\n",
       "      <td>...</td>\n",
       "      <td>...</td>\n",
       "      <td>...</td>\n",
       "      <td>...</td>\n",
       "      <td>...</td>\n",
       "      <td>...</td>\n",
       "      <td>...</td>\n",
       "      <td>...</td>\n",
       "      <td>...</td>\n",
       "      <td>...</td>\n",
       "      <td>...</td>\n",
       "      <td>...</td>\n",
       "      <td>...</td>\n",
       "      <td>...</td>\n",
       "      <td>...</td>\n",
       "      <td>...</td>\n",
       "      <td>...</td>\n",
       "      <td>...</td>\n",
       "      <td>...</td>\n",
       "      <td>...</td>\n",
       "      <td>...</td>\n",
       "    </tr>\n",
       "    <tr>\n",
       "      <th>118682</th>\n",
       "      <td>3fa606fdd9e8</td>\n",
       "      <td>2018-05-14</td>\n",
       "      <td>2202.0</td>\n",
       "      <td>31.0</td>\n",
       "      <td>250.0</td>\n",
       "      <td>137.0</td>\n",
       "      <td>135.0</td>\n",
       "      <td>133.0</td>\n",
       "      <td>133.0</td>\n",
       "      <td>132.0</td>\n",
       "      <td>...</td>\n",
       "      <td>8</td>\n",
       "      <td>1.4646</td>\n",
       "      <td>8.71</td>\n",
       "      <td>36.149091</td>\n",
       "      <td>4.150297</td>\n",
       "      <td>3.606951</td>\n",
       "      <td>0.867578</td>\n",
       "      <td>0.0</td>\n",
       "      <td>0.000000</td>\n",
       "      <td>Low Energy</td>\n",
       "    </tr>\n",
       "    <tr>\n",
       "      <th>118683</th>\n",
       "      <td>3fa606fdd9e8</td>\n",
       "      <td>2018-05-14</td>\n",
       "      <td>2202.0</td>\n",
       "      <td>31.0</td>\n",
       "      <td>250.0</td>\n",
       "      <td>137.0</td>\n",
       "      <td>135.0</td>\n",
       "      <td>133.0</td>\n",
       "      <td>133.0</td>\n",
       "      <td>132.0</td>\n",
       "      <td>...</td>\n",
       "      <td>8</td>\n",
       "      <td>1.4646</td>\n",
       "      <td>8.71</td>\n",
       "      <td>35.645870</td>\n",
       "      <td>4.092522</td>\n",
       "      <td>3.266436</td>\n",
       "      <td>0.855501</td>\n",
       "      <td>0.0</td>\n",
       "      <td>0.000000</td>\n",
       "      <td>Low Energy</td>\n",
       "    </tr>\n",
       "    <tr>\n",
       "      <th>118684</th>\n",
       "      <td>3fa606fdd9e8</td>\n",
       "      <td>2018-05-14</td>\n",
       "      <td>2202.0</td>\n",
       "      <td>31.0</td>\n",
       "      <td>250.0</td>\n",
       "      <td>137.0</td>\n",
       "      <td>135.0</td>\n",
       "      <td>133.0</td>\n",
       "      <td>133.0</td>\n",
       "      <td>132.0</td>\n",
       "      <td>...</td>\n",
       "      <td>8</td>\n",
       "      <td>1.4646</td>\n",
       "      <td>8.71</td>\n",
       "      <td>34.888194</td>\n",
       "      <td>4.005533</td>\n",
       "      <td>3.464832</td>\n",
       "      <td>0.837317</td>\n",
       "      <td>0.0</td>\n",
       "      <td>0.000000</td>\n",
       "      <td>Low Energy</td>\n",
       "    </tr>\n",
       "    <tr>\n",
       "      <th>118685</th>\n",
       "      <td>3fa606fdd9e8</td>\n",
       "      <td>2018-05-14</td>\n",
       "      <td>2202.0</td>\n",
       "      <td>31.0</td>\n",
       "      <td>250.0</td>\n",
       "      <td>137.0</td>\n",
       "      <td>135.0</td>\n",
       "      <td>133.0</td>\n",
       "      <td>133.0</td>\n",
       "      <td>132.0</td>\n",
       "      <td>...</td>\n",
       "      <td>8</td>\n",
       "      <td>1.4646</td>\n",
       "      <td>8.71</td>\n",
       "      <td>37.721778</td>\n",
       "      <td>4.330859</td>\n",
       "      <td>3.255691</td>\n",
       "      <td>0.905323</td>\n",
       "      <td>0.0</td>\n",
       "      <td>0.000000</td>\n",
       "      <td>Low Energy</td>\n",
       "    </tr>\n",
       "    <tr>\n",
       "      <th>118686</th>\n",
       "      <td>3fa606fdd9e8</td>\n",
       "      <td>2018-05-14</td>\n",
       "      <td>2202.0</td>\n",
       "      <td>31.0</td>\n",
       "      <td>250.0</td>\n",
       "      <td>137.0</td>\n",
       "      <td>135.0</td>\n",
       "      <td>133.0</td>\n",
       "      <td>133.0</td>\n",
       "      <td>132.0</td>\n",
       "      <td>...</td>\n",
       "      <td>8</td>\n",
       "      <td>1.4646</td>\n",
       "      <td>8.71</td>\n",
       "      <td>37.983538</td>\n",
       "      <td>4.360911</td>\n",
       "      <td>3.498615</td>\n",
       "      <td>0.911605</td>\n",
       "      <td>0.0</td>\n",
       "      <td>0.000000</td>\n",
       "      <td>Low Energy</td>\n",
       "    </tr>\n",
       "  </tbody>\n",
       "</table>\n",
       "<p>117862 rows × 344 columns</p>\n",
       "</div>"
      ],
      "text/plain": [
       "                  ps    ps_datum  ps_beschichtete_rollenlange_m  \\\n",
       "0       cb031d4b18ff  2018-05-13                         4487.0   \n",
       "1       cb031d4b18ff  2018-05-13                         4487.0   \n",
       "2       cb031d4b18ff  2018-05-13                         4487.0   \n",
       "3       cb031d4b18ff  2018-05-13                         4487.0   \n",
       "4       cb031d4b18ff  2018-05-13                         4487.0   \n",
       "...              ...         ...                            ...   \n",
       "118682  3fa606fdd9e8  2018-05-14                         2202.0   \n",
       "118683  3fa606fdd9e8  2018-05-14                         2202.0   \n",
       "118684  3fa606fdd9e8  2018-05-14                         2202.0   \n",
       "118685  3fa606fdd9e8  2018-05-14                         2202.0   \n",
       "118686  3fa606fdd9e8  2018-05-14                         2202.0   \n",
       "\n",
       "        ps_c_losung_wt_%  ps_gap_micro_m  ps_dicke_as_micro_m  ps_dicke_1  \\\n",
       "0                   31.0           250.0                136.0       136.0   \n",
       "1                   31.0           250.0                136.0       136.0   \n",
       "2                   31.0           250.0                136.0       136.0   \n",
       "3                   31.0           250.0                136.0       136.0   \n",
       "4                   31.0           250.0                136.0       136.0   \n",
       "...                  ...             ...                  ...         ...   \n",
       "118682              31.0           250.0                137.0       135.0   \n",
       "118683              31.0           250.0                137.0       135.0   \n",
       "118684              31.0           250.0                137.0       135.0   \n",
       "118685              31.0           250.0                137.0       135.0   \n",
       "118686              31.0           250.0                137.0       135.0   \n",
       "\n",
       "        ps_dicke_2  ps_dicke_3  ps_dicke_4  ...  p_product_size  \\\n",
       "0            134.0       134.0       135.0  ...               8   \n",
       "1            134.0       134.0       135.0  ...               8   \n",
       "2            134.0       134.0       135.0  ...               8   \n",
       "3            134.0       134.0       135.0  ...               8   \n",
       "4            134.0       134.0       135.0  ...               8   \n",
       "...            ...         ...         ...  ...             ...   \n",
       "118682       133.0       133.0       132.0  ...               8   \n",
       "118683       133.0       133.0       132.0  ...               8   \n",
       "118684       133.0       133.0       132.0  ...               8   \n",
       "118685       133.0       133.0       132.0  ...               8   \n",
       "118686       133.0       133.0       132.0  ...               8   \n",
       "\n",
       "        p_effective_area_per_leaf_m2  p_effective_pressure_bar  \\\n",
       "0                             1.4646                      8.71   \n",
       "1                             1.4646                      8.71   \n",
       "2                             1.4646                      8.71   \n",
       "3                             1.4646                      8.71   \n",
       "4                             1.4646                      8.71   \n",
       "...                              ...                       ...   \n",
       "118682                        1.4646                      8.71   \n",
       "118683                        1.4646                      8.71   \n",
       "118684                        1.4646                      8.71   \n",
       "118685                        1.4646                      8.71   \n",
       "118686                        1.4646                      8.71   \n",
       "\n",
       "        qc_flux_l/m2/h  qc_a-value_l/m2/h/bar  qc_b-value_m/s_10-6  \\\n",
       "0            40.286235               4.625285             3.678446   \n",
       "1            40.252401               4.621401             3.165247   \n",
       "2            39.718186               4.560067             3.170593   \n",
       "3            39.441426               4.528292             2.855092   \n",
       "4            39.731817               4.561632             2.810373   \n",
       "...                ...                    ...                  ...   \n",
       "118682       36.149091               4.150297             3.606951   \n",
       "118683       35.645870               4.092522             3.266436   \n",
       "118684       34.888194               4.005533             3.464832   \n",
       "118685       37.721778               4.330859             3.255691   \n",
       "118686       37.983538               4.360911             3.498615   \n",
       "\n",
       "        qc_flux_m3/m2/day  sum_of_scrap  roll_position  p_Product_type_group  \n",
       "0                0.966870           0.0      58.181818            Low Energy  \n",
       "1                0.966058           0.0     116.363636            Low Energy  \n",
       "2                0.953236           0.0     174.545455            Low Energy  \n",
       "3                0.946594           0.0     232.727273            Low Energy  \n",
       "4                0.953564           0.0     290.909091            Low Energy  \n",
       "...                   ...           ...            ...                   ...  \n",
       "118682           0.867578           0.0       0.000000            Low Energy  \n",
       "118683           0.855501           0.0       0.000000            Low Energy  \n",
       "118684           0.837317           0.0       0.000000            Low Energy  \n",
       "118685           0.905323           0.0       0.000000            Low Energy  \n",
       "118686           0.911605           0.0       0.000000            Low Energy  \n",
       "\n",
       "[117862 rows x 344 columns]"
      ]
     },
     "execution_count": 1,
     "metadata": {},
     "output_type": "execute_result"
    }
   ],
   "source": [
    "# Import needed libaries\n",
    "import pandas as pd\n",
    "import os\n",
    "import numpy as np\n",
    "\n",
    "\n",
    "# read in dataset and remove previouly set multiindex\n",
    "df = pd.read_csv(\"process_data_df10.csv\", header=[0,1], na_values=['nan'],\n",
    "sep=',',low_memory=False)\n",
    "\n",
    "# delet column without any information \n",
    "df.drop(['Unnamed: 0_level_0'],axis=1, inplace = True)\n",
    "df = df.droplevel(level=0,axis=1)\n",
    "\n",
    "# drop na and duplicates from qc_serien number since following assumption is made:\n",
    "# every qc has one serial number, if it occurs twice the sample has been tested twice, since there are\n",
    "# less than 1000 duplicates (less than 0.5 % of whole dataset) to keep them\n",
    "df = df.dropna(subset = ['qc_serien_nummer']).drop_duplicates(subset = ['qc_serien_nummer'])#.set_index('qc_serien_nummer')\n",
    "df"
   ]
  },
  {
   "cell_type": "markdown",
   "metadata": {},
   "source": [
    "#### 2. remove all richtwert and ref columns into seperate dataframe\n",
    "\n",
    "- Richtwert and Ref are not measured during the different processes, therefore they can be removed to a seperate dataframe"
   ]
  },
  {
   "cell_type": "code",
   "execution_count": 2,
   "metadata": {},
   "outputs": [],
   "source": [
    "df1 = df.copy()\n",
    "result = pd.concat([df1.filter(regex = '_ref'), df1.filter(regex = '_richtwert_')], axis = 1, sort = False)\n",
    "result1 = result.loc[:,~result.columns.duplicated()]\n",
    "#result1 = result1.join(identdf)\n",
    "#result1.to_pickle('Richtwert_ref_variables_dataset.pkl')\n",
    "df1.drop(result1, axis = 1, inplace = True)"
   ]
  },
  {
   "cell_type": "markdown",
   "metadata": {},
   "source": [
    "#### 3. make mean column and drop the columns the mean is made from\n",
    "- Creation of mean columns as features and dropping of multiple measurement columns. No outliers are removed. "
   ]
  },
  {
   "cell_type": "code",
   "execution_count": 3,
   "metadata": {},
   "outputs": [],
   "source": [
    "df2 = df1.copy()\n",
    "\n",
    "# Multiple Measurment columns\n",
    "meanList = ['pa_cm-pda','pa_chlorkonzentration','pa_air-knife_vor_amin_bad','airknife_vor_amin_trockner',\n",
    "            'pa_amin-trockner_feuchtigkeit_danfugt_bs','pa_amin-trockner_feuchtigkeit_danfugt_as','pa_amin-trockner_feuchtigkeit_cofely',\n",
    "            'ps_dicke','ps_bad_temperatur','ps_auftragswerk_feuchtigkeit','sc_d_links_werte','sc_d_rechts_werte']\n",
    "\n",
    "\n",
    "# Funktion to drop multiple measurment values\n",
    "def MeanColumnCreate(meanList, df):\n",
    "  for i in meanList:\n",
    "      filterdf = df.filter(regex = i)\n",
    "      name = i+\"_mean\"\n",
    "      df[name] = filterdf.iloc[:].mean(axis = 1)\n",
    "      df.drop(filterdf, axis = 1, inplace = True)"
   ]
  },
  {
   "cell_type": "code",
   "execution_count": 4,
   "metadata": {},
   "outputs": [],
   "source": [
    "MeanColumnCreate(meanList, df2)\n",
    "df2.to_pickle('process_data_mean_columns_added')"
   ]
  },
  {
   "cell_type": "markdown",
   "metadata": {},
   "source": [
    "#### 4. remove all median columns \n",
    "- The median can be created on demand if needed, therefore the median columns are removed"
   ]
  },
  {
   "cell_type": "code",
   "execution_count": 5,
   "metadata": {},
   "outputs": [],
   "source": [
    "df3 = df2.copy()\n",
    "df3.drop(df3.filter(regex = 'median'), axis = 1, inplace = True)"
   ]
  },
  {
   "cell_type": "markdown",
   "metadata": {},
   "source": [
    "#### 5. remove all datetimes columns \n",
    "- The hypothesis testing, see other notebook does not depend on the date, therefore this columns are dropped"
   ]
  },
  {
   "cell_type": "code",
   "execution_count": 6,
   "metadata": {},
   "outputs": [],
   "source": [
    "df4 = df3.copy()\n",
    "dfdate = df4.select_dtypes(include = ['datetime64']).join(df4[['reaction_end','reaction_start']])\n",
    "df4.drop(dfdate, axis = 1, inplace = True)"
   ]
  },
  {
   "cell_type": "markdown",
   "metadata": {},
   "source": [
    "#### 6. remove all columns with the keyword datum"
   ]
  },
  {
   "cell_type": "code",
   "execution_count": 7,
   "metadata": {},
   "outputs": [],
   "source": [
    "df5 = df4.copy()\n",
    "df5.drop(df5.filter(regex = 'datum'), axis = 1, inplace = True)"
   ]
  },
  {
   "cell_type": "markdown",
   "metadata": {},
   "source": [
    "#### 7. drop of certain columns, for detail see comments"
   ]
  },
  {
   "cell_type": "code",
   "execution_count": 8,
   "metadata": {},
   "outputs": [],
   "source": [
    "dropList = ['qc_maximalersalzrueckhalt','qc_breite','sc_d_links_anz_max','sc_d_rechts_anz_min',\n",
    "            'sc_d_rechts_anz_max','qc_barcode_leak_test_values', 'ps','pa_coating','nr','pa_mpda_lsg','pa_chlorlsg','pa_sbs_lsg',\n",
    "            'pa_alkalilsg','p_product_size','p_effective_area_per_leaf_m2','p_product_type', 'pa_beschichtete_rollenlange_m','pp_actual_product',\n",
    "           'pp_actual_product_short_name','pp_plan_ausbeute_elemente', 'pp_plan_product', 'pp_product_short_name',\n",
    "           'qc_p_position','roll_position','winding_product_short_name','winding_product_type','assembled_in_elements_m', 'winding_product_line',\n",
    "           'qc_mstaerke','qc_nachkommadurchfluss','qc_temperaturc', 'pa_tmc_gehalt_%']\n",
    "\n",
    "df6 = df5.copy()\n",
    "for i in dropList:\n",
    "    df6.drop(i, axis = 1, inplace = True)\n",
    "# qc_maximalersalzruckhalt : just two values 0 and 99.99 \n",
    "# qc_breite : just two values 985 and 0\n",
    "# sc_d_links_anz_max : because has 118639 zero values (0.04 % are not zero)\n",
    "# sc_d_rechts_anz_min : has 118674 (> 99.9%) zeros\n",
    "# sc_d_rechts_anz_max  : has 118528 (99.9%) zeros\n",
    "# qc_barcode_leak_test : categorical variable not fully understood\n",
    "# ps : categorical variable not fully understood\n",
    "# pa_coating : dummy variable\n",
    "# nr : not necessary for linear regression\n",
    "# all ending with lsg : seems to be container numbers for the reaction solution, no details are known about these containers\n",
    "# p_product_size [1.4646, 1.3914, 0] is a recoding of p_effective_area_per_leaf_m2 [8, 4, 0]\n",
    "# p_product_full_name : categorical variable, which contains same information as p_product_type\n",
    "# p_product_type : renamed with more clear name aka B400 ULP, therefore dropped\n",
    "# all pp_ : are subsets of categorical variables of p_product\n",
    "# qc_p_position','roll_position','winding_product_short_name','winding_product_type' all categorical variable\n",
    "# qc_mstaerke constant value : 0.13\n",
    "# qc_nachkommadurchfluss constant values : 1 \n",
    "# qc_temperaturc  constant value : 25\n",
    "# pa_tmc_gehalt_% : contains more than 60% Nas"
   ]
  },
  {
   "cell_type": "code",
   "execution_count": 9,
   "metadata": {},
   "outputs": [
    {
     "data": {
      "text/plain": [
       "array([ 31., 310.,  33.])"
      ]
     },
     "execution_count": 9,
     "metadata": {},
     "output_type": "execute_result"
    }
   ],
   "source": [
    "df6['ps_c_losung_wt_%'].unique()"
   ]
  },
  {
   "cell_type": "markdown",
   "metadata": {},
   "source": [
    "#### 8. Target variables\n",
    "- Following variables are target variables, because they have the most distinct values and their names indicate, that e.g qc_durchfluss means flow through the membrane a important quality trait"
   ]
  },
  {
   "cell_type": "code",
   "execution_count": 10,
   "metadata": {},
   "outputs": [],
   "source": [
    "targetVariables = ['qc_a-value_l/m2/h/bar','qc_b-value_m/s_10-6','qc_salzrckhalt','qc_flux_l/m2/h','qc_durchfluss']"
   ]
  },
  {
   "cell_type": "code",
   "execution_count": null,
   "metadata": {},
   "outputs": [],
   "source": []
  },
  {
   "cell_type": "code",
   "execution_count": 11,
   "metadata": {},
   "outputs": [
    {
     "name": "stdout",
     "output_type": "stream",
     "text": [
      "ps_c_losung_wt_% has [ 31. 310.  33.] as unique numbers\n",
      "ps_gap_micro_m has [250. 280.] as unique numbers\n",
      "pa_bahn-geschwindigkeit_m/min has [ 9. 12.  6.] as unique numbers\n",
      "pa_bad-wechsel_m-pda has [False  True] as unique numbers\n",
      "pa_bad-wechsel_hw1 has [False  True] as unique numbers\n",
      "pa_bad-wechsel_hw2 has [ True False] as unique numbers\n",
      "pa_bad-wechsel_chlor has [False  True] as unique numbers\n",
      "pa_bad-wechsel_hw3 has [False  True] as unique numbers\n",
      "pa_ce-capro_lactam_% has [ 0.   16.6   2.4   4.    0.67  0.16  0.12] as unique numbers\n",
      "pa_temperatur_chlorbad_start_c has [20.  21.  22.  19.  18.   0.  17.  22.4] as unique numbers\n",
      "pa_amin-trockner_temperatur_danfugt_c has [30. 35. 65. 25. 33.  0. 36. 27. 32.] as unique numbers\n",
      "pa_decan-trockner_geblase_ende_% has [  0.  80.  85. 100.  65.   5.  88.  30.  92.] as unique numbers\n",
      "pa_staub-sauger_1_vor_aminbad_0_aus_>0_an has [  0. 100.] as unique numbers\n",
      "pa_staub-sauger_2_nach_aminbad has [  0. 100.] as unique numbers\n",
      "pa_staub-sauger_3_zw5_vor_hw2 has [  0. 100.] as unique numbers\n",
      "pa_staub-sauger_4_nach_hw2 has [  0. 100.] as unique numbers\n",
      "pa_staub-sauger_5 has [  0. 100.] as unique numbers\n",
      "pa_bad-wechsel_mpda_nach has [False  True] as unique numbers\n",
      "pa_bad-wechsel_chlor_nach has [False  True] as unique numbers\n",
      "pa_defects_hand_# has [   0.  619. 4960.  495. 3805. 6426. 7125. 1815.] as unique numbers\n",
      "pp_actual_usage has ['use' 'trash'] as unique numbers\n",
      "pa_rollen_seit_letztem_bad-wechsel_mpda has [2 0 3 4 1 5 6] as unique numbers\n",
      "pa_rollen_seit_letztem_bad-wechsel_chlor has [2 0 3 4 1 5 6] as unique numbers\n",
      "winding_product_size has [400.  85. 440.] as unique numbers\n",
      "winding_number_of_leaves has [26. 25.  6. 28.] as unique numbers\n",
      "sc_l_ergebnis_p_nio has [0. 1.] as unique numbers\n",
      "sc_l_parameter_pressure_absolut has [0.   0.08] as unique numbers\n",
      "sc_l_parameter_pressure_prozent has [ 0. 15.] as unique numbers\n",
      "sc_d_parameter_min has [ 0.00e+00  1.84e+02  1.86e+02  2.00e+00 -4.00e+03  8.00e+01] as unique numbers\n",
      "sc_d_parameter_max has [   0.  198.  200. 1000. 2000.  100.  196.] as unique numbers\n",
      "sc_d_parameter_anz_werte has [  0.   6. 598.] as unique numbers\n",
      "sc_d_parameter_1_min has [ 0.00e+00  1.80e+02  1.86e+02  2.00e+00 -1.80e+04  8.00e+01] as unique numbers\n",
      "sc_d_parameter_1_max has [   0.  194.  200. 1000. 2000.  100.  196.] as unique numbers\n",
      "sc_d_parameter_deltamax has [  0.   6. 400.] as unique numbers\n",
      "sc_d_ergebnis_min_ok has [0. 2.] as unique numbers\n",
      "sc_d_ergebnis_max_ok has [0. 2.] as unique numbers\n",
      "sc_d_ergebnis_anz_min_ok has [0. 2.] as unique numbers\n",
      "sc_d_ergebnis_anz_max_ok has [0. 2.] as unique numbers\n",
      "sc_d_ergebnis_deltamax_ok has [0. 2.] as unique numbers\n",
      "sc_d_ergebnis_nio has [0. 2.] as unique numbers\n",
      "sc_d_links_anz_min has [ 0. 40.] as unique numbers\n",
      "qc_lasttest has [1. 0. 2. 5. 3. 4. 6. 7.] as unique numbers\n",
      "qc_minimalersalzrueckhalt has [99.2 99.  99.3 99.5 99.6] as unique numbers\n",
      "qc_durchminimalersalzrueckhalt has [99.5 99.7 99.8] as unique numbers\n",
      "qc_konzentration has [ 2000.   500. 32000.] as unique numbers\n",
      "qc_faktorkonzentration has [1 0] as unique numbers\n",
      "qc_druckpsi has [150. 225. 110. 800.] as unique numbers\n",
      "qc_rueckhalt has [15.  8.] as unique numbers\n",
      "qc_ph has [7. 8.] as unique numbers\n",
      "qc_nachkommasalzrueckhalt has [1. 2.] as unique numbers\n",
      "qc_rundunggpd has [10. 50.] as unique numbers\n",
      "qc_konzentrationflow has [4800. 1200.] as unique numbers\n",
      "qc_lagen has [26. 25.  6. 28.] as unique numbers\n",
      "p_product_group has ['Brackwasserelemente' 'Seewasserelemente'] as unique numbers\n",
      "p_effective_pressure_bar has [ 8.71  13.91   7.165 30.51 ] as unique numbers\n",
      "p_Product_type_group has ['Low Energy' 'Fouling Resistant' 'High Flow' 'Ultra Low Pressure'\n",
      " 'High Performance' 'High Rejection'] as unique numbers\n"
     ]
    },
    {
     "data": {
      "text/plain": [
       "56"
      ]
     },
     "execution_count": 11,
     "metadata": {},
     "output_type": "execute_result"
    }
   ],
   "source": [
    "# selecting categorical variables\n",
    "# Following assumption is made : Remove or review features that have low Variation: \n",
    "# if the feature has mostly same values, it is highly likely that the model is not going to learn anything from it.\n",
    "# we assume that features less than 10 unique values should be looked at and then maybe removed \n",
    "uniqueList = list((df6.loc[:,df6.nunique()<10]).columns)\n",
    "for i in uniqueList:\n",
    "    print('{} has {} as unique numbers'.format(i,df6[i].unique()))\n",
    "len(uniqueList) #56 for <10\n"
   ]
  },
  {
   "cell_type": "markdown",
   "metadata": {},
   "source": [
    "#### 9. Updating the dataset\n",
    "- When we look at the above list we see that for example pa_staub-sauger columns have only two values and that greater 0 mean on, so we set that condition to True and 0 is set as False for columns with this name pattern.\n",
    "- Also the column actual usage will be converted into boolean, usage = True , trash = False\n",
    "- Drop of qc_ph since it is assumed it only shows which pH values was choosen for the qc. \n",
    "- Drop of qc_rundunggpd since it is assumed to only indicate how to round\n",
    "- Drop of qc_nachommarueckhalt since it is assumed it only shows how many decimals are shown for salzrckhalt"
   ]
  },
  {
   "cell_type": "code",
   "execution_count": 45,
   "metadata": {},
   "outputs": [],
   "source": [
    "paStaubSaugerList = list(df6.filter(regex = 'pa_staub-sauger').columns)\n",
    "paStaubSaugerList\n",
    "for i in paStaubSaugerList:\n",
    "    df6[i] = df6[i].map({100. : True, 0. : False})\n",
    "df6.filter(regex = 'pa_staub-sauger')\n",
    "df7 = df6.copy()"
   ]
  },
  {
   "cell_type": "code",
   "execution_count": 46,
   "metadata": {},
   "outputs": [],
   "source": [
    "df7['pp_actual_usage'].replace({'use':True, 'trash':False}, inplace = True)"
   ]
  },
  {
   "cell_type": "code",
   "execution_count": 47,
   "metadata": {},
   "outputs": [
    {
     "data": {
      "text/plain": [
       "0         True\n",
       "1         True\n",
       "2         True\n",
       "3         True\n",
       "4         True\n",
       "          ... \n",
       "118682    True\n",
       "118683    True\n",
       "118684    True\n",
       "118685    True\n",
       "118686    True\n",
       "Name: pp_actual_usage, Length: 117862, dtype: bool"
      ]
     },
     "execution_count": 47,
     "metadata": {},
     "output_type": "execute_result"
    }
   ],
   "source": [
    "df7['pp_actual_usage']"
   ]
  },
  {
   "cell_type": "code",
   "execution_count": 48,
   "metadata": {},
   "outputs": [],
   "source": [
    "df7.drop(['qc_ph','qc_nachkommasalzrueckhalt','qc_rundunggpd'],axis = 1, inplace = True)"
   ]
  },
  {
   "cell_type": "code",
   "execution_count": 49,
   "metadata": {},
   "outputs": [
    {
     "data": {
      "text/html": [
       "<div>\n",
       "<style scoped>\n",
       "    .dataframe tbody tr th:only-of-type {\n",
       "        vertical-align: middle;\n",
       "    }\n",
       "\n",
       "    .dataframe tbody tr th {\n",
       "        vertical-align: top;\n",
       "    }\n",
       "\n",
       "    .dataframe thead th {\n",
       "        text-align: right;\n",
       "    }\n",
       "</style>\n",
       "<table border=\"1\" class=\"dataframe\">\n",
       "  <thead>\n",
       "    <tr style=\"text-align: right;\">\n",
       "      <th></th>\n",
       "      <th>ps_beschichtete_rollenlange_m</th>\n",
       "      <th>ps_c_losung_wt_%</th>\n",
       "      <th>ps_gap_micro_m</th>\n",
       "      <th>ps_raum_temperatur_start_c</th>\n",
       "      <th>ps_auftragsbank_temperatur_start_c</th>\n",
       "      <th>ps_raum-feuchtigkeit_start_%</th>\n",
       "      <th>ps_out_m</th>\n",
       "      <th>ps_scrap_%</th>\n",
       "      <th>pa_bahn-geschwindigkeit_m/min</th>\n",
       "      <th>pa_raum_temperatur_start_c</th>\n",
       "      <th>...</th>\n",
       "      <th>pa_air-knife_vor_amin_bad_mean</th>\n",
       "      <th>airknife_vor_amin_trockner_mean</th>\n",
       "      <th>pa_amin-trockner_feuchtigkeit_danfugt_bs_mean</th>\n",
       "      <th>pa_amin-trockner_feuchtigkeit_danfugt_as_mean</th>\n",
       "      <th>pa_amin-trockner_feuchtigkeit_cofely_mean</th>\n",
       "      <th>ps_dicke_mean</th>\n",
       "      <th>ps_bad_temperatur_mean</th>\n",
       "      <th>ps_auftragswerk_feuchtigkeit_mean</th>\n",
       "      <th>sc_d_links_werte_mean</th>\n",
       "      <th>sc_d_rechts_werte_mean</th>\n",
       "    </tr>\n",
       "  </thead>\n",
       "  <tbody>\n",
       "    <tr>\n",
       "      <th>0</th>\n",
       "      <td>4487.0</td>\n",
       "      <td>31.0</td>\n",
       "      <td>250.0</td>\n",
       "      <td>24.0</td>\n",
       "      <td>19.0</td>\n",
       "      <td>57.0</td>\n",
       "      <td>4487.0</td>\n",
       "      <td>2.456522</td>\n",
       "      <td>9.0</td>\n",
       "      <td>24.0</td>\n",
       "      <td>...</td>\n",
       "      <td>80.0</td>\n",
       "      <td>40.00</td>\n",
       "      <td>57.0</td>\n",
       "      <td>56.0</td>\n",
       "      <td>79.8500</td>\n",
       "      <td>134.785714</td>\n",
       "      <td>21.688889</td>\n",
       "      <td>75.625</td>\n",
       "      <td>0.0</td>\n",
       "      <td>0.0</td>\n",
       "    </tr>\n",
       "    <tr>\n",
       "      <th>1</th>\n",
       "      <td>4487.0</td>\n",
       "      <td>31.0</td>\n",
       "      <td>250.0</td>\n",
       "      <td>24.0</td>\n",
       "      <td>19.0</td>\n",
       "      <td>57.0</td>\n",
       "      <td>4487.0</td>\n",
       "      <td>2.456522</td>\n",
       "      <td>9.0</td>\n",
       "      <td>24.0</td>\n",
       "      <td>...</td>\n",
       "      <td>80.0</td>\n",
       "      <td>40.00</td>\n",
       "      <td>57.0</td>\n",
       "      <td>56.0</td>\n",
       "      <td>79.8500</td>\n",
       "      <td>134.785714</td>\n",
       "      <td>21.688889</td>\n",
       "      <td>75.625</td>\n",
       "      <td>0.0</td>\n",
       "      <td>0.0</td>\n",
       "    </tr>\n",
       "    <tr>\n",
       "      <th>2</th>\n",
       "      <td>4487.0</td>\n",
       "      <td>31.0</td>\n",
       "      <td>250.0</td>\n",
       "      <td>24.0</td>\n",
       "      <td>19.0</td>\n",
       "      <td>57.0</td>\n",
       "      <td>4487.0</td>\n",
       "      <td>2.456522</td>\n",
       "      <td>9.0</td>\n",
       "      <td>24.0</td>\n",
       "      <td>...</td>\n",
       "      <td>80.0</td>\n",
       "      <td>40.00</td>\n",
       "      <td>57.0</td>\n",
       "      <td>56.0</td>\n",
       "      <td>79.8500</td>\n",
       "      <td>134.785714</td>\n",
       "      <td>21.688889</td>\n",
       "      <td>75.625</td>\n",
       "      <td>0.0</td>\n",
       "      <td>0.0</td>\n",
       "    </tr>\n",
       "    <tr>\n",
       "      <th>3</th>\n",
       "      <td>4487.0</td>\n",
       "      <td>31.0</td>\n",
       "      <td>250.0</td>\n",
       "      <td>24.0</td>\n",
       "      <td>19.0</td>\n",
       "      <td>57.0</td>\n",
       "      <td>4487.0</td>\n",
       "      <td>2.456522</td>\n",
       "      <td>9.0</td>\n",
       "      <td>24.0</td>\n",
       "      <td>...</td>\n",
       "      <td>80.0</td>\n",
       "      <td>40.00</td>\n",
       "      <td>57.0</td>\n",
       "      <td>56.0</td>\n",
       "      <td>79.8500</td>\n",
       "      <td>134.785714</td>\n",
       "      <td>21.688889</td>\n",
       "      <td>75.625</td>\n",
       "      <td>0.0</td>\n",
       "      <td>0.0</td>\n",
       "    </tr>\n",
       "    <tr>\n",
       "      <th>4</th>\n",
       "      <td>4487.0</td>\n",
       "      <td>31.0</td>\n",
       "      <td>250.0</td>\n",
       "      <td>24.0</td>\n",
       "      <td>19.0</td>\n",
       "      <td>57.0</td>\n",
       "      <td>4487.0</td>\n",
       "      <td>2.456522</td>\n",
       "      <td>9.0</td>\n",
       "      <td>24.0</td>\n",
       "      <td>...</td>\n",
       "      <td>80.0</td>\n",
       "      <td>40.00</td>\n",
       "      <td>57.0</td>\n",
       "      <td>56.0</td>\n",
       "      <td>79.8500</td>\n",
       "      <td>134.785714</td>\n",
       "      <td>21.688889</td>\n",
       "      <td>75.625</td>\n",
       "      <td>0.0</td>\n",
       "      <td>0.0</td>\n",
       "    </tr>\n",
       "    <tr>\n",
       "      <th>...</th>\n",
       "      <td>...</td>\n",
       "      <td>...</td>\n",
       "      <td>...</td>\n",
       "      <td>...</td>\n",
       "      <td>...</td>\n",
       "      <td>...</td>\n",
       "      <td>...</td>\n",
       "      <td>...</td>\n",
       "      <td>...</td>\n",
       "      <td>...</td>\n",
       "      <td>...</td>\n",
       "      <td>...</td>\n",
       "      <td>...</td>\n",
       "      <td>...</td>\n",
       "      <td>...</td>\n",
       "      <td>...</td>\n",
       "      <td>...</td>\n",
       "      <td>...</td>\n",
       "      <td>...</td>\n",
       "      <td>...</td>\n",
       "      <td>...</td>\n",
       "    </tr>\n",
       "    <tr>\n",
       "      <th>118682</th>\n",
       "      <td>2202.0</td>\n",
       "      <td>31.0</td>\n",
       "      <td>250.0</td>\n",
       "      <td>24.0</td>\n",
       "      <td>19.0</td>\n",
       "      <td>46.0</td>\n",
       "      <td>2202.0</td>\n",
       "      <td>4.260870</td>\n",
       "      <td>9.0</td>\n",
       "      <td>23.4</td>\n",
       "      <td>...</td>\n",
       "      <td>40.0</td>\n",
       "      <td>18.75</td>\n",
       "      <td>35.8</td>\n",
       "      <td>34.4</td>\n",
       "      <td>39.7875</td>\n",
       "      <td>133.571429</td>\n",
       "      <td>12.300000</td>\n",
       "      <td>27.625</td>\n",
       "      <td>0.0</td>\n",
       "      <td>0.0</td>\n",
       "    </tr>\n",
       "    <tr>\n",
       "      <th>118683</th>\n",
       "      <td>2202.0</td>\n",
       "      <td>31.0</td>\n",
       "      <td>250.0</td>\n",
       "      <td>24.0</td>\n",
       "      <td>19.0</td>\n",
       "      <td>46.0</td>\n",
       "      <td>2202.0</td>\n",
       "      <td>4.260870</td>\n",
       "      <td>9.0</td>\n",
       "      <td>23.4</td>\n",
       "      <td>...</td>\n",
       "      <td>40.0</td>\n",
       "      <td>18.75</td>\n",
       "      <td>35.8</td>\n",
       "      <td>34.4</td>\n",
       "      <td>39.7875</td>\n",
       "      <td>133.571429</td>\n",
       "      <td>12.300000</td>\n",
       "      <td>27.625</td>\n",
       "      <td>0.0</td>\n",
       "      <td>0.0</td>\n",
       "    </tr>\n",
       "    <tr>\n",
       "      <th>118684</th>\n",
       "      <td>2202.0</td>\n",
       "      <td>31.0</td>\n",
       "      <td>250.0</td>\n",
       "      <td>24.0</td>\n",
       "      <td>19.0</td>\n",
       "      <td>46.0</td>\n",
       "      <td>2202.0</td>\n",
       "      <td>4.260870</td>\n",
       "      <td>9.0</td>\n",
       "      <td>23.4</td>\n",
       "      <td>...</td>\n",
       "      <td>40.0</td>\n",
       "      <td>18.75</td>\n",
       "      <td>35.8</td>\n",
       "      <td>34.4</td>\n",
       "      <td>39.7875</td>\n",
       "      <td>133.571429</td>\n",
       "      <td>12.300000</td>\n",
       "      <td>27.625</td>\n",
       "      <td>0.0</td>\n",
       "      <td>0.0</td>\n",
       "    </tr>\n",
       "    <tr>\n",
       "      <th>118685</th>\n",
       "      <td>2202.0</td>\n",
       "      <td>31.0</td>\n",
       "      <td>250.0</td>\n",
       "      <td>24.0</td>\n",
       "      <td>19.0</td>\n",
       "      <td>46.0</td>\n",
       "      <td>2202.0</td>\n",
       "      <td>4.260870</td>\n",
       "      <td>9.0</td>\n",
       "      <td>23.4</td>\n",
       "      <td>...</td>\n",
       "      <td>40.0</td>\n",
       "      <td>18.75</td>\n",
       "      <td>35.8</td>\n",
       "      <td>34.4</td>\n",
       "      <td>39.7875</td>\n",
       "      <td>133.571429</td>\n",
       "      <td>12.300000</td>\n",
       "      <td>27.625</td>\n",
       "      <td>0.0</td>\n",
       "      <td>0.0</td>\n",
       "    </tr>\n",
       "    <tr>\n",
       "      <th>118686</th>\n",
       "      <td>2202.0</td>\n",
       "      <td>31.0</td>\n",
       "      <td>250.0</td>\n",
       "      <td>24.0</td>\n",
       "      <td>19.0</td>\n",
       "      <td>46.0</td>\n",
       "      <td>2202.0</td>\n",
       "      <td>4.260870</td>\n",
       "      <td>9.0</td>\n",
       "      <td>23.4</td>\n",
       "      <td>...</td>\n",
       "      <td>40.0</td>\n",
       "      <td>18.75</td>\n",
       "      <td>35.8</td>\n",
       "      <td>34.4</td>\n",
       "      <td>39.7875</td>\n",
       "      <td>133.571429</td>\n",
       "      <td>12.300000</td>\n",
       "      <td>27.625</td>\n",
       "      <td>0.0</td>\n",
       "      <td>0.0</td>\n",
       "    </tr>\n",
       "  </tbody>\n",
       "</table>\n",
       "<p>117862 rows × 133 columns</p>\n",
       "</div>"
      ],
      "text/plain": [
       "        ps_beschichtete_rollenlange_m  ps_c_losung_wt_%  ps_gap_micro_m  \\\n",
       "0                              4487.0              31.0           250.0   \n",
       "1                              4487.0              31.0           250.0   \n",
       "2                              4487.0              31.0           250.0   \n",
       "3                              4487.0              31.0           250.0   \n",
       "4                              4487.0              31.0           250.0   \n",
       "...                               ...               ...             ...   \n",
       "118682                         2202.0              31.0           250.0   \n",
       "118683                         2202.0              31.0           250.0   \n",
       "118684                         2202.0              31.0           250.0   \n",
       "118685                         2202.0              31.0           250.0   \n",
       "118686                         2202.0              31.0           250.0   \n",
       "\n",
       "        ps_raum_temperatur_start_c  ps_auftragsbank_temperatur_start_c  \\\n",
       "0                             24.0                                19.0   \n",
       "1                             24.0                                19.0   \n",
       "2                             24.0                                19.0   \n",
       "3                             24.0                                19.0   \n",
       "4                             24.0                                19.0   \n",
       "...                            ...                                 ...   \n",
       "118682                        24.0                                19.0   \n",
       "118683                        24.0                                19.0   \n",
       "118684                        24.0                                19.0   \n",
       "118685                        24.0                                19.0   \n",
       "118686                        24.0                                19.0   \n",
       "\n",
       "        ps_raum-feuchtigkeit_start_%  ps_out_m  ps_scrap_%  \\\n",
       "0                               57.0    4487.0    2.456522   \n",
       "1                               57.0    4487.0    2.456522   \n",
       "2                               57.0    4487.0    2.456522   \n",
       "3                               57.0    4487.0    2.456522   \n",
       "4                               57.0    4487.0    2.456522   \n",
       "...                              ...       ...         ...   \n",
       "118682                          46.0    2202.0    4.260870   \n",
       "118683                          46.0    2202.0    4.260870   \n",
       "118684                          46.0    2202.0    4.260870   \n",
       "118685                          46.0    2202.0    4.260870   \n",
       "118686                          46.0    2202.0    4.260870   \n",
       "\n",
       "        pa_bahn-geschwindigkeit_m/min  pa_raum_temperatur_start_c  ...  \\\n",
       "0                                 9.0                        24.0  ...   \n",
       "1                                 9.0                        24.0  ...   \n",
       "2                                 9.0                        24.0  ...   \n",
       "3                                 9.0                        24.0  ...   \n",
       "4                                 9.0                        24.0  ...   \n",
       "...                               ...                         ...  ...   \n",
       "118682                            9.0                        23.4  ...   \n",
       "118683                            9.0                        23.4  ...   \n",
       "118684                            9.0                        23.4  ...   \n",
       "118685                            9.0                        23.4  ...   \n",
       "118686                            9.0                        23.4  ...   \n",
       "\n",
       "        pa_air-knife_vor_amin_bad_mean  airknife_vor_amin_trockner_mean  \\\n",
       "0                                 80.0                            40.00   \n",
       "1                                 80.0                            40.00   \n",
       "2                                 80.0                            40.00   \n",
       "3                                 80.0                            40.00   \n",
       "4                                 80.0                            40.00   \n",
       "...                                ...                              ...   \n",
       "118682                            40.0                            18.75   \n",
       "118683                            40.0                            18.75   \n",
       "118684                            40.0                            18.75   \n",
       "118685                            40.0                            18.75   \n",
       "118686                            40.0                            18.75   \n",
       "\n",
       "        pa_amin-trockner_feuchtigkeit_danfugt_bs_mean  \\\n",
       "0                                                57.0   \n",
       "1                                                57.0   \n",
       "2                                                57.0   \n",
       "3                                                57.0   \n",
       "4                                                57.0   \n",
       "...                                               ...   \n",
       "118682                                           35.8   \n",
       "118683                                           35.8   \n",
       "118684                                           35.8   \n",
       "118685                                           35.8   \n",
       "118686                                           35.8   \n",
       "\n",
       "        pa_amin-trockner_feuchtigkeit_danfugt_as_mean  \\\n",
       "0                                                56.0   \n",
       "1                                                56.0   \n",
       "2                                                56.0   \n",
       "3                                                56.0   \n",
       "4                                                56.0   \n",
       "...                                               ...   \n",
       "118682                                           34.4   \n",
       "118683                                           34.4   \n",
       "118684                                           34.4   \n",
       "118685                                           34.4   \n",
       "118686                                           34.4   \n",
       "\n",
       "        pa_amin-trockner_feuchtigkeit_cofely_mean  ps_dicke_mean  \\\n",
       "0                                         79.8500     134.785714   \n",
       "1                                         79.8500     134.785714   \n",
       "2                                         79.8500     134.785714   \n",
       "3                                         79.8500     134.785714   \n",
       "4                                         79.8500     134.785714   \n",
       "...                                           ...            ...   \n",
       "118682                                    39.7875     133.571429   \n",
       "118683                                    39.7875     133.571429   \n",
       "118684                                    39.7875     133.571429   \n",
       "118685                                    39.7875     133.571429   \n",
       "118686                                    39.7875     133.571429   \n",
       "\n",
       "        ps_bad_temperatur_mean  ps_auftragswerk_feuchtigkeit_mean  \\\n",
       "0                    21.688889                             75.625   \n",
       "1                    21.688889                             75.625   \n",
       "2                    21.688889                             75.625   \n",
       "3                    21.688889                             75.625   \n",
       "4                    21.688889                             75.625   \n",
       "...                        ...                                ...   \n",
       "118682               12.300000                             27.625   \n",
       "118683               12.300000                             27.625   \n",
       "118684               12.300000                             27.625   \n",
       "118685               12.300000                             27.625   \n",
       "118686               12.300000                             27.625   \n",
       "\n",
       "        sc_d_links_werte_mean  sc_d_rechts_werte_mean  \n",
       "0                         0.0                     0.0  \n",
       "1                         0.0                     0.0  \n",
       "2                         0.0                     0.0  \n",
       "3                         0.0                     0.0  \n",
       "4                         0.0                     0.0  \n",
       "...                       ...                     ...  \n",
       "118682                    0.0                     0.0  \n",
       "118683                    0.0                     0.0  \n",
       "118684                    0.0                     0.0  \n",
       "118685                    0.0                     0.0  \n",
       "118686                    0.0                     0.0  \n",
       "\n",
       "[117862 rows x 133 columns]"
      ]
     },
     "execution_count": 49,
     "metadata": {},
     "output_type": "execute_result"
    }
   ],
   "source": [
    "df7.select_dtypes(include =['float64', 'int'])"
   ]
  },
  {
   "cell_type": "markdown",
   "metadata": {},
   "source": [
    "#### 8. recoding of boolean to be used in linear regression"
   ]
  },
  {
   "cell_type": "code",
   "execution_count": 17,
   "metadata": {},
   "outputs": [],
   "source": [
    "dfboollist = list(df7.select_dtypes(include = 'bool').columns)\n",
    "for i in dfboollist:\n",
    "    df7[i] = df7[i].map({True: 1, False: 0})\n",
    "\n",
    "#df6.to_pickle('process_data_mean_columns_added_median_dropped_bool_to_number_df6_154')"
   ]
  },
  {
   "cell_type": "code",
   "execution_count": 50,
   "metadata": {},
   "outputs": [
    {
     "data": {
      "text/html": [
       "<div>\n",
       "<style scoped>\n",
       "    .dataframe tbody tr th:only-of-type {\n",
       "        vertical-align: middle;\n",
       "    }\n",
       "\n",
       "    .dataframe tbody tr th {\n",
       "        vertical-align: top;\n",
       "    }\n",
       "\n",
       "    .dataframe thead th {\n",
       "        text-align: right;\n",
       "    }\n",
       "</style>\n",
       "<table border=\"1\" class=\"dataframe\">\n",
       "  <thead>\n",
       "    <tr style=\"text-align: right;\">\n",
       "      <th></th>\n",
       "      <th>ps_beschichtete_rollenlange_m</th>\n",
       "      <th>ps_c_losung_wt_%</th>\n",
       "      <th>ps_gap_micro_m</th>\n",
       "      <th>ps_raum_temperatur_start_c</th>\n",
       "      <th>ps_auftragsbank_temperatur_start_c</th>\n",
       "      <th>ps_raum-feuchtigkeit_start_%</th>\n",
       "      <th>ps_out_m</th>\n",
       "      <th>ps_scrap_%</th>\n",
       "      <th>pa_bahn-geschwindigkeit_m/min</th>\n",
       "      <th>pa_raum_temperatur_start_c</th>\n",
       "      <th>...</th>\n",
       "      <th>pa_air-knife_vor_amin_bad_mean</th>\n",
       "      <th>airknife_vor_amin_trockner_mean</th>\n",
       "      <th>pa_amin-trockner_feuchtigkeit_danfugt_bs_mean</th>\n",
       "      <th>pa_amin-trockner_feuchtigkeit_danfugt_as_mean</th>\n",
       "      <th>pa_amin-trockner_feuchtigkeit_cofely_mean</th>\n",
       "      <th>ps_dicke_mean</th>\n",
       "      <th>ps_bad_temperatur_mean</th>\n",
       "      <th>ps_auftragswerk_feuchtigkeit_mean</th>\n",
       "      <th>sc_d_links_werte_mean</th>\n",
       "      <th>sc_d_rechts_werte_mean</th>\n",
       "    </tr>\n",
       "  </thead>\n",
       "  <tbody>\n",
       "    <tr>\n",
       "      <th>0</th>\n",
       "      <td>4487.0</td>\n",
       "      <td>31.0</td>\n",
       "      <td>250.0</td>\n",
       "      <td>24.0</td>\n",
       "      <td>19.0</td>\n",
       "      <td>57.0</td>\n",
       "      <td>4487.0</td>\n",
       "      <td>2.456522</td>\n",
       "      <td>9.0</td>\n",
       "      <td>24.0</td>\n",
       "      <td>...</td>\n",
       "      <td>80.0</td>\n",
       "      <td>40.00</td>\n",
       "      <td>57.0</td>\n",
       "      <td>56.0</td>\n",
       "      <td>79.8500</td>\n",
       "      <td>134.785714</td>\n",
       "      <td>21.688889</td>\n",
       "      <td>75.625</td>\n",
       "      <td>0.0</td>\n",
       "      <td>0.0</td>\n",
       "    </tr>\n",
       "    <tr>\n",
       "      <th>1</th>\n",
       "      <td>4487.0</td>\n",
       "      <td>31.0</td>\n",
       "      <td>250.0</td>\n",
       "      <td>24.0</td>\n",
       "      <td>19.0</td>\n",
       "      <td>57.0</td>\n",
       "      <td>4487.0</td>\n",
       "      <td>2.456522</td>\n",
       "      <td>9.0</td>\n",
       "      <td>24.0</td>\n",
       "      <td>...</td>\n",
       "      <td>80.0</td>\n",
       "      <td>40.00</td>\n",
       "      <td>57.0</td>\n",
       "      <td>56.0</td>\n",
       "      <td>79.8500</td>\n",
       "      <td>134.785714</td>\n",
       "      <td>21.688889</td>\n",
       "      <td>75.625</td>\n",
       "      <td>0.0</td>\n",
       "      <td>0.0</td>\n",
       "    </tr>\n",
       "    <tr>\n",
       "      <th>2</th>\n",
       "      <td>4487.0</td>\n",
       "      <td>31.0</td>\n",
       "      <td>250.0</td>\n",
       "      <td>24.0</td>\n",
       "      <td>19.0</td>\n",
       "      <td>57.0</td>\n",
       "      <td>4487.0</td>\n",
       "      <td>2.456522</td>\n",
       "      <td>9.0</td>\n",
       "      <td>24.0</td>\n",
       "      <td>...</td>\n",
       "      <td>80.0</td>\n",
       "      <td>40.00</td>\n",
       "      <td>57.0</td>\n",
       "      <td>56.0</td>\n",
       "      <td>79.8500</td>\n",
       "      <td>134.785714</td>\n",
       "      <td>21.688889</td>\n",
       "      <td>75.625</td>\n",
       "      <td>0.0</td>\n",
       "      <td>0.0</td>\n",
       "    </tr>\n",
       "    <tr>\n",
       "      <th>3</th>\n",
       "      <td>4487.0</td>\n",
       "      <td>31.0</td>\n",
       "      <td>250.0</td>\n",
       "      <td>24.0</td>\n",
       "      <td>19.0</td>\n",
       "      <td>57.0</td>\n",
       "      <td>4487.0</td>\n",
       "      <td>2.456522</td>\n",
       "      <td>9.0</td>\n",
       "      <td>24.0</td>\n",
       "      <td>...</td>\n",
       "      <td>80.0</td>\n",
       "      <td>40.00</td>\n",
       "      <td>57.0</td>\n",
       "      <td>56.0</td>\n",
       "      <td>79.8500</td>\n",
       "      <td>134.785714</td>\n",
       "      <td>21.688889</td>\n",
       "      <td>75.625</td>\n",
       "      <td>0.0</td>\n",
       "      <td>0.0</td>\n",
       "    </tr>\n",
       "    <tr>\n",
       "      <th>4</th>\n",
       "      <td>4487.0</td>\n",
       "      <td>31.0</td>\n",
       "      <td>250.0</td>\n",
       "      <td>24.0</td>\n",
       "      <td>19.0</td>\n",
       "      <td>57.0</td>\n",
       "      <td>4487.0</td>\n",
       "      <td>2.456522</td>\n",
       "      <td>9.0</td>\n",
       "      <td>24.0</td>\n",
       "      <td>...</td>\n",
       "      <td>80.0</td>\n",
       "      <td>40.00</td>\n",
       "      <td>57.0</td>\n",
       "      <td>56.0</td>\n",
       "      <td>79.8500</td>\n",
       "      <td>134.785714</td>\n",
       "      <td>21.688889</td>\n",
       "      <td>75.625</td>\n",
       "      <td>0.0</td>\n",
       "      <td>0.0</td>\n",
       "    </tr>\n",
       "    <tr>\n",
       "      <th>...</th>\n",
       "      <td>...</td>\n",
       "      <td>...</td>\n",
       "      <td>...</td>\n",
       "      <td>...</td>\n",
       "      <td>...</td>\n",
       "      <td>...</td>\n",
       "      <td>...</td>\n",
       "      <td>...</td>\n",
       "      <td>...</td>\n",
       "      <td>...</td>\n",
       "      <td>...</td>\n",
       "      <td>...</td>\n",
       "      <td>...</td>\n",
       "      <td>...</td>\n",
       "      <td>...</td>\n",
       "      <td>...</td>\n",
       "      <td>...</td>\n",
       "      <td>...</td>\n",
       "      <td>...</td>\n",
       "      <td>...</td>\n",
       "      <td>...</td>\n",
       "    </tr>\n",
       "    <tr>\n",
       "      <th>118682</th>\n",
       "      <td>2202.0</td>\n",
       "      <td>31.0</td>\n",
       "      <td>250.0</td>\n",
       "      <td>24.0</td>\n",
       "      <td>19.0</td>\n",
       "      <td>46.0</td>\n",
       "      <td>2202.0</td>\n",
       "      <td>4.260870</td>\n",
       "      <td>9.0</td>\n",
       "      <td>23.4</td>\n",
       "      <td>...</td>\n",
       "      <td>40.0</td>\n",
       "      <td>18.75</td>\n",
       "      <td>35.8</td>\n",
       "      <td>34.4</td>\n",
       "      <td>39.7875</td>\n",
       "      <td>133.571429</td>\n",
       "      <td>12.300000</td>\n",
       "      <td>27.625</td>\n",
       "      <td>0.0</td>\n",
       "      <td>0.0</td>\n",
       "    </tr>\n",
       "    <tr>\n",
       "      <th>118683</th>\n",
       "      <td>2202.0</td>\n",
       "      <td>31.0</td>\n",
       "      <td>250.0</td>\n",
       "      <td>24.0</td>\n",
       "      <td>19.0</td>\n",
       "      <td>46.0</td>\n",
       "      <td>2202.0</td>\n",
       "      <td>4.260870</td>\n",
       "      <td>9.0</td>\n",
       "      <td>23.4</td>\n",
       "      <td>...</td>\n",
       "      <td>40.0</td>\n",
       "      <td>18.75</td>\n",
       "      <td>35.8</td>\n",
       "      <td>34.4</td>\n",
       "      <td>39.7875</td>\n",
       "      <td>133.571429</td>\n",
       "      <td>12.300000</td>\n",
       "      <td>27.625</td>\n",
       "      <td>0.0</td>\n",
       "      <td>0.0</td>\n",
       "    </tr>\n",
       "    <tr>\n",
       "      <th>118684</th>\n",
       "      <td>2202.0</td>\n",
       "      <td>31.0</td>\n",
       "      <td>250.0</td>\n",
       "      <td>24.0</td>\n",
       "      <td>19.0</td>\n",
       "      <td>46.0</td>\n",
       "      <td>2202.0</td>\n",
       "      <td>4.260870</td>\n",
       "      <td>9.0</td>\n",
       "      <td>23.4</td>\n",
       "      <td>...</td>\n",
       "      <td>40.0</td>\n",
       "      <td>18.75</td>\n",
       "      <td>35.8</td>\n",
       "      <td>34.4</td>\n",
       "      <td>39.7875</td>\n",
       "      <td>133.571429</td>\n",
       "      <td>12.300000</td>\n",
       "      <td>27.625</td>\n",
       "      <td>0.0</td>\n",
       "      <td>0.0</td>\n",
       "    </tr>\n",
       "    <tr>\n",
       "      <th>118685</th>\n",
       "      <td>2202.0</td>\n",
       "      <td>31.0</td>\n",
       "      <td>250.0</td>\n",
       "      <td>24.0</td>\n",
       "      <td>19.0</td>\n",
       "      <td>46.0</td>\n",
       "      <td>2202.0</td>\n",
       "      <td>4.260870</td>\n",
       "      <td>9.0</td>\n",
       "      <td>23.4</td>\n",
       "      <td>...</td>\n",
       "      <td>40.0</td>\n",
       "      <td>18.75</td>\n",
       "      <td>35.8</td>\n",
       "      <td>34.4</td>\n",
       "      <td>39.7875</td>\n",
       "      <td>133.571429</td>\n",
       "      <td>12.300000</td>\n",
       "      <td>27.625</td>\n",
       "      <td>0.0</td>\n",
       "      <td>0.0</td>\n",
       "    </tr>\n",
       "    <tr>\n",
       "      <th>118686</th>\n",
       "      <td>2202.0</td>\n",
       "      <td>31.0</td>\n",
       "      <td>250.0</td>\n",
       "      <td>24.0</td>\n",
       "      <td>19.0</td>\n",
       "      <td>46.0</td>\n",
       "      <td>2202.0</td>\n",
       "      <td>4.260870</td>\n",
       "      <td>9.0</td>\n",
       "      <td>23.4</td>\n",
       "      <td>...</td>\n",
       "      <td>40.0</td>\n",
       "      <td>18.75</td>\n",
       "      <td>35.8</td>\n",
       "      <td>34.4</td>\n",
       "      <td>39.7875</td>\n",
       "      <td>133.571429</td>\n",
       "      <td>12.300000</td>\n",
       "      <td>27.625</td>\n",
       "      <td>0.0</td>\n",
       "      <td>0.0</td>\n",
       "    </tr>\n",
       "  </tbody>\n",
       "</table>\n",
       "<p>117862 rows × 133 columns</p>\n",
       "</div>"
      ],
      "text/plain": [
       "        ps_beschichtete_rollenlange_m  ps_c_losung_wt_%  ps_gap_micro_m  \\\n",
       "0                              4487.0              31.0           250.0   \n",
       "1                              4487.0              31.0           250.0   \n",
       "2                              4487.0              31.0           250.0   \n",
       "3                              4487.0              31.0           250.0   \n",
       "4                              4487.0              31.0           250.0   \n",
       "...                               ...               ...             ...   \n",
       "118682                         2202.0              31.0           250.0   \n",
       "118683                         2202.0              31.0           250.0   \n",
       "118684                         2202.0              31.0           250.0   \n",
       "118685                         2202.0              31.0           250.0   \n",
       "118686                         2202.0              31.0           250.0   \n",
       "\n",
       "        ps_raum_temperatur_start_c  ps_auftragsbank_temperatur_start_c  \\\n",
       "0                             24.0                                19.0   \n",
       "1                             24.0                                19.0   \n",
       "2                             24.0                                19.0   \n",
       "3                             24.0                                19.0   \n",
       "4                             24.0                                19.0   \n",
       "...                            ...                                 ...   \n",
       "118682                        24.0                                19.0   \n",
       "118683                        24.0                                19.0   \n",
       "118684                        24.0                                19.0   \n",
       "118685                        24.0                                19.0   \n",
       "118686                        24.0                                19.0   \n",
       "\n",
       "        ps_raum-feuchtigkeit_start_%  ps_out_m  ps_scrap_%  \\\n",
       "0                               57.0    4487.0    2.456522   \n",
       "1                               57.0    4487.0    2.456522   \n",
       "2                               57.0    4487.0    2.456522   \n",
       "3                               57.0    4487.0    2.456522   \n",
       "4                               57.0    4487.0    2.456522   \n",
       "...                              ...       ...         ...   \n",
       "118682                          46.0    2202.0    4.260870   \n",
       "118683                          46.0    2202.0    4.260870   \n",
       "118684                          46.0    2202.0    4.260870   \n",
       "118685                          46.0    2202.0    4.260870   \n",
       "118686                          46.0    2202.0    4.260870   \n",
       "\n",
       "        pa_bahn-geschwindigkeit_m/min  pa_raum_temperatur_start_c  ...  \\\n",
       "0                                 9.0                        24.0  ...   \n",
       "1                                 9.0                        24.0  ...   \n",
       "2                                 9.0                        24.0  ...   \n",
       "3                                 9.0                        24.0  ...   \n",
       "4                                 9.0                        24.0  ...   \n",
       "...                               ...                         ...  ...   \n",
       "118682                            9.0                        23.4  ...   \n",
       "118683                            9.0                        23.4  ...   \n",
       "118684                            9.0                        23.4  ...   \n",
       "118685                            9.0                        23.4  ...   \n",
       "118686                            9.0                        23.4  ...   \n",
       "\n",
       "        pa_air-knife_vor_amin_bad_mean  airknife_vor_amin_trockner_mean  \\\n",
       "0                                 80.0                            40.00   \n",
       "1                                 80.0                            40.00   \n",
       "2                                 80.0                            40.00   \n",
       "3                                 80.0                            40.00   \n",
       "4                                 80.0                            40.00   \n",
       "...                                ...                              ...   \n",
       "118682                            40.0                            18.75   \n",
       "118683                            40.0                            18.75   \n",
       "118684                            40.0                            18.75   \n",
       "118685                            40.0                            18.75   \n",
       "118686                            40.0                            18.75   \n",
       "\n",
       "        pa_amin-trockner_feuchtigkeit_danfugt_bs_mean  \\\n",
       "0                                                57.0   \n",
       "1                                                57.0   \n",
       "2                                                57.0   \n",
       "3                                                57.0   \n",
       "4                                                57.0   \n",
       "...                                               ...   \n",
       "118682                                           35.8   \n",
       "118683                                           35.8   \n",
       "118684                                           35.8   \n",
       "118685                                           35.8   \n",
       "118686                                           35.8   \n",
       "\n",
       "        pa_amin-trockner_feuchtigkeit_danfugt_as_mean  \\\n",
       "0                                                56.0   \n",
       "1                                                56.0   \n",
       "2                                                56.0   \n",
       "3                                                56.0   \n",
       "4                                                56.0   \n",
       "...                                               ...   \n",
       "118682                                           34.4   \n",
       "118683                                           34.4   \n",
       "118684                                           34.4   \n",
       "118685                                           34.4   \n",
       "118686                                           34.4   \n",
       "\n",
       "        pa_amin-trockner_feuchtigkeit_cofely_mean  ps_dicke_mean  \\\n",
       "0                                         79.8500     134.785714   \n",
       "1                                         79.8500     134.785714   \n",
       "2                                         79.8500     134.785714   \n",
       "3                                         79.8500     134.785714   \n",
       "4                                         79.8500     134.785714   \n",
       "...                                           ...            ...   \n",
       "118682                                    39.7875     133.571429   \n",
       "118683                                    39.7875     133.571429   \n",
       "118684                                    39.7875     133.571429   \n",
       "118685                                    39.7875     133.571429   \n",
       "118686                                    39.7875     133.571429   \n",
       "\n",
       "        ps_bad_temperatur_mean  ps_auftragswerk_feuchtigkeit_mean  \\\n",
       "0                    21.688889                             75.625   \n",
       "1                    21.688889                             75.625   \n",
       "2                    21.688889                             75.625   \n",
       "3                    21.688889                             75.625   \n",
       "4                    21.688889                             75.625   \n",
       "...                        ...                                ...   \n",
       "118682               12.300000                             27.625   \n",
       "118683               12.300000                             27.625   \n",
       "118684               12.300000                             27.625   \n",
       "118685               12.300000                             27.625   \n",
       "118686               12.300000                             27.625   \n",
       "\n",
       "        sc_d_links_werte_mean  sc_d_rechts_werte_mean  \n",
       "0                         0.0                     0.0  \n",
       "1                         0.0                     0.0  \n",
       "2                         0.0                     0.0  \n",
       "3                         0.0                     0.0  \n",
       "4                         0.0                     0.0  \n",
       "...                       ...                     ...  \n",
       "118682                    0.0                     0.0  \n",
       "118683                    0.0                     0.0  \n",
       "118684                    0.0                     0.0  \n",
       "118685                    0.0                     0.0  \n",
       "118686                    0.0                     0.0  \n",
       "\n",
       "[117862 rows x 133 columns]"
      ]
     },
     "execution_count": 50,
     "metadata": {},
     "output_type": "execute_result"
    }
   ],
   "source": [
    "dfnumeric = df7.select_dtypes(include = ['float64','int'])\n",
    "dfnumeric"
   ]
  },
  {
   "cell_type": "markdown",
   "metadata": {},
   "source": [
    "#### 9. Correlation check with VIF, checks for multicollinearity"
   ]
  },
  {
   "cell_type": "code",
   "execution_count": 19,
   "metadata": {},
   "outputs": [],
   "source": [
    "# multiple regression\n",
    "mask = dfnumeric['qc_salzrckhalt']!=0\n",
    "dfnumeric = dfnumeric[mask]\n",
    "\n",
    "X =dfnumeric.drop('qc_salzrckhalt', axis =1)\n",
    "y =dfnumeric['qc_salzrckhalt']"
   ]
  },
  {
   "cell_type": "code",
   "execution_count": 20,
   "metadata": {},
   "outputs": [],
   "source": [
    "# Implementing VIF\n",
    "from patsy import dmatrices\n",
    "import statsmodels.api as sm\n",
    "from statsmodels.stats.outliers_influence import variance_inflation_factor"
   ]
  },
  {
   "cell_type": "code",
   "execution_count": 21,
   "metadata": {},
   "outputs": [],
   "source": [
    "# For each X, calculate VIF and save in dataframe\n",
    "vif = pd.DataFrame()\n",
    "vif[\"VIF Factor\"] = [variance_inflation_factor(X.values, i) for i in range(X.shape[1])]\n",
    "vif[\"features\"] = X.columns"
   ]
  },
  {
   "cell_type": "code",
   "execution_count": 51,
   "metadata": {},
   "outputs": [],
   "source": [
    "#vif.max(10)\n",
    "test = vif['VIF Factor'] > 5   #rule of thumb suggested https://pvanb.wordpress.com/2016/04/25/vif-stepwise-variable-selection/\n",
    "#pd.DataFrame(np.sort(vif.values)[:,-1:], columns=['2nd-largest','largest'])\n",
    "test1 = vif[test]\n",
    "test1.shape\n",
    "vifList = []\n",
    "for i in test1['features']:\n",
    "    vifList.append(i)\n"
   ]
  },
  {
   "cell_type": "code",
   "execution_count": 52,
   "metadata": {},
   "outputs": [
    {
     "data": {
      "text/plain": [
       "102"
      ]
     },
     "execution_count": 52,
     "metadata": {},
     "output_type": "execute_result"
    }
   ],
   "source": [
    "len(vifList)"
   ]
  },
  {
   "cell_type": "code",
   "execution_count": 53,
   "metadata": {},
   "outputs": [],
   "source": [
    "for i in vifList:\n",
    "    df7.drop(i, axis = 1, inplace = True)\n",
    "\n",
    "    df7.to_pickle('data_process_after_vif')\n"
   ]
  },
  {
   "cell_type": "code",
   "execution_count": 54,
   "metadata": {},
   "outputs": [],
   "source": [
    "df8 = df7.copy()"
   ]
  },
  {
   "cell_type": "markdown",
   "metadata": {},
   "source": [
    "#### 9. Determine if ther is remaining correlation between the features and features and target variable\n",
    "\n",
    "- 1. Pearson\n",
    "- 2. Spearman\n",
    "- 3. Kendall\n",
    "\n",
    "only variables which show high correlation in all of them will be removed"
   ]
  },
  {
   "cell_type": "code",
   "execution_count": 25,
   "metadata": {},
   "outputs": [
    {
     "data": {
      "text/plain": [
       "[]"
      ]
     },
     "execution_count": 25,
     "metadata": {},
     "output_type": "execute_result"
    }
   ],
   "source": [
    "dfnumeric = df7.select_dtypes(include = ['float64','int'])\n",
    "# Pearson correlation test for numeric variables\n",
    "import numpy as np\n",
    "corr_matrix = dfnumeric.corr(method = 'pearson')\n",
    "# Select upper triangle of correlation matrix\n",
    "upper = corr_matrix.where(np.triu(np.ones(corr_matrix.shape), k=1).astype(np.bool))\n",
    "# Find index of feature columns with correlation greater than 0.90\n",
    "to_drop_pearson = [column for column in upper.columns if any(upper[column] > 0.90)]\n",
    "to_drop_pearson  "
   ]
  },
  {
   "cell_type": "code",
   "execution_count": 26,
   "metadata": {},
   "outputs": [
    {
     "data": {
      "text/plain": [
       "qc_salzrckhalt                                         1.000000\n",
       "qc_lasttest                                            0.305255\n",
       "pa_amin-trockner_temperatur_danfugt_c                  0.017324\n",
       "ct1_anfang_0m_%                                        0.015969\n",
       "ps_bad_temperatur_mean                                 0.010372\n",
       "pa_staub-sauger_5                                      0.009003\n",
       "ct1_ende_4300m_rej_%                                   0.007610\n",
       "pa_amin-trockner_feuchtigkeit_cofely_mean              0.006599\n",
       "ps_gap_micro_m                                         0.005839\n",
       "ps_auftragswerk_feuchtigkeit_mean                      0.005568\n",
       "pa_bad-wechsel_hw2                                     0.005518\n",
       "pa_staub-sauger_2_nach_aminbad                         0.005116\n",
       "pa_decan-trockner_geblase_start_%                      0.004078\n",
       "pa_air-knife_vor_amin_bad_mean                         0.002950\n",
       "pa_cm-pda_mean                                         0.002429\n",
       "ct1_ende_flux_m3/m2/d                                  0.001763\n",
       "pa_decan-trockner_geblase_ende_%                       0.000967\n",
       "sc_l_leak_hand                                         0.000412\n",
       "ps_raum_temperatur_start_c                            -0.000333\n",
       "pp_actual_usage                                       -0.000376\n",
       "ps_auftragsbank_temperatur_start_c                    -0.000406\n",
       "pa_temperatur_alkali-lsg_chem_vorbereitung_start_c    -0.001679\n",
       "pa_vertikale_feuchte_oben_start_%                     -0.001732\n",
       "pa_temperatur_chlorbad_start_c                        -0.002935\n",
       "pa_amin-trockner_temperatur_cofely_c                  -0.003096\n",
       "leak_test_scrap_%                                     -0.003617\n",
       "pp_sequence_aw1_winding                               -0.004133\n",
       "qt_scrap_%                                            -0.004680\n",
       "pa_temperatur_n-decan-lsg_chem_vorbereitung_start_c   -0.004899\n",
       "pa_temperatur_m-pda-bad_c                             -0.005812\n",
       "ps_raum-feuchtigkeit_start_%                          -0.005997\n",
       "sc_l_ergebnis_p_nio                                   -0.006211\n",
       "sc_l_leak_auto                                        -0.007451\n",
       "pa_raum_temperatur_start_c                            -0.009434\n",
       "pa_raum_feuchte_start_%                               -0.010687\n",
       "pa_amin-trockner_feuchtigkeit_danfugt_as_mean         -0.011744\n",
       "ps_dicke_mean                                         -0.012068\n",
       "pa_amin-trockner_feuchtigkeit_danfugt_bs_mean         -0.014486\n",
       "sc_l_pressure_prozent                                 -0.022905\n",
       "airknife_vor_amin_trockner_mean                       -0.024113\n",
       "pp_sequence_aw2_winding                               -0.026927\n",
       "pa_ndecan/tmc                                         -0.035190\n",
       "pa_staub-sauger_1_vor_aminbad_0_aus_>0_an             -0.036035\n",
       "qc_b-value_m/s_10-6                                   -0.051309\n",
       "Name: qc_salzrckhalt, dtype: float64"
      ]
     },
     "execution_count": 26,
     "metadata": {},
     "output_type": "execute_result"
    }
   ],
   "source": [
    "dfnumeric.corr(method = 'pearson')['qc_salzrckhalt'].sort_values(ascending = False) "
   ]
  },
  {
   "cell_type": "code",
   "execution_count": 27,
   "metadata": {},
   "outputs": [
    {
     "data": {
      "text/plain": [
       "[]"
      ]
     },
     "execution_count": 27,
     "metadata": {},
     "output_type": "execute_result"
    }
   ],
   "source": [
    "corr_matrix = dfnumeric.corr(method = 'kendall')\n",
    "# Select upper triangle of correlation matrix\n",
    "upper = corr_matrix.where(np.triu(np.ones(corr_matrix.shape), k=1).astype(np.bool))\n",
    "# Find index of feature columns with correlation greater than 0.90\n",
    "to_drop_kendall = [column for column in upper.columns if any(upper[column] > 0.90)]\n",
    "to_drop_kendall "
   ]
  },
  {
   "cell_type": "code",
   "execution_count": 29,
   "metadata": {},
   "outputs": [
    {
     "data": {
      "text/plain": [
       "qc_salzrckhalt                                         1.000000\n",
       "pa_amin-trockner_temperatur_danfugt_c                  0.340491\n",
       "pa_cm-pda_mean                                         0.223506\n",
       "pa_amin-trockner_feuchtigkeit_cofely_mean              0.143591\n",
       "ct1_anfang_0m_%                                        0.136676\n",
       "ct1_ende_4300m_rej_%                                   0.130369\n",
       "ct1_ende_flux_m3/m2/d                                  0.114502\n",
       "pa_amin-trockner_temperatur_cofely_c                   0.096939\n",
       "pa_temperatur_n-decan-lsg_chem_vorbereitung_start_c    0.076761\n",
       "pa_staub-sauger_5                                      0.072667\n",
       "ps_auftragsbank_temperatur_start_c                     0.058633\n",
       "ps_gap_micro_m                                         0.045165\n",
       "qc_lasttest                                            0.043236\n",
       "pa_bad-wechsel_hw2                                     0.040196\n",
       "pa_temperatur_m-pda-bad_c                              0.037297\n",
       "pp_sequence_aw2_winding                                0.035545\n",
       "pp_actual_usage                                        0.032471\n",
       "pa_air-knife_vor_amin_bad_mean                         0.030091\n",
       "ps_bad_temperatur_mean                                 0.025622\n",
       "pa_staub-sauger_2_nach_aminbad                         0.018766\n",
       "airknife_vor_amin_trockner_mean                        0.017061\n",
       "pa_raum_feuchte_start_%                                0.016725\n",
       "pa_decan-trockner_geblase_ende_%                       0.002037\n",
       "ps_raum_temperatur_start_c                            -0.001562\n",
       "pa_vertikale_feuchte_oben_start_%                     -0.001651\n",
       "pa_temperatur_chlorbad_start_c                        -0.001905\n",
       "ps_dicke_mean                                         -0.003997\n",
       "sc_l_leak_hand                                        -0.005035\n",
       "pa_amin-trockner_feuchtigkeit_danfugt_as_mean         -0.020021\n",
       "pa_temperatur_alkali-lsg_chem_vorbereitung_start_c    -0.026696\n",
       "sc_l_ergebnis_p_nio                                   -0.040383\n",
       "leak_test_scrap_%                                     -0.046695\n",
       "pa_amin-trockner_feuchtigkeit_danfugt_bs_mean         -0.052289\n",
       "pa_raum_temperatur_start_c                            -0.057523\n",
       "pa_ndecan/tmc                                         -0.065191\n",
       "pa_staub-sauger_1_vor_aminbad_0_aus_>0_an             -0.069447\n",
       "qt_scrap_%                                            -0.073662\n",
       "ps_raum-feuchtigkeit_start_%                          -0.092199\n",
       "ps_auftragswerk_feuchtigkeit_mean                     -0.125135\n",
       "sc_l_pressure_prozent                                 -0.135890\n",
       "pp_sequence_aw1_winding                               -0.136057\n",
       "pa_decan-trockner_geblase_start_%                     -0.150420\n",
       "sc_l_leak_auto                                        -0.176941\n",
       "qc_b-value_m/s_10-6                                   -0.694793\n",
       "Name: qc_salzrckhalt, dtype: float64"
      ]
     },
     "execution_count": 29,
     "metadata": {},
     "output_type": "execute_result"
    }
   ],
   "source": [
    "dfnumeric.corr(method = 'kendall')['qc_salzrckhalt'].sort_values(ascending = False) "
   ]
  },
  {
   "cell_type": "code",
   "execution_count": 30,
   "metadata": {},
   "outputs": [
    {
     "data": {
      "text/plain": [
       "['pa_amin-trockner_feuchtigkeit_danfugt_as_mean']"
      ]
     },
     "execution_count": 30,
     "metadata": {},
     "output_type": "execute_result"
    }
   ],
   "source": [
    "corr_matrix = dfnumeric.corr(method = 'spearman')\n",
    "# Select upper triangle of correlation matrix\n",
    "upper = corr_matrix.where(np.triu(np.ones(corr_matrix.shape), k=1).astype(np.bool))\n",
    "# Find index of feature columns with correlation greater than 0.90\n",
    "to_drop_spearman = [column for column in upper.columns if any(upper[column] > 0.90)]\n",
    "to_drop_spearman "
   ]
  },
  {
   "cell_type": "code",
   "execution_count": 31,
   "metadata": {},
   "outputs": [
    {
     "name": "stdout",
     "output_type": "stream",
     "text": [
      "1\n",
      "0\n",
      "0\n"
     ]
    }
   ],
   "source": [
    "print(len(to_drop_spearman))\n",
    "print(len(to_drop_kendall))\n",
    "print(len(to_drop_pearson))"
   ]
  },
  {
   "cell_type": "code",
   "execution_count": 32,
   "metadata": {},
   "outputs": [
    {
     "data": {
      "text/html": [
       "<div>\n",
       "<style scoped>\n",
       "    .dataframe tbody tr th:only-of-type {\n",
       "        vertical-align: middle;\n",
       "    }\n",
       "\n",
       "    .dataframe tbody tr th {\n",
       "        vertical-align: top;\n",
       "    }\n",
       "\n",
       "    .dataframe thead th {\n",
       "        text-align: right;\n",
       "    }\n",
       "</style>\n",
       "<table border=\"1\" class=\"dataframe\">\n",
       "  <thead>\n",
       "    <tr style=\"text-align: right;\">\n",
       "      <th></th>\n",
       "      <th>qc_salzrckhalt</th>\n",
       "    </tr>\n",
       "  </thead>\n",
       "  <tbody>\n",
       "    <tr>\n",
       "      <th>0</th>\n",
       "      <td>99.455138</td>\n",
       "    </tr>\n",
       "    <tr>\n",
       "      <th>1</th>\n",
       "      <td>99.530406</td>\n",
       "    </tr>\n",
       "    <tr>\n",
       "      <th>2</th>\n",
       "      <td>99.523320</td>\n",
       "    </tr>\n",
       "    <tr>\n",
       "      <th>3</th>\n",
       "      <td>99.567549</td>\n",
       "    </tr>\n",
       "    <tr>\n",
       "      <th>4</th>\n",
       "      <td>99.577392</td>\n",
       "    </tr>\n",
       "    <tr>\n",
       "      <th>...</th>\n",
       "      <td>...</td>\n",
       "    </tr>\n",
       "    <tr>\n",
       "      <th>118682</th>\n",
       "      <td>99.404884</td>\n",
       "    </tr>\n",
       "    <tr>\n",
       "      <th>118683</th>\n",
       "      <td>99.453192</td>\n",
       "    </tr>\n",
       "    <tr>\n",
       "      <th>118684</th>\n",
       "      <td>99.407655</td>\n",
       "    </tr>\n",
       "    <tr>\n",
       "      <th>118685</th>\n",
       "      <td>99.484820</td>\n",
       "    </tr>\n",
       "    <tr>\n",
       "      <th>118686</th>\n",
       "      <td>99.450385</td>\n",
       "    </tr>\n",
       "  </tbody>\n",
       "</table>\n",
       "<p>117862 rows × 1 columns</p>\n",
       "</div>"
      ],
      "text/plain": [
       "        qc_salzrckhalt\n",
       "0            99.455138\n",
       "1            99.530406\n",
       "2            99.523320\n",
       "3            99.567549\n",
       "4            99.577392\n",
       "...                ...\n",
       "118682       99.404884\n",
       "118683       99.453192\n",
       "118684       99.407655\n",
       "118685       99.484820\n",
       "118686       99.450385\n",
       "\n",
       "[117862 rows x 1 columns]"
      ]
     },
     "execution_count": 32,
     "metadata": {},
     "output_type": "execute_result"
    }
   ],
   "source": [
    "CorrList = set(to_drop_pearson).intersection(to_drop_kendall, to_drop_spearman)\n",
    "len(CorrList)\n",
    "CorrList\n",
    "dfCorr = df7.loc[:,CorrList].join(dfnumeric['qc_salzrckhalt'])\n",
    "dfCorr\n"
   ]
  },
  {
   "cell_type": "code",
   "execution_count": 33,
   "metadata": {},
   "outputs": [
    {
     "data": {
      "text/plain": [
       "qc_salzrckhalt    1.0\n",
       "Name: qc_salzrckhalt, dtype: float64"
      ]
     },
     "execution_count": 33,
     "metadata": {},
     "output_type": "execute_result"
    }
   ],
   "source": [
    "dfCorr.corr(method = 'kendall')['qc_salzrckhalt'].sort_values(ascending = False) "
   ]
  },
  {
   "cell_type": "code",
   "execution_count": 34,
   "metadata": {},
   "outputs": [
    {
     "data": {
      "text/plain": [
       "qc_salzrckhalt    1.0\n",
       "Name: qc_salzrckhalt, dtype: float64"
      ]
     },
     "execution_count": 34,
     "metadata": {},
     "output_type": "execute_result"
    }
   ],
   "source": [
    "dfCorr.corr(method = 'pearson')['qc_salzrckhalt'].sort_values(ascending = False) "
   ]
  },
  {
   "cell_type": "code",
   "execution_count": 35,
   "metadata": {},
   "outputs": [
    {
     "data": {
      "text/plain": [
       "qc_salzrckhalt    1.0\n",
       "Name: qc_salzrckhalt, dtype: float64"
      ]
     },
     "execution_count": 35,
     "metadata": {},
     "output_type": "execute_result"
    }
   ],
   "source": [
    "dfCorr.corr(method = 'spearman')['qc_salzrckhalt'].sort_values(ascending = False) "
   ]
  },
  {
   "cell_type": "code",
   "execution_count": null,
   "metadata": {},
   "outputs": [],
   "source": [
    "### almost all highly correlated variables were removed"
   ]
  },
  {
   "attachments": {},
   "cell_type": "markdown",
   "metadata": {},
   "source": [
    " The data set has been reduced in feature size. \n",
    " The additionally attached png titles B085_scattermatrix and B400_scattermatrix show the following\n",
    " (qc_diff is the difference between the measured value and the theory value):\n",
    " \n",
    " - with increasing values for chlorconc the dispersion of the qc_salzrckhalt inreases.\n",
    " - with increasing values for pa_cm-pda the dispersion of the qc_salzrckhalt increases.\n",
    " - with increasing values for amin-trockner the dispersion of the qc_salzrckhalt increases."
   ]
  },
  {
   "cell_type": "markdown",
   "metadata": {},
   "source": [
    "## Data Modelling  with linear models"
   ]
  },
  {
   "cell_type": "code",
   "execution_count": 55,
   "metadata": {},
   "outputs": [],
   "source": [
    "# filtering out zero values \n",
    "mask = df8['qc_salzrckhalt']!=0\n",
    "df8 = df8[mask]\n",
    "df8 = df8.reset_index(drop = True)\n",
    "df_numeric = df8.select_dtypes(include = ['float64', 'int'])"
   ]
  },
  {
   "cell_type": "code",
   "execution_count": 56,
   "metadata": {},
   "outputs": [],
   "source": [
    "# Create feature and target set\n",
    "targetVariables = ['qc_b-value_m/s_10-6','qc_salzrckhalt',] #'qc_flux_l/m2/h' ,'qc_durchfluss' 'qc_a-value_l/m2/h/bar'\n",
    "X = df_numeric.drop(targetVariables, axis = 1)\n",
    "y = (df_numeric['qc_salzrckhalt'])"
   ]
  },
  {
   "cell_type": "code",
   "execution_count": 57,
   "metadata": {},
   "outputs": [],
   "source": [
    "# Standardize feature set\n",
    "import sklearn\n",
    "from sklearn.preprocessing import StandardScaler\n",
    "\n",
    "scaled_features = StandardScaler().fit_transform(X.values)\n",
    "scaled_features_df = pd.DataFrame(scaled_features, index=X.index, columns=X.columns)\n",
    "X = scaled_features_df"
   ]
  },
  {
   "cell_type": "code",
   "execution_count": 58,
   "metadata": {},
   "outputs": [],
   "source": [
    "from sklearn.model_selection import train_test_split\n",
    "X_train, X_test, y_train, y_test = train_test_split(X, y, test_size=0.3, random_state=42)"
   ]
  },
  {
   "cell_type": "code",
   "execution_count": 59,
   "metadata": {},
   "outputs": [
    {
     "name": "stdout",
     "output_type": "stream",
     "text": [
      "BayesianRegressor Training set score: 0.02\n"
     ]
    },
    {
     "name": "stderr",
     "output_type": "stream",
     "text": [
      "/home/elron/anaconda3/envs/da/lib/python3.7/site-packages/numpy/core/fromnumeric.py:2495: FutureWarning: Method .ptp is deprecated and will be removed in a future version. Use numpy.ptp instead.\n",
      "  return ptp(axis=axis, out=out, **kwargs)\n",
      "/home/elron/anaconda3/envs/da/lib/python3.7/site-packages/numpy/core/fromnumeric.py:2495: FutureWarning: Method .ptp is deprecated and will be removed in a future version. Use numpy.ptp instead.\n",
      "  return ptp(axis=axis, out=out, **kwargs)\n"
     ]
    },
    {
     "data": {
      "image/png": "[encoded data removed]",
      "text/plain": [
       "<Figure size 432x432 with 1 Axes>"
      ]
     },
     "metadata": {
      "needs_background": "light"
     },
     "output_type": "display_data"
    },
    {
     "data": {
      "image/png": "[encoded data removed]",
      "text/plain": [
       "<Figure size 1296x360 with 2 Axes>"
      ]
     },
     "metadata": {
      "needs_background": "light"
     },
     "output_type": "display_data"
    },
    {
     "data": {
      "text/plain": [
       "<Figure size 432x288 with 0 Axes>"
      ]
     },
     "metadata": {},
     "output_type": "display_data"
    }
   ],
   "source": [
    "# import user made function\n",
    "import linReg\n",
    "from linReg import LinFunc\n",
    "LinFunc(X_train,y_train,X_test,y_test,X, y, 'qc_salzrckhalt', 'BayesianRegressor')"
   ]
  },
  {
   "cell_type": "code",
   "execution_count": 60,
   "metadata": {},
   "outputs": [
    {
     "name": "stdout",
     "output_type": "stream",
     "text": [
      "RigidRegression Training set score: 0.02\n"
     ]
    },
    {
     "name": "stderr",
     "output_type": "stream",
     "text": [
      "/home/elron/anaconda3/envs/da/lib/python3.7/site-packages/numpy/core/fromnumeric.py:2495: FutureWarning: Method .ptp is deprecated and will be removed in a future version. Use numpy.ptp instead.\n",
      "  return ptp(axis=axis, out=out, **kwargs)\n",
      "/home/elron/anaconda3/envs/da/lib/python3.7/site-packages/numpy/core/fromnumeric.py:2495: FutureWarning: Method .ptp is deprecated and will be removed in a future version. Use numpy.ptp instead.\n",
      "  return ptp(axis=axis, out=out, **kwargs)\n"
     ]
    },
    {
     "data": {
      "image/png": "[encoded data removed]",
      "text/plain": [
       "<Figure size 432x432 with 1 Axes>"
      ]
     },
     "metadata": {
      "needs_background": "light"
     },
     "output_type": "display_data"
    },
    {
     "data": {
      "image/png": "[encoded data removed]",
      "text/plain": [
       "<Figure size 1296x360 with 2 Axes>"
      ]
     },
     "metadata": {
      "needs_background": "light"
     },
     "output_type": "display_data"
    },
    {
     "data": {
      "text/plain": [
       "<Figure size 432x288 with 0 Axes>"
      ]
     },
     "metadata": {},
     "output_type": "display_data"
    }
   ],
   "source": [
    "LinFunc(X_train,y_train,X_test,y_test,X, y, 'qc_salzrckhalt', 'RigidRegression')"
   ]
  },
  {
   "cell_type": "code",
   "execution_count": null,
   "metadata": {},
   "outputs": [],
   "source": [
    "LinFunc(X_train,y_train,X_test,y_test,X, y, 'qc_salzrckhalt', 'SVM')"
   ]
  },
  {
   "cell_type": "code",
   "execution_count": 61,
   "metadata": {},
   "outputs": [
    {
     "name": "stderr",
     "output_type": "stream",
     "text": [
      "/home/elron/anaconda3/envs/da/lib/python3.7/site-packages/numpy/core/fromnumeric.py:2495: FutureWarning: Method .ptp is deprecated and will be removed in a future version. Use numpy.ptp instead.\n",
      "  return ptp(axis=axis, out=out, **kwargs)\n",
      "/home/elron/anaconda3/envs/da/lib/python3.7/site-packages/numpy/core/fromnumeric.py:2495: FutureWarning: Method .ptp is deprecated and will be removed in a future version. Use numpy.ptp instead.\n",
      "  return ptp(axis=axis, out=out, **kwargs)\n"
     ]
    },
    {
     "data": {
      "image/png": "[encoded data removed]",
      "text/plain": [
       "<Figure size 432x432 with 1 Axes>"
      ]
     },
     "metadata": {
      "needs_background": "light"
     },
     "output_type": "display_data"
    },
    {
     "data": {
      "image/png": "[encoded data removed]",
      "text/plain": [
       "<Figure size 1296x360 with 2 Axes>"
      ]
     },
     "metadata": {
      "needs_background": "light"
     },
     "output_type": "display_data"
    },
    {
     "data": {
      "text/plain": [
       "<Figure size 432x288 with 0 Axes>"
      ]
     },
     "metadata": {},
     "output_type": "display_data"
    }
   ],
   "source": [
    "LinFunc(X_train,y_train,X_test,y_test,X, y, 'qc_salzrckhalt', 'KNeighbors')"
   ]
  },
  {
   "cell_type": "code",
   "execution_count": 62,
   "metadata": {},
   "outputs": [
    {
     "name": "stdout",
     "output_type": "stream",
     "text": [
      "DecisionTree Training set score: 0.89\n"
     ]
    },
    {
     "name": "stderr",
     "output_type": "stream",
     "text": [
      "/home/elron/anaconda3/envs/da/lib/python3.7/site-packages/numpy/core/fromnumeric.py:2495: FutureWarning: Method .ptp is deprecated and will be removed in a future version. Use numpy.ptp instead.\n",
      "  return ptp(axis=axis, out=out, **kwargs)\n",
      "/home/elron/anaconda3/envs/da/lib/python3.7/site-packages/numpy/core/fromnumeric.py:2495: FutureWarning: Method .ptp is deprecated and will be removed in a future version. Use numpy.ptp instead.\n",
      "  return ptp(axis=axis, out=out, **kwargs)\n"
     ]
    },
    {
     "data": {
      "image/png": "[encoded data removed]",
      "text/plain": [
       "<Figure size 432x432 with 1 Axes>"
      ]
     },
     "metadata": {
      "needs_background": "light"
     },
     "output_type": "display_data"
    },
    {
     "data": {
      "image/png": "[encoded data removed]",
      "text/plain": [
       "<Figure size 1296x360 with 2 Axes>"
      ]
     },
     "metadata": {
      "needs_background": "light"
     },
     "output_type": "display_data"
    },
    {
     "data": {
      "text/plain": [
       "<Figure size 432x288 with 0 Axes>"
      ]
     },
     "metadata": {},
     "output_type": "display_data"
    }
   ],
   "source": [
    "LinFunc(X_train,y_train,X_test,y_test,X, y, 'qc_salzrckhalt', 'DecisionTree')"
   ]
  },
  {
   "cell_type": "markdown",
   "metadata": {},
   "source": [
    " - The residual plot of all models show much room for improvement. Although they are symetrical distributed and  clustered around low y-axis values, there are a significant amount of points who are far away\n",
    " \n",
    "- The models predicitions are not good at all.\n",
    " \n",
    " \n",
    " "
   ]
  },
  {
   "cell_type": "code",
   "execution_count": null,
   "metadata": {},
   "outputs": [],
   "source": []
  }
 ],
 "metadata": {
  "kernelspec": {
   "display_name": "Elron",
   "language": "python",
   "name": "elron"
  },
  "language_info": {
   "codemirror_mode": {
    "name": "ipython",
    "version": 3
   },
   "file_extension": ".py",
   "mimetype": "text/x-python",
   "name": "python",
   "nbconvert_exporter": "python",
   "pygments_lexer": "ipython3",
   "version": "3.7.4"
  }
 },
 "nbformat": 4,
 "nbformat_minor": 2
}
